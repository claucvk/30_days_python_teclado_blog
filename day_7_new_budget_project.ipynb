{
 "cells": [
  {
   "cell_type": "code",
   "execution_count": 1,
   "metadata": {},
   "outputs": [],
   "source": [
    "movies = [\n",
    "    (\"Eternal Sunshine of the Spotless Mind\", 20000000),\n",
    "    (\"Memento\", 9000000),\n",
    "    (\"Requiem for a Dream\", 4500000),\n",
    "    (\"Pirates of the Caribbean: On stranger Tides\", 379000000),\n",
    "    (\"Avengers: Age of Ultron\", 365000000),\n",
    "    (\"Avengers: Endgame\", 356000000),\n",
    "    (\"Incredible 2\", 200000000)\n",
    "]"
   ]
  },
  {
   "cell_type": "code",
   "execution_count": 2,
   "metadata": {},
   "outputs": [],
   "source": [
    "# Allow users to add more movies to the data set before running the calculations."
   ]
  },
  {
   "cell_type": "code",
   "execution_count": 3,
   "metadata": {},
   "outputs": [
    {
     "name": "stdin",
     "output_type": "stream",
     "text": [
      "Enter the number of movies that you want to add:  2\n"
     ]
    }
   ],
   "source": [
    "num_of_movies_to_add = int(input(\"Enter the number of movies that you want to add: \"))"
   ]
  },
  {
   "cell_type": "code",
   "execution_count": 4,
   "metadata": {},
   "outputs": [
    {
     "name": "stdin",
     "output_type": "stream",
     "text": [
      "Enter the name and the budget of the movie, separated by a comma:  comelona fenomenal, 456000\n",
      "Enter the name and the budget of the movie, separated by a comma:  El misterio infernal, 365000000\n"
     ]
    }
   ],
   "source": [
    "for _ in range(num_of_movies_to_add):\n",
    "    movie_info = input(\"Enter the name and the budget of the movie, separated by a comma: \").strip().split(\",\")\n",
    "    movie_info[1] = int(movie_info[1])\n",
    "    movies.append(tuple(movie_info))\n",
    "#     name = input(\"Enter new movie name: \")\n",
    "#     budget = int(input(\"Enter new movie budget: \"))\n",
    "#     new_movie = (name, budget)\n",
    "#     movies.append(tuple(new_movie))"
   ]
  },
  {
   "cell_type": "code",
   "execution_count": 5,
   "metadata": {},
   "outputs": [
    {
     "data": {
      "text/plain": [
       "[('Eternal Sunshine of the Spotless Mind', 20000000),\n",
       " ('Memento', 9000000),\n",
       " ('Requiem for a Dream', 4500000),\n",
       " ('Pirates of the Caribbean: On stranger Tides', 379000000),\n",
       " ('Avengers: Age of Ultron', 365000000),\n",
       " ('Avengers: Endgame', 356000000),\n",
       " ('Incredible 2', 200000000),\n",
       " ('comelona fenomenal', 456000),\n",
       " ('El misterio infernal', 365000000)]"
      ]
     },
     "execution_count": 5,
     "metadata": {},
     "output_type": "execute_result"
    }
   ],
   "source": [
    "movies"
   ]
  },
  {
   "cell_type": "code",
   "execution_count": 6,
   "metadata": {},
   "outputs": [],
   "source": [
    "# Calculate the average budget of all movies in the data set."
   ]
  },
  {
   "cell_type": "code",
   "execution_count": 33,
   "metadata": {},
   "outputs": [],
   "source": [
    "budget_sum = 0\n",
    "budget_average = 0"
   ]
  },
  {
   "cell_type": "code",
   "execution_count": 34,
   "metadata": {},
   "outputs": [],
   "source": [
    "for movie in movies:\n",
    "    budget_sum += movie[1]\n"
   ]
  },
  {
   "cell_type": "code",
   "execution_count": 35,
   "metadata": {},
   "outputs": [],
   "source": [
    "budget_average = int(budget_sum / len(movies))"
   ]
  },
  {
   "cell_type": "code",
   "execution_count": 36,
   "metadata": {},
   "outputs": [
    {
     "data": {
      "text/plain": [
       "188772888"
      ]
     },
     "execution_count": 36,
     "metadata": {},
     "output_type": "execute_result"
    }
   ],
   "source": [
    "budget_average"
   ]
  },
  {
   "cell_type": "code",
   "execution_count": 37,
   "metadata": {},
   "outputs": [],
   "source": [
    "movies_higher_budget = []"
   ]
  },
  {
   "cell_type": "code",
   "execution_count": 38,
   "metadata": {},
   "outputs": [],
   "source": [
    "# Print out every movie that has a budget higher than the average you calculated.\n",
    "# You should also print out how much higher than the average the movie's budget was.\n",
    "# Print out how many movies spent more than the average you calculated"
   ]
  },
  {
   "cell_type": "code",
   "execution_count": 39,
   "metadata": {},
   "outputs": [
    {
     "name": "stdout",
     "output_type": "stream",
     "text": [
      "Pirates of the Caribbean: On stranger Tides's budget ($379,000,000) is higher than the average movie's budget by $190,227,112\n",
      "Avengers: Age of Ultron's budget ($365,000,000) is higher than the average movie's budget by $176,227,112\n",
      "Avengers: Endgame's budget ($356,000,000) is higher than the average movie's budget by $167,227,112\n",
      "Incredible 2's budget ($200,000,000) is higher than the average movie's budget by $11,227,112\n",
      "El misterio infernal's budget ($365,000,000) is higher than the average movie's budget by $176,227,112\n"
     ]
    }
   ],
   "source": [
    "for movie in movies:\n",
    "    if movie[1] > budget_average:\n",
    "        movies_higher_budget.append(movie[1])\n",
    "        print(f\"{movie[0]}'s budget (${movie[1]:,}) is higher than the average movie's budget by ${movie[1] - budget_average:,}\")"
   ]
  },
  {
   "cell_type": "code",
   "execution_count": 40,
   "metadata": {},
   "outputs": [
    {
     "name": "stdout",
     "output_type": "stream",
     "text": [
      " 5 is the number of movies that have a higher average budget.\n"
     ]
    }
   ],
   "source": [
    "print(f\" {len(movies_higher_budget)} is the number of movies that have a higher average budget.\")"
   ]
  },
  {
   "cell_type": "code",
   "execution_count": null,
   "metadata": {},
   "outputs": [],
   "source": []
  }
 ],
 "metadata": {
  "kernelspec": {
   "display_name": "Python 3",
   "language": "python",
   "name": "python3"
  },
  "language_info": {
   "codemirror_mode": {
    "name": "ipython",
    "version": 3
   },
   "file_extension": ".py",
   "mimetype": "text/x-python",
   "name": "python",
   "nbconvert_exporter": "python",
   "pygments_lexer": "ipython3",
   "version": "3.8.7"
  }
 },
 "nbformat": 4,
 "nbformat_minor": 4
}
