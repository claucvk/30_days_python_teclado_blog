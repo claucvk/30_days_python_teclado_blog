{
 "cells": [
  {
   "cell_type": "code",
   "execution_count": null,
   "metadata": {},
   "outputs": [],
   "source": [
    "# Defining sets"
   ]
  },
  {
   "cell_type": "code",
   "execution_count": null,
   "metadata": {},
   "outputs": [],
   "source": [
    "vegetables = {\"carrot\", \"lettuce\", \"broccoli\", \"onion\", \"carrot\"}"
   ]
  },
  {
   "cell_type": "code",
   "execution_count": null,
   "metadata": {},
   "outputs": [],
   "source": [
    "vegetables # {'broccoli', 'carrot', 'lettuce', 'onion'} It doesn't print the last carrot because it was defined at the begining and the keys are unique"
   ]
  },
  {
   "cell_type": "code",
   "execution_count": null,
   "metadata": {},
   "outputs": [],
   "source": [
    "# Creating an empty set\n",
    "\n",
    "emp_set = set()"
   ]
  },
  {
   "cell_type": "code",
   "execution_count": null,
   "metadata": {},
   "outputs": [],
   "source": [
    "emp_set # if we print an empty set, it will print set() to distinguish the output from an empty dictionary which is {}"
   ]
  },
  {
   "cell_type": "code",
   "execution_count": null,
   "metadata": {},
   "outputs": [],
   "source": [
    "# There can't be nested sets - it is illegal in Python, will get a TypeError\n",
    "\n",
    "nested_sets = {{1, 2 , 3}, {\"a\", \"b\", \"c\"}} # TypeError: unhashable type: 'set'"
   ]
  },
  {
   "cell_type": "code",
   "execution_count": null,
   "metadata": {},
   "outputs": [],
   "source": [
    "# Modifying sets"
   ]
  },
  {
   "cell_type": "code",
   "execution_count": null,
   "metadata": {},
   "outputs": [],
   "source": [
    "# Adding items to a set\n",
    "vegetables = {\"carrot\", \"lettuce\", \"broccoli\", \"onion\"}\n",
    "vegetables.add(\"potato\")"
   ]
  },
  {
   "cell_type": "code",
   "execution_count": null,
   "metadata": {},
   "outputs": [],
   "source": [
    "vegetables # Cambia el order de elems {'broccoli', 'carrot', 'lettuce', 'onion', 'potato'}"
   ]
  },
  {
   "cell_type": "code",
   "execution_count": null,
   "metadata": {},
   "outputs": [],
   "source": [
    "vegetables.add(\"onion\") # No cambia el set porque onion ya estaba definido"
   ]
  },
  {
   "cell_type": "code",
   "execution_count": null,
   "metadata": {},
   "outputs": [],
   "source": [
    "vegetables"
   ]
  },
  {
   "cell_type": "code",
   "execution_count": null,
   "metadata": {},
   "outputs": [],
   "source": []
  },
  {
   "cell_type": "code",
   "execution_count": null,
   "metadata": {},
   "outputs": [],
   "source": [
    "# Add several items at once -> use update method\n",
    "vegetables.update([\"blue\", \"greens\", \"somoza\"])"
   ]
  },
  {
   "cell_type": "code",
   "execution_count": null,
   "metadata": {},
   "outputs": [],
   "source": [
    "vegetables"
   ]
  },
  {
   "cell_type": "code",
   "execution_count": null,
   "metadata": {},
   "outputs": [],
   "source": [
    "# Deleting items in a set"
   ]
  },
  {
   "cell_type": "code",
   "execution_count": null,
   "metadata": {},
   "outputs": [],
   "source": [
    "vegetables.remove(\"s\")"
   ]
  },
  {
   "cell_type": "code",
   "execution_count": null,
   "metadata": {},
   "outputs": [],
   "source": [
    "vegetables"
   ]
  },
  {
   "cell_type": "code",
   "execution_count": null,
   "metadata": {},
   "outputs": [],
   "source": [
    "vegetables.remove(\"s\") # No existe el item -> KeyError: 's'"
   ]
  },
  {
   "cell_type": "code",
   "execution_count": null,
   "metadata": {},
   "outputs": [],
   "source": [
    "vegetables.discard(\"somoza\")"
   ]
  },
  {
   "cell_type": "code",
   "execution_count": null,
   "metadata": {},
   "outputs": [],
   "source": [
    "vegetables"
   ]
  },
  {
   "cell_type": "code",
   "execution_count": null,
   "metadata": {},
   "outputs": [],
   "source": [
    "vegetables.discard(\"somoza\") # El código no muestra error y no hace nada"
   ]
  },
  {
   "cell_type": "code",
   "execution_count": null,
   "metadata": {},
   "outputs": [],
   "source": [
    "random_vegetables = vegetables.pop()"
   ]
  },
  {
   "cell_type": "code",
   "execution_count": null,
   "metadata": {},
   "outputs": [],
   "source": [
    "random_vegetables"
   ]
  },
  {
   "cell_type": "code",
   "execution_count": null,
   "metadata": {},
   "outputs": [],
   "source": [
    "random_vegetables = vegetables.pop()"
   ]
  },
  {
   "cell_type": "code",
   "execution_count": null,
   "metadata": {},
   "outputs": [],
   "source": [
    "random_vegetables"
   ]
  },
  {
   "cell_type": "code",
   "execution_count": null,
   "metadata": {},
   "outputs": [],
   "source": [
    "vegetables.clear() # Vacía el set -> set()"
   ]
  },
  {
   "cell_type": "code",
   "execution_count": null,
   "metadata": {},
   "outputs": [],
   "source": [
    "vegetables"
   ]
  },
  {
   "cell_type": "code",
   "execution_count": null,
   "metadata": {},
   "outputs": [],
   "source": [
    "# Set operations to compare collections: union, intersection, difference, and symmetric difference"
   ]
  },
  {
   "cell_type": "code",
   "execution_count": null,
   "metadata": {},
   "outputs": [],
   "source": [
    "# Union: combination of two sets, creates a new sets and duplicated items will be included once\n",
    "\n",
    "letters = {\"a\", \"b\", \"c\"}\n",
    "numbers = {1, 2, 2, 3}\n",
    "\n",
    "letters_and_numbers = letters.union(numbers) # Same result numbers.union(letters)"
   ]
  },
  {
   "cell_type": "code",
   "execution_count": null,
   "metadata": {},
   "outputs": [],
   "source": [
    "letters_and_numbers"
   ]
  },
  {
   "cell_type": "code",
   "execution_count": null,
   "metadata": {},
   "outputs": [],
   "source": [
    "# Intersection: get a new set containing the elems common to both sets\n",
    "\n",
    "mod_2 = {2, 4, 6, 8, 10, 12, 14, 16, 18}\n",
    "mod_3 = {3, 6, 9, 12, 15, 18}\n",
    "\n",
    "mod_6 = mod_2.intersection(mod_3)\n",
    "\n",
    "print(mod_6) # {18, 12, 6}"
   ]
  },
  {
   "cell_type": "code",
   "execution_count": null,
   "metadata": {},
   "outputs": [],
   "source": [
    "# Difference: order of sets matter\n",
    "\n",
    "bundle_1 = {\"Resident Evil 3\", \"Final Fantasy VII\", \"Cyberpunk 2077\"}\n",
    "bundle_2 = {\"Doom Eternal\", \"Halo Infinite\", \"Resident Evil 3\"}\n",
    "\n",
    "print(bundle_1.difference(bundle_2)) # Final Fantasy VII, Cyberpunk 2077\n",
    "print(bundle_2.difference(bundle_1)) # Doom Eternal, Halo Infinite\n",
    "# It doesn't included Resident Evil 3 because it is the common elem between the two sets"
   ]
  },
  {
   "cell_type": "code",
   "execution_count": null,
   "metadata": {},
   "outputs": [],
   "source": [
    "# Symmetric difference: print the items that are not common in the two sets, it doesn't matter the order\n",
    "\n",
    "print(bundle_1.symmetric_difference(bundle_2)) # {'Doom Eternal', 'Cyberpunk 2077', 'Halo Infinite', 'Final Fantasy VII'}\n",
    "print(bundle_2.symmetric_difference(bundle_1)) # {'Doom Eternal', 'Cyberpunk 2077', 'Halo Infinite', 'Final Fantasy VII'}"
   ]
  },
  {
   "cell_type": "code",
   "execution_count": null,
   "metadata": {},
   "outputs": [],
   "source": [
    "# Set operation with other collections"
   ]
  },
  {
   "cell_type": "code",
   "execution_count": null,
   "metadata": {},
   "outputs": [],
   "source": [
    "# we can pass any collection we like into the set methods, as long as we call the method on the set and not on the collection\n",
    "\n",
    "letters = {\"a\", \"b\", \"c\"}\n",
    "numbers = [1, 2, 3]\n",
    "\n",
    "print(letters.union(numbers))"
   ]
  },
  {
   "cell_type": "code",
   "execution_count": null,
   "metadata": {},
   "outputs": [],
   "source": [
    "# Checking if items are in collections -> keyword in"
   ]
  },
  {
   "cell_type": "code",
   "execution_count": null,
   "metadata": {},
   "outputs": [],
   "source": [
    "# in can be use with Sets\n",
    "\n",
    "numbers = {1, 2, 3, 4, 5}\n",
    "\n",
    "print(3 in numbers) # True\n",
    "print(7 in numbers) # False"
   ]
  },
  {
   "cell_type": "code",
   "execution_count": null,
   "metadata": {},
   "outputs": [],
   "source": [
    "# in can be use with any collection"
   ]
  },
  {
   "cell_type": "code",
   "execution_count": null,
   "metadata": {},
   "outputs": [],
   "source": [
    "# Strings\n",
    "\n",
    "print(\"j\" in \"Python\") # False\n",
    "print (\"n\" in \"Python\") # True"
   ]
  },
  {
   "cell_type": "code",
   "execution_count": 1,
   "metadata": {},
   "outputs": [
    {
     "name": "stdout",
     "output_type": "stream",
     "text": [
      "False\n",
      "True\n"
     ]
    }
   ],
   "source": [
    "# Keys of a dictionary\n",
    "\n",
    "student = {\n",
    "    \"name\": \"Eric Cartman\",\n",
    "    \"age\": 10,\n",
    "    \"school\": \"South Park Elementary\"\n",
    "}\n",
    "\n",
    "print(\"grades\" in student) # False\n",
    "print(\"school\" in student) # True"
   ]
  },
  {
   "cell_type": "code",
   "execution_count": 2,
   "metadata": {},
   "outputs": [
    {
     "name": "stdout",
     "output_type": "stream",
     "text": [
      "True\n"
     ]
    }
   ],
   "source": [
    "# Values of a dictionary\n",
    "\n",
    "print(10 in student.values())"
   ]
  },
  {
   "cell_type": "markdown",
   "metadata": {},
   "source": [
    "## Exercises"
   ]
  },
  {
   "cell_type": "code",
   "execution_count": null,
   "metadata": {},
   "outputs": [],
   "source": [
    "# Exercise 1: Create an empty set and assign it to a variable"
   ]
  },
  {
   "cell_type": "code",
   "execution_count": null,
   "metadata": {},
   "outputs": [],
   "source": [
    "set_1 = set()\n",
    "print(set_1)"
   ]
  },
  {
   "cell_type": "code",
   "execution_count": null,
   "metadata": {},
   "outputs": [],
   "source": [
    "# Exercise 2: Add three items to your empty set using either several add calls, or a single call to update\n",
    "\n",
    "set_1.update([1, 2, 3])\n",
    "print(set_1)"
   ]
  },
  {
   "cell_type": "code",
   "execution_count": null,
   "metadata": {},
   "outputs": [],
   "source": [
    "# Exercise 3: Create a second set which includes at least one common element with the first set\n",
    "set_2 = set([2, 3, 4])\n",
    "\n",
    "print(set_2)"
   ]
  },
  {
   "cell_type": "code",
   "execution_count": null,
   "metadata": {},
   "outputs": [],
   "source": [
    "# Exercise 4: Find Union, symmetric difference, and intersection of the two sets. Print the result of each operation"
   ]
  },
  {
   "cell_type": "code",
   "execution_count": null,
   "metadata": {},
   "outputs": [],
   "source": [
    "print(set_1.union(set_2)) # Combine the items in one new set - the duplicates are added just one time\n",
    "print(set_1.symmetric_difference(set_2)) # print the items that are NOT common\n",
    "print(set_1.intersection(set_2)) #  print the items that are common in two sets"
   ]
  },
  {
   "cell_type": "code",
   "execution_count": null,
   "metadata": {},
   "outputs": [],
   "source": [
    "# Exercise 5:\n",
    "# Create a sequence of numbers using range\n",
    "# Ask the user to enter a number\n",
    "# Inform the user whether or not their number was within the range you specified\n",
    "# Extra challenge: tell the user if the number was too high or too low"
   ]
  },
  {
   "cell_type": "code",
   "execution_count": 29,
   "metadata": {},
   "outputs": [
    {
     "name": "stdout",
     "output_type": "stream",
     "text": [
      "{10, 11, 12, 13, 14, 15, 16, 17, 18, 19, 20, 21, 22, 23, 24, 25, 26, 27, 28, 29, 30, 31, 32, 33, 34, 35, 36, 37, 38, 39, 40, 41, 42, 43, 44, 45, 46, 47, 48, 49, 50}\n"
     ]
    }
   ],
   "source": [
    "numbers = set(range(10, 51))\n",
    "print(numbers)"
   ]
  },
  {
   "cell_type": "code",
   "execution_count": 51,
   "metadata": {},
   "outputs": [
    {
     "name": "stdin",
     "output_type": "stream",
     "text": [
      "Add a number:  32\n"
     ]
    }
   ],
   "source": [
    "user_num = int(input(\"Add a number: \"))"
   ]
  },
  {
   "cell_type": "code",
   "execution_count": 52,
   "metadata": {},
   "outputs": [
    {
     "name": "stdout",
     "output_type": "stream",
     "text": [
      "{32}\n"
     ]
    }
   ],
   "source": [
    "user_num = set([user_num])\n",
    "print(user_num)"
   ]
  },
  {
   "cell_type": "code",
   "execution_count": 53,
   "metadata": {},
   "outputs": [
    {
     "name": "stdout",
     "output_type": "stream",
     "text": [
      "{32}\n",
      "10\n",
      "32\n"
     ]
    }
   ],
   "source": [
    "matching_nums = numbers.intersection(user_num)\n",
    "print(matching_nums)\n",
    "numbers_to_list = list(numbers)\n",
    "print(numbers_to_list[0])\n",
    "user_num_to_list = list(user_num)\n",
    "print(user_num_to_list[0])"
   ]
  },
  {
   "cell_type": "code",
   "execution_count": 55,
   "metadata": {},
   "outputs": [
    {
     "name": "stdout",
     "output_type": "stream",
     "text": [
      "32 is in range!\n"
     ]
    }
   ],
   "source": [
    "if (matching_nums):\n",
    "    print(f\"{user_num_to_list[0]} is in range!\")\n",
    "else:\n",
    "    # print(f\"{user_num} is out of range!\")\n",
    "    if user_num_to_list[0] < numbers_to_list[0]:\n",
    "        print(\"Number too low\")\n",
    "    else:\n",
    "        print(\"Number too high\")"
   ]
  },
  {
   "cell_type": "code",
   "execution_count": null,
   "metadata": {},
   "outputs": [],
   "source": [
    "# Blog's solutions"
   ]
  },
  {
   "cell_type": "code",
   "execution_count": null,
   "metadata": {},
   "outputs": [],
   "source": [
    "# Exercises 1 and 2"
   ]
  },
  {
   "cell_type": "code",
   "execution_count": 2,
   "metadata": {},
   "outputs": [
    {
     "name": "stdout",
     "output_type": "stream",
     "text": [
      "set()\n"
     ]
    }
   ],
   "source": [
    "s = set()\n",
    "print(s)"
   ]
  },
  {
   "cell_type": "code",
   "execution_count": null,
   "metadata": {},
   "outputs": [],
   "source": [
    "s.add(1)\n",
    "s.add(2)\n",
    "s.add(3)\n",
    "print(s)"
   ]
  },
  {
   "cell_type": "code",
   "execution_count": null,
   "metadata": {},
   "outputs": [],
   "source": [
    "for num in range(1, 4):\n",
    "    s.add(num)\n",
    "print(s)"
   ]
  },
  {
   "cell_type": "code",
   "execution_count": 3,
   "metadata": {},
   "outputs": [
    {
     "name": "stdout",
     "output_type": "stream",
     "text": [
      "{1, 2, 3}\n"
     ]
    }
   ],
   "source": [
    "s.update(range(1,4))\n",
    "print(s)"
   ]
  },
  {
   "cell_type": "code",
   "execution_count": null,
   "metadata": {},
   "outputs": [],
   "source": [
    "# Exercise 3"
   ]
  },
  {
   "cell_type": "code",
   "execution_count": 4,
   "metadata": {},
   "outputs": [
    {
     "name": "stdout",
     "output_type": "stream",
     "text": [
      "{'r', 1, ('Python', 'C', 'Rust')}\n"
     ]
    }
   ],
   "source": [
    "ramdon_values = {\"r\", 1, (\"Python\", \"C\", \"Rust\")}\n",
    "print(ramdon_values)"
   ]
  },
  {
   "cell_type": "code",
   "execution_count": 13,
   "metadata": {},
   "outputs": [
    {
     "name": "stdout",
     "output_type": "stream",
     "text": [
      "{1, 2, 3, 'r', ('Python', 'C', 'Rust')}\n",
      "{2, 3, ('Python', 'C', 'Rust'), 'r'}\n",
      "{1}\n"
     ]
    }
   ],
   "source": [
    "# Exercise 4\n",
    "print(s.union(ramdon_values)) # print items included in both sets\n",
    "print(s.symmetric_difference(ramdon_values)) # print items that are different between the sets\n",
    "print(s.intersection(ramdon_values)) # print commons items"
   ]
  },
  {
   "cell_type": "code",
   "execution_count": 14,
   "metadata": {},
   "outputs": [],
   "source": [
    "# Exercise 5"
   ]
  },
  {
   "cell_type": "code",
   "execution_count": 18,
   "metadata": {},
   "outputs": [
    {
     "name": "stdout",
     "output_type": "stream",
     "text": [
      "range(27, 54)\n"
     ]
    }
   ],
   "source": [
    "numbers = range(27, 54)\n",
    "print(numbers)"
   ]
  },
  {
   "cell_type": "code",
   "execution_count": 25,
   "metadata": {},
   "outputs": [
    {
     "name": "stdin",
     "output_type": "stream",
     "text": [
      "Enter a number:  45\n"
     ]
    }
   ],
   "source": [
    "user_number = int(input(\"Enter a number: \"))"
   ]
  },
  {
   "cell_type": "code",
   "execution_count": 21,
   "metadata": {},
   "outputs": [
    {
     "name": "stdout",
     "output_type": "stream",
     "text": [
      "Your number is outside of the valid range.\n"
     ]
    }
   ],
   "source": [
    "# Verify if the number is in the range\n",
    "\n",
    "if user_number in numbers:\n",
    "    print(\"Your number is in the valid range.\")\n",
    "else:\n",
    "    print(\"Your number is outside of the valid range.\")"
   ]
  },
  {
   "cell_type": "code",
   "execution_count": 26,
   "metadata": {},
   "outputs": [
    {
     "name": "stdout",
     "output_type": "stream",
     "text": [
      "Your number is in the valid range.\n"
     ]
    }
   ],
   "source": [
    "# Verify is the user number was to low or hihg, using the as reference first number in the range (too low), last number in the range (too high)\n",
    "\n",
    "if user_number in numbers:\n",
    "    print(\"Your number is in the valid range.\")\n",
    "else:\n",
    "    if user_number < numbers[0]:\n",
    "        print(\"Your number is too low.\")\n",
    "    else:\n",
    "        print(\"Your number is too high\")"
   ]
  },
  {
   "cell_type": "code",
   "execution_count": null,
   "metadata": {},
   "outputs": [],
   "source": []
  }
 ],
 "metadata": {
  "kernelspec": {
   "display_name": "Python 3",
   "language": "python",
   "name": "python3"
  },
  "language_info": {
   "codemirror_mode": {
    "name": "ipython",
    "version": 3
   },
   "file_extension": ".py",
   "mimetype": "text/x-python",
   "name": "python",
   "nbconvert_exporter": "python",
   "pygments_lexer": "ipython3",
   "version": "3.8.7"
  }
 },
 "nbformat": 4,
 "nbformat_minor": 4
}
