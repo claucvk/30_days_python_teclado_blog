{
 "cells": [
  {
   "cell_type": "code",
   "execution_count": 1,
   "metadata": {},
   "outputs": [],
   "source": [
    "# Create a funcion named get_even_numbers\n",
    "# Print the first ten even numbers, starting with 2"
   ]
  },
  {
   "cell_type": "code",
   "execution_count": 6,
   "metadata": {},
   "outputs": [
    {
     "name": "stdout",
     "output_type": "stream",
     "text": [
      "2\n",
      "4\n",
      "6\n",
      "8\n",
      "10\n",
      "12\n",
      "14\n",
      "16\n",
      "18\n",
      "20\n"
     ]
    }
   ],
   "source": [
    "def get_even_number():\n",
    "    for num in range(2, 21, 2):\n",
    "        print(num)    \n",
    "#     for num in range(1, 11):\n",
    "#         print(num * 2)\n",
    "        \n",
    "get_even_number()"
   ]
  },
  {
   "cell_type": "code",
   "execution_count": 7,
   "metadata": {},
   "outputs": [],
   "source": [
    "# Functions parameters and arguments"
   ]
  },
  {
   "cell_type": "code",
   "execution_count": 10,
   "metadata": {},
   "outputs": [
    {
     "name": "stdout",
     "output_type": "stream",
     "text": [
      "2\n",
      "4\n",
      "6\n",
      "8\n",
      "10\n"
     ]
    }
   ],
   "source": [
    "def get_even_number(amount):\n",
    "    for number in range(1, amount + 1):\n",
    "        print(number * 2)\n",
    "\n",
    "get_even_number(5)"
   ]
  },
  {
   "cell_type": "code",
   "execution_count": 11,
   "metadata": {},
   "outputs": [],
   "source": [
    "# Specifiying multiple parameters"
   ]
  },
  {
   "cell_type": "code",
   "execution_count": 12,
   "metadata": {},
   "outputs": [],
   "source": [
    "# Define a new function called x_print, with two arguments: a string to print, a number of times to print that string"
   ]
  },
  {
   "cell_type": "code",
   "execution_count": 17,
   "metadata": {},
   "outputs": [
    {
     "name": "stdout",
     "output_type": "stream",
     "text": [
      "Love python, I am learning, yeah!!!Love python, I am learning, yeah!!!Love python, I am learning, yeah!!!Love python, I am learning, yeah!!!Love python, I am learning, yeah!!!\n"
     ]
    }
   ],
   "source": [
    "def x_print(str, num):\n",
    "    print(str * num)\n",
    "\n",
    "x_print(\"Love python, I am learning, yeah!!!\", 5)"
   ]
  },
  {
   "cell_type": "code",
   "execution_count": 20,
   "metadata": {},
   "outputs": [
    {
     "name": "stdout",
     "output_type": "stream",
     "text": [
      "hello\n",
      "hello\n",
      "hello\n",
      "hello\n",
      "hello\n"
     ]
    }
   ],
   "source": [
    "def x_print(request_ouput, quantity):\n",
    "    for _ in range(quantity):\n",
    "        print(request_ouput)\n",
    "x_print(\"hello\", 5)"
   ]
  },
  {
   "cell_type": "code",
   "execution_count": 21,
   "metadata": {},
   "outputs": [],
   "source": [
    "# Keywords arguments"
   ]
  },
  {
   "cell_type": "code",
   "execution_count": 22,
   "metadata": {},
   "outputs": [
    {
     "name": "stdout",
     "output_type": "stream",
     "text": [
      "yolo\n",
      "yolo\n",
      "yolo\n",
      "yolo\n",
      "yolo\n"
     ]
    }
   ],
   "source": [
    "def x_print(request_output, quantity):\n",
    "    for _ in range(quantity):\n",
    "        print(request_output)\n",
    "        \n",
    "x_print(request_output=\"yolo\", quantity=5) # we specifically tie an argument’s value to a parameter name."
   ]
  },
  {
   "cell_type": "code",
   "execution_count": 23,
   "metadata": {},
   "outputs": [],
   "source": [
    "# We can also mix positional and keyword arguments, but we have to be a little bit careful here as there are several limitations."
   ]
  },
  {
   "cell_type": "code",
   "execution_count": 24,
   "metadata": {},
   "outputs": [
    {
     "ename": "SyntaxError",
     "evalue": "positional argument follows keyword argument (<ipython-input-24-90109bc0754a>, line 6)",
     "output_type": "error",
     "traceback": [
      "\u001b[0;36m  File \u001b[0;32m\"<ipython-input-24-90109bc0754a>\"\u001b[0;36m, line \u001b[0;32m6\u001b[0m\n\u001b[0;31m    x_print(request_output= \"hello\", 5)\u001b[0m\n\u001b[0m                                     ^\u001b[0m\n\u001b[0;31mSyntaxError\u001b[0m\u001b[0;31m:\u001b[0m positional argument follows keyword argument\n"
     ]
    }
   ],
   "source": [
    "# We can't provide a positional argument after a keyword argument, This is not valid syntax in Python\n",
    "def x_print(request_output, quantity):\n",
    "    for _ in range(quantity):\n",
    "        print(request_output)\n",
    "\n",
    "x_print(request_output= \"hello\", 5) # SyntaxError: positional argument follows keyword argument"
   ]
  },
  {
   "cell_type": "code",
   "execution_count": 25,
   "metadata": {},
   "outputs": [
    {
     "ename": "TypeError",
     "evalue": "x_print() got multiple values for argument 'request_output'",
     "output_type": "error",
     "traceback": [
      "\u001b[0;31m---------------------------------------------------------------------------\u001b[0m",
      "\u001b[0;31mTypeError\u001b[0m                                 Traceback (most recent call last)",
      "\u001b[0;32m<ipython-input-25-c227fa8c7560>\u001b[0m in \u001b[0;36m<module>\u001b[0;34m\u001b[0m\n\u001b[1;32m      6\u001b[0m         \u001b[0mprint\u001b[0m\u001b[0;34m(\u001b[0m\u001b[0mrequest_output\u001b[0m\u001b[0;34m)\u001b[0m\u001b[0;34m\u001b[0m\u001b[0;34m\u001b[0m\u001b[0m\n\u001b[1;32m      7\u001b[0m \u001b[0;34m\u001b[0m\u001b[0m\n\u001b[0;32m----> 8\u001b[0;31m \u001b[0mx_print\u001b[0m\u001b[0;34m(\u001b[0m\u001b[0;36m5\u001b[0m\u001b[0;34m,\u001b[0m \u001b[0mrequest_output\u001b[0m\u001b[0;34m=\u001b[0m \u001b[0;34m\"hi\"\u001b[0m\u001b[0;34m)\u001b[0m\u001b[0;34m\u001b[0m\u001b[0;34m\u001b[0m\u001b[0m\n\u001b[0m",
      "\u001b[0;31mTypeError\u001b[0m: x_print() got multiple values for argument 'request_output'"
     ]
    }
   ],
   "source": [
    "# Si colocamos un keyword argumento en otra posición que no es su posición definida en los params, \n",
    "# entonces python cree que el argumento está pasando dos valores \n",
    "# (el valor por su posición en los params, y el valor en la otra posición donde se definió el keyword argument), en vez de uno.\n",
    "\n",
    "def x_print(request_output, quantity):\n",
    "    for _ in range(quantity):\n",
    "        print(request_output)\n",
    "        \n",
    "x_print(5, request_output= \"hi\") # TypeError: x_print() got multiple values for argument 'request_output'"
   ]
  },
  {
   "cell_type": "code",
   "execution_count": 26,
   "metadata": {},
   "outputs": [
    {
     "name": "stdout",
     "output_type": "stream",
     "text": [
      "Hello\n",
      "Hello\n",
      "Hello\n",
      "Hello\n",
      "Hello\n"
     ]
    }
   ],
   "source": [
    "# We only have this viable option\n",
    "\n",
    "def x_print(request_output, quantity):\n",
    "    for _ in range(quantity):\n",
    "        print(request_output)\n",
    "\n",
    "x_print(\"Hello\", quantity=5)\n",
    "\n",
    "# This satisfies all the requirements. The keyword arguments comes after the positial arguments, \n",
    "# and we haven't got any duplicate assignments caused by the order of our values"
   ]
  },
  {
   "cell_type": "markdown",
   "metadata": {},
   "source": [
    "## Exercises"
   ]
  },
  {
   "cell_type": "code",
   "execution_count": 27,
   "metadata": {},
   "outputs": [],
   "source": [
    "# Exercise 1:\n",
    "# Define four functions: add, substract, divide, multiply\n",
    "# Each function should: 1) take two arguments 2) print the result arithmetic operation indicated by the function name\n",
    "# When order matters -> first arg = lef operant, second arg = right operant. If the user passes in 6 and 2 to substract, the result should be 4, not -4\n",
    "# User can't pass in 0 as second arg for divide. If user passes 0 -> print a warning, instead of calculating their division"
   ]
  },
  {
   "cell_type": "code",
   "execution_count": 1,
   "metadata": {},
   "outputs": [
    {
     "name": "stdout",
     "output_type": "stream",
     "text": [
      "11\n"
     ]
    }
   ],
   "source": [
    "def add(left_operant, right_operant):\n",
    "    result = left_operant + right_operant\n",
    "    print(result)\n",
    "    \n",
    "add(3, 8)"
   ]
  },
  {
   "cell_type": "code",
   "execution_count": 3,
   "metadata": {},
   "outputs": [
    {
     "name": "stdout",
     "output_type": "stream",
     "text": [
      "72\n"
     ]
    }
   ],
   "source": [
    "def multiply(left_operant, right_operant):\n",
    "    result = left_operant * right_operant\n",
    "    print(result)\n",
    "\n",
    "multiply(8, 9)"
   ]
  },
  {
   "cell_type": "code",
   "execution_count": 5,
   "metadata": {},
   "outputs": [
    {
     "name": "stdout",
     "output_type": "stream",
     "text": [
      "Left operant must be greater than right operant, try again\n"
     ]
    }
   ],
   "source": [
    "def substract(left_operant, right_operant):\n",
    "    if left_operant < right_operant:\n",
    "        print(\"Left operant must be greater than right operant, try again!\")\n",
    "    else:\n",
    "        result = left_operant - right_operant\n",
    "        print(result)\n",
    "\n",
    "substract(9, 39)"
   ]
  },
  {
   "cell_type": "code",
   "execution_count": 7,
   "metadata": {},
   "outputs": [
    {
     "name": "stdout",
     "output_type": "stream",
     "text": [
      "Error: divisor can't be 0!\n"
     ]
    }
   ],
   "source": [
    "def division(left_operant, right_operant):\n",
    "    if right_operant == 0:\n",
    "        print(\"Error: You can't divide by 0!\")\n",
    "    else:\n",
    "        result = left_operant / right_operant\n",
    "        print(result)\n",
    "\n",
    "division(20, 0)"
   ]
  },
  {
   "cell_type": "code",
   "execution_count": 8,
   "metadata": {},
   "outputs": [],
   "source": [
    "# Exercise 2: \n",
    "# Define a function called: print_show_info, single parameter\n",
    "# Parameter -> a dictionary with some information about a T.V. show\n",
    "# Output -> print values of the dictionary Ex: Breaking Bad (2008) - 5 seasons "
   ]
  },
  {
   "cell_type": "code",
   "execution_count": 54,
   "metadata": {},
   "outputs": [
    {
     "name": "stdout",
     "output_type": "stream",
     "text": [
      "Breaking Bad (2008) - 5 seasons\n"
     ]
    }
   ],
   "source": [
    "tv_show = {\n",
    "    \"title\": \"Breaking Bad\",\n",
    "    \"seasons\": 5,\n",
    "    \"initial_release\": 2008\n",
    "}\n",
    "\n",
    "def print_show_info(tv_show):\n",
    "    print(f\"{tv_show['title']} ({tv_show['initial_release']}) - {tv_show['seasons']} seasons\")\n",
    "        \n",
    "print_show_info(tv_show)"
   ]
  },
  {
   "cell_type": "code",
   "execution_count": 55,
   "metadata": {},
   "outputs": [],
   "source": [
    "# Exercise 3\n",
    "# Use function print_show_info\n",
    "# Parameter -> a list of dictionaries - series[{}, {}...]\n",
    "# Output -> string containing line by line each tv show listed in serie list Ex: Breaking Bad (2008) - 5 seasons "
   ]
  },
  {
   "cell_type": "code",
   "execution_count": 61,
   "metadata": {},
   "outputs": [
    {
     "name": "stdout",
     "output_type": "stream",
     "text": [
      "Breaking Bad (2008) - 5 seasons.\n",
      "Fargo (2014) - 4 seasons.\n",
      "Firefly (2002) - 1 seasons.\n",
      "Rick and Morty (2013) - 4 seasons.\n",
      "True Detectives (2014) - 3 seasons.\n",
      "Westworld (2016) - 3 seasons.\n"
     ]
    }
   ],
   "source": [
    "series = [\n",
    "    {\"title\": \"Breaking Bad\", \"seasons\": 5, \"initial_release\": 2008},\n",
    "    {\"title\": \"Fargo\", \"seasons\": 4, \"initial_release\": 2014},\n",
    "    {\"title\": \"Firefly\" , \"seasons\": 1, \"initial_release\": 2002},\n",
    "    {\"title\": \"Rick and Morty\", \"seasons\": 4, \"initial_release\": 2013},\n",
    "    {\"title\": \"True Detectives\" , \"seasons\": 3, \"initial_release\": 2014},\n",
    "    {\"title\": \"Westworld\", \"seasons\": 3, \"initial_release\": 2016}\n",
    "]\n",
    "\n",
    "def print_show_info(series):\n",
    "    for index, _ in enumerate(series):\n",
    "        tv_show = series[index]\n",
    "        print(f\"{tv_show['title']} ({tv_show['initial_release']}) - {tv_show['seasons']} seasons.\")\n",
    "    \n",
    "print_show_info(series)"
   ]
  },
  {
   "cell_type": "code",
   "execution_count": null,
   "metadata": {},
   "outputs": [],
   "source": [
    "# Exercise 4\n",
    "# Obj -> test if a word is a palindrome\n",
    "# Parameter -> A string, EX: was it a car or a cat I saw\n",
    "# Strip white space, lower case\n",
    "# Output-> string-> it is a palidrome or not "
   ]
  },
  {
   "cell_type": "code",
   "execution_count": 90,
   "metadata": {},
   "outputs": [
    {
     "name": "stdout",
     "output_type": "stream",
     "text": [
      "wasitacaroracatisaw wasitacaroracatisaw\n",
      "It is a palindrome!\n"
     ]
    }
   ],
   "source": [
    "# Using slice method\n",
    "\n",
    "def verify_palindrome(word):\n",
    "    word = word.replace(\" \", \"\").lower()\n",
    "    word_reversed = word[::-1]\n",
    "    \n",
    "    if word == word_reversed:\n",
    "        print(\"It is a palindrome!\")\n",
    "    else:\n",
    "        print(\"It is NOT a palindrome!\")\n",
    "    \n",
    "verify_palindrome(\"was it a car or a cat I saw\")"
   ]
  },
  {
   "cell_type": "code",
   "execution_count": 113,
   "metadata": {},
   "outputs": [
    {
     "name": "stdout",
     "output_type": "stream",
     "text": [
      "It is a palindrome!\n"
     ]
    }
   ],
   "source": [
    "# Using reverse method\n",
    "\n",
    "def verify_palindrome(word):\n",
    "    word = word.replace(\" \", \"\").lower()  \n",
    "    word_reversed = list(word)\n",
    "    word_reversed.reverse()\n",
    "    word_reversed = ''.join(word_reversed)\n",
    "    \n",
    "    if word == word_reversed:\n",
    "        print(\"It is a palindrome!\")\n",
    "    else:\n",
    "        print(\"It is NOT a palindrome!\")\n",
    "    \n",
    "verify_palindrome(\"was it a car or a cat I saw\")"
   ]
  },
  {
   "cell_type": "code",
   "execution_count": null,
   "metadata": {},
   "outputs": [],
   "source": [
    "# Blog's solutions"
   ]
  },
  {
   "cell_type": "code",
   "execution_count": null,
   "metadata": {},
   "outputs": [],
   "source": [
    "# Exercise 2 and 3"
   ]
  },
  {
   "cell_type": "code",
   "execution_count": 114,
   "metadata": {},
   "outputs": [
    {
     "name": "stdout",
     "output_type": "stream",
     "text": [
      "Breaking Bad (2008) - 5 season(s)\n"
     ]
    }
   ],
   "source": [
    "def print_show_info(show):\n",
    "    print(f\"{show['title']} ({show['initial_release']}) - {show['seasons']} season(s)\")\n",
    "\n",
    "\n",
    "tv_show = {\n",
    "    \"title\": \"Breaking Bad\",\n",
    "    \"seasons\": 5,\n",
    "    \"initial_release\": 2008\n",
    "}\n",
    "\n",
    "print_show_info(tv_show)"
   ]
  },
  {
   "cell_type": "code",
   "execution_count": 118,
   "metadata": {},
   "outputs": [
    {
     "name": "stdout",
     "output_type": "stream",
     "text": [
      "Breaking Bad (2008) - 5 season(s)\n",
      "Fargo (2014) - 4 season(s)\n",
      "Firefly (2002) - 1 season(s)\n",
      "Rick and Morty (2013) - 4 season(s)\n",
      "True Detective (2014) - 3 season(s)\n",
      "Westworld (2016) - 3 season(s)\n"
     ]
    }
   ],
   "source": [
    "def print_show_info(show):\n",
    "    print(f\"{show['title']} ({show['initial_release']}) - {show['seasons']} season(s)\")\n",
    "\n",
    "series_data = [\n",
    "    {\"title\": \"Breaking Bad\", \"seasons\": 5, \"initial_release\": 2008},\n",
    "    {\"title\": \"Fargo\", \"seasons\": 4, \"initial_release\": 2014},\n",
    "    {\"title\": \"Firefly\", \"seasons\": 1, \"initial_release\": 2002},\n",
    "    {\"title\": \"Rick and Morty\", \"seasons\": 4, \"initial_release\": 2013},\n",
    "    {\"title\": \"True Detective\", \"seasons\": 3, \"initial_release\": 2014},\n",
    "    {\"title\": \"Westworld\", \"seasons\": 3, \"initial_release\": 2016},\n",
    "]\n",
    "    \n",
    "for show in series_data:\n",
    "    #print(show)\n",
    "    print_show_info(show)"
   ]
  },
  {
   "cell_type": "code",
   "execution_count": 119,
   "metadata": {},
   "outputs": [],
   "source": [
    "# Exercise 4"
   ]
  },
  {
   "cell_type": "code",
   "execution_count": 132,
   "metadata": {},
   "outputs": [
    {
     "name": "stdout",
     "output_type": "stream",
     "text": [
      "True\n"
     ]
    }
   ],
   "source": [
    "# Reversed method - one arg (object iterable) - lazy type\n",
    "\n",
    "def is_palindrome(word):\n",
    "    word = word.strip().lower()\n",
    "    reversed_word = reversed(word)\n",
    "    \n",
    "    # Using lists\n",
    "    if list(word) == list(reversed_word):\n",
    "        print(True)\n",
    "    else:\n",
    "        print(False)\n",
    " \n",
    "\n",
    "is_palindrome(\"ojo\")"
   ]
  },
  {
   "cell_type": "code",
   "execution_count": 133,
   "metadata": {},
   "outputs": [
    {
     "name": "stdout",
     "output_type": "stream",
     "text": [
      "False\n"
     ]
    }
   ],
   "source": [
    "# Using lists\n",
    "def is_palindrome(word):\n",
    "    word = word.strip().lower()\n",
    "    reversed_word = reversed(word)\n",
    "      \n",
    "    # Using join method\n",
    "    if word == \"\".join(reversed_word):\n",
    "        print(True)\n",
    "    else:\n",
    "        print(False)\n",
    "\n",
    "is_palindrome(\"lola\")"
   ]
  },
  {
   "cell_type": "code",
   "execution_count": 134,
   "metadata": {},
   "outputs": [],
   "source": [
    "# Using reverse method for list\n",
    "\n",
    "# Be careful, if we do this:\n",
    "# word = list(word,strip().lower())\n",
    "# reversed_word = word\n",
    "# reversed_word.reverse()\n",
    "# because both names refer to the same list. If we reverse that list (word in reversed_word),\n",
    "# both names now refer to the same reversed list."
   ]
  },
  {
   "cell_type": "code",
   "execution_count": 136,
   "metadata": {},
   "outputs": [
    {
     "name": "stdout",
     "output_type": "stream",
     "text": [
      "True\n"
     ]
    }
   ],
   "source": [
    "# Ways around\n",
    "\n",
    "# 1: pass the word to list when performing the reversed_word assignment:\n",
    "def is_palindrome(word):\n",
    "    word = list(word.strip().lower())\n",
    "    reversed_word = list(word) # word.copy()\n",
    "    reversed_word.reverse()\n",
    "# list creates a new list, so we create a second list with identical values\n",
    "    if word == reversed_word:\n",
    "        print(True)\n",
    "    else:\n",
    "        print(False)\n",
    "\n",
    "is_palindrome(\"ojo\")"
   ]
  },
  {
   "cell_type": "code",
   "execution_count": null,
   "metadata": {},
   "outputs": [],
   "source": [
    "# Using slices -> The same implementation I did."
   ]
  }
 ],
 "metadata": {
  "kernelspec": {
   "display_name": "Python 3",
   "language": "python",
   "name": "python3"
  },
  "language_info": {
   "codemirror_mode": {
    "name": "ipython",
    "version": 3
   },
   "file_extension": ".py",
   "mimetype": "text/x-python",
   "name": "python",
   "nbconvert_exporter": "python",
   "pygments_lexer": "ipython3",
   "version": "3.8.7"
  }
 },
 "nbformat": 4,
 "nbformat_minor": 4
}
