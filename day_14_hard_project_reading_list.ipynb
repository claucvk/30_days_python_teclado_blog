{
 "cells": [
  {
   "cell_type": "code",
   "execution_count": 2,
   "metadata": {},
   "outputs": [],
   "source": [
    "# Users: add a book to their reading list (title, auhtor's name, year of publication)\n",
    "# Program: stores all books info in a file called books.csv\n",
    "# Users: retrieve the books in their reading list\n",
    "# Users: search a specific book (book title), printed out user-friendly format\n",
    "# Users: mark a book as read (book title). If multiple books, mark the first one\n",
    "# Users: delete books from their reading list (book title). If multiple books, delete the first one\n",
    "# Users: select those options from a text menu, executing multiple operations without restarting the program"
   ]
  },
  {
   "cell_type": "code",
   "execution_count": 15,
   "metadata": {},
   "outputs": [],
   "source": [
    "def add_book_to_csv_file():\n",
    "    title = input(\"Book's title: \").lower()\n",
    "    author = input(\"Author's book: \").lower()\n",
    "    year = input(\"Year of publication: \")\n",
    "    \n",
    "    book = {\"title\": title, \"author\": author, \"year\": year}\n",
    "    book = \", \".join(book.values())\n",
    "    \n",
    "    with open(\"books.csv\", \"a\") as f:\n",
    "        f.write(\"\\n\" + book.strip())"
   ]
  },
  {
   "cell_type": "code",
   "execution_count": 16,
   "metadata": {},
   "outputs": [],
   "source": [
    "def list_added_books(printing=True):\n",
    "    with open(\"books.csv\", \"r\") as f:\n",
    "        titles = []\n",
    "        for book in f:\n",
    "            book = book.strip(\"\\n\").split(\",\")\n",
    "            if printing:\n",
    "                print(f\"{book[0].title().strip()} by {book[1].title().strip()}, {book[2].strip()}.\")\n",
    "            titles.append(book[0].lower().strip())\n",
    "    return titles"
   ]
  },
  {
   "cell_type": "code",
   "execution_count": 17,
   "metadata": {},
   "outputs": [],
   "source": [
    "def search_book():\n",
    "    with open(\"books.csv\", \"r\") as f:\n",
    "        title_book = input(\"Book's title to search: \").strip().lower()\n",
    "        book_titles = []\n",
    "        for book in f:\n",
    "            book = book.split(\",\")\n",
    "            if title_book in book[0].lower():\n",
    "                book_titles.append(book[0].lower())\n",
    "                print(f\"{book[0].title().strip()} by {book[1].title().strip()}, {book[2].strip()}.\")\n",
    "        return book_titles"
   ]
  },
  {
   "cell_type": "code",
   "execution_count": 18,
   "metadata": {},
   "outputs": [],
   "source": [
    "def mark_book(title):\n",
    "    with open(\"books.csv\", \"r+\") as f:\n",
    "        lines = f.readlines()\n",
    "        for i, line in enumerate(lines):\n",
    "            if title == []:\n",
    "                print(\"Book not found!\")\n",
    "                break     \n",
    "            if line.startswith(title[0]) and \"READ\" not in line:\n",
    "                lines[i] = lines[i].strip() + \" - READ\\n\"\n",
    "        f.seek(0)\n",
    "        for line in lines:\n",
    "            f.write(line)"
   ]
  },
  {
   "cell_type": "code",
   "execution_count": 19,
   "metadata": {},
   "outputs": [],
   "source": [
    "def delete_book(title):\n",
    "    with open(\"books.csv\", \"r\") as f:\n",
    "        lines = f.readlines()\n",
    "        \n",
    "        for i, line in enumerate(lines):\n",
    "            if title == []:\n",
    "                print(\"Book not found!\")\n",
    "                break\n",
    "            if line.startswith(title[0]):\n",
    "                del lines[i]\n",
    "    \n",
    "    with open(\"books.csv\", \"w+\") as f:\n",
    "        for line in lines:\n",
    "            f.write(line)\n",
    "            \n",
    "# https://www.kite.com/python/answers/how-to-delete-a-line-from-a-file-in-python"
   ]
  },
  {
   "cell_type": "code",
   "execution_count": null,
   "metadata": {},
   "outputs": [
    {
     "name": "stdin",
     "output_type": "stream",
     "text": [
      "Enter one option:\n",
      "                            - 'a': add a book\n",
      "                            - 'l': list all added books\n",
      "                            - 's': search for one specific book\n",
      "                            - 'm': mark a book as read\n",
      "                            - 'd': delete an added book\n",
      "                            - 'q': quit the menu  l\n"
     ]
    },
    {
     "name": "stdout",
     "output_type": "stream",
     "text": [
      "Milonga by Sophia Loren, 1987.\n",
      "Loyola by Diego Perez, 1967.\n",
      "La Soberana by Xiomara Moreno, 2001.\n",
      "Bebedora Compulsiva by Nena Suarez, 1987.\n",
      "Tormenta De Nieve by Lola Flores, 1999 - READ.\n",
      "The Lord Of The Rings by J.K. Rowling, 1976 - READ.\n"
     ]
    },
    {
     "name": "stdin",
     "output_type": "stream",
     "text": [
      "Enter one option:\n",
      "                            - 'a': add a book\n",
      "                            - 'l': list all added books\n",
      "                            - 's': search for one specific book\n",
      "                            - 'm': mark a book as read\n",
      "                            - 'd': delete an added book\n",
      "                            - 'q': quit the menu  d\n",
      "Book's title to search:  bebedora\n"
     ]
    },
    {
     "name": "stdout",
     "output_type": "stream",
     "text": [
      "Bebedora Compulsiva by Nena Suarez, 1987.\n"
     ]
    },
    {
     "name": "stdin",
     "output_type": "stream",
     "text": [
      "Enter one option:\n",
      "                            - 'a': add a book\n",
      "                            - 'l': list all added books\n",
      "                            - 's': search for one specific book\n",
      "                            - 'm': mark a book as read\n",
      "                            - 'd': delete an added book\n",
      "                            - 'q': quit the menu  l\n"
     ]
    },
    {
     "name": "stdout",
     "output_type": "stream",
     "text": [
      "Milonga by Sophia Loren, 1987.\n",
      "Loyola by Diego Perez, 1967.\n",
      "La Soberana by Xiomara Moreno, 2001.\n",
      "Tormenta De Nieve by Lola Flores, 1999 - READ.\n",
      "The Lord Of The Rings by J.K. Rowling, 1976 - READ.\n"
     ]
    },
    {
     "name": "stdin",
     "output_type": "stream",
     "text": [
      "Enter one option:\n",
      "                            - 'a': add a book\n",
      "                            - 'l': list all added books\n",
      "                            - 's': search for one specific book\n",
      "                            - 'm': mark a book as read\n",
      "                            - 'd': delete an added book\n",
      "                            - 'q': quit the menu  s\n",
      "Book's title to search:  bebedora\n"
     ]
    },
    {
     "name": "stdout",
     "output_type": "stream",
     "text": [
      "Book not found!\n"
     ]
    }
   ],
   "source": [
    "def menu():\n",
    "    while True:\n",
    "        option_menu = input(\"\"\"Enter one option:\n",
    "                            - 'a': add a book\n",
    "                            - 'l': list all added books\n",
    "                            - 's': search for one specific book\n",
    "                            - 'm': mark a book as read\n",
    "                            - 'd': delete an added book\n",
    "                            - 'q': quit the menu \"\"\").strip().lower()\n",
    "        \n",
    "        titles = list_added_books(printing=False)\n",
    "        \n",
    "        if option_menu == \"a\":\n",
    "            add_book_to_csv_file()\n",
    "        elif option_menu == \"l\" :\n",
    "            titles = list_added_books(printing=True)\n",
    "        elif option_menu == \"s\":\n",
    "            book_title = search_book()\n",
    "            is_title = any(check in book_title for check in titles)\n",
    "            if is_title == False:\n",
    "                print(\"Book not found!\")\n",
    "        elif option_menu == \"m\":\n",
    "            book_title = search_book()\n",
    "            mark_book(book_title)\n",
    "        elif option_menu == \"d\":\n",
    "            book_title = search_book()\n",
    "            delete_book(book_title)\n",
    "        elif option_menu == \"q\":\n",
    "            print(\"Goodbye!\")\n",
    "            break\n",
    "        else:\n",
    "            print(f\"{option_menu} is an invalid option, try again!\")\n",
    "\n",
    "menu()"
   ]
  },
  {
   "cell_type": "code",
   "execution_count": null,
   "metadata": {},
   "outputs": [],
   "source": []
  },
  {
   "cell_type": "code",
   "execution_count": null,
   "metadata": {},
   "outputs": [],
   "source": []
  }
 ],
 "metadata": {
  "kernelspec": {
   "display_name": "Python 3.8.5 64-bit",
   "language": "python",
   "name": "python38564bit087f84167b174d959d40dbfe79d0aa56"
  },
  "language_info": {
   "codemirror_mode": {
    "name": "ipython",
    "version": 3
   },
   "file_extension": ".py",
   "mimetype": "text/x-python",
   "name": "python",
   "nbconvert_exporter": "python",
   "pygments_lexer": "ipython3",
   "version": "3.8.7"
  }
 },
 "nbformat": 4,
 "nbformat_minor": 4
}
