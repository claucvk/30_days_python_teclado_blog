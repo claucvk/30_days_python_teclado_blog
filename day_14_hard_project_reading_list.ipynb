{
 "cells": [
  {
   "cell_type": "code",
   "execution_count": null,
   "metadata": {},
   "outputs": [],
   "source": [
    "# Users: add a book to their reading list (title, auhtor's name, year of publication)\n",
    "# Program: stores all books info in a file called books.csv\n",
    "# Users: retrieve the books in their reading list\n",
    "# Users: search a specific book (book title), printed out user-friendly format\n",
    "# Users: mark a book as read (book title). If multiple books, mark the first one\n",
    "# Users: delete books from their reading list (book title). If multiple books, delete the first one\n",
    "# Users: select those options from a text menu, executing multiple operations without restarting the program"
   ]
  },
  {
   "cell_type": "code",
   "execution_count": null,
   "metadata": {},
   "outputs": [],
   "source": [
    "def add_book_to_csv_file():\n",
    "    title = input(\"Book's title: \").lower()\n",
    "    author = input(\"Author's book: \").lower()\n",
    "    year = input(\"Year of publication: \")\n",
    "    \n",
    "    book = {\"title\": title, \"author\": author, \"year\": year}\n",
    "    book = \", \".join(book.values())\n",
    "    \n",
    "    with open(\"books.csv\", \"a\") as f:\n",
    "        f.write(\"\\n\" + book.strip())"
   ]
  },
  {
   "cell_type": "code",
   "execution_count": null,
   "metadata": {},
   "outputs": [],
   "source": [
    "def list_added_books(printing=True):\n",
    "    with open(\"books.csv\", \"r\") as f:\n",
    "        titles = []\n",
    "        for book in f:\n",
    "            book = book.strip(\"\\n\").split(\",\")\n",
    "            if printing:\n",
    "                print(f\"{book[0].title().strip()} by {book[1].title().strip()}, {book[2].strip()}.\")\n",
    "            titles.append(book[0].lower().strip())\n",
    "    return titles"
   ]
  },
  {
   "cell_type": "code",
   "execution_count": null,
   "metadata": {},
   "outputs": [],
   "source": [
    "def search_book():\n",
    "    with open(\"books.csv\", \"r\") as f:\n",
    "        title_book = input(\"Book's title to search: \").strip().lower()\n",
    "        book_titles = []\n",
    "        for book in f:\n",
    "            book = book.split(\",\")\n",
    "            if title_book in book[0].lower():\n",
    "                book_titles.append(book[0].lower())\n",
    "                print(f\"{book[0].title().strip()} by {book[1].title().strip()}, {book[2].strip()}.\")\n",
    "        return book_titles"
   ]
  },
  {
   "cell_type": "code",
   "execution_count": null,
   "metadata": {},
   "outputs": [],
   "source": [
    "def mark_book(title):\n",
    "    with open(\"books.csv\", \"r+\") as f:\n",
    "        lines = f.readlines()\n",
    "        for i, line in enumerate(lines):\n",
    "            if title == []:\n",
    "                print(\"Book not found!\")\n",
    "                break     \n",
    "            if line.startswith(title[0]) and \"READ\" not in line:\n",
    "                lines[i] = lines[i].strip() + \" - READ\\n\"\n",
    "        f.seek(0)\n",
    "        for line in lines:\n",
    "            f.write(line)\n",
    "            \n",
    "# https://stackoverflow.com/questions/22779650/appending-a-data-in-a-specific-line-of-a-text-file-in-python"
   ]
  },
  {
   "cell_type": "code",
   "execution_count": null,
   "metadata": {},
   "outputs": [],
   "source": [
    "def delete_book(title):\n",
    "    with open(\"books.csv\", \"r\") as f:\n",
    "        lines = f.readlines()\n",
    "        \n",
    "        for i, line in enumerate(lines):\n",
    "            if title == []:\n",
    "                print(\"Book not found!\")\n",
    "                break\n",
    "            if line.startswith(title[0]):\n",
    "                del lines[i]\n",
    "    \n",
    "    with open(\"books.csv\", \"w+\") as f:\n",
    "        for line in lines:\n",
    "            f.write(line)\n",
    "            \n",
    "# https://www.kite.com/python/answers/how-to-delete-a-line-from-a-file-in-python"
   ]
  },
  {
   "cell_type": "code",
   "execution_count": null,
   "metadata": {},
   "outputs": [],
   "source": [
    "def menu():\n",
    "    while True:\n",
    "        option_menu = input(\"\"\"Enter one option:\n",
    "                            - 'a': add a book\n",
    "                            - 'l': list all added books\n",
    "                            - 's': search for one specific book\n",
    "                            - 'm': mark a book as read\n",
    "                            - 'd': delete an added book\n",
    "                            - 'q': quit the menu \"\"\").strip().lower()\n",
    "        \n",
    "        titles = list_added_books(printing=False)\n",
    "        \n",
    "        if option_menu == \"a\":\n",
    "            add_book_to_csv_file()\n",
    "        elif option_menu == \"l\" :\n",
    "            titles = list_added_books(printing=True)\n",
    "        elif option_menu == \"s\":\n",
    "            book_title = search_book()\n",
    "            is_title = any(check in book_title for check in titles)\n",
    "            if is_title == False:\n",
    "                print(\"Book not found!\")\n",
    "        elif option_menu == \"m\":\n",
    "            book_title = search_book()\n",
    "            mark_book(book_title)\n",
    "        elif option_menu == \"d\":\n",
    "            book_title = search_book()\n",
    "            delete_book(book_title)\n",
    "        elif option_menu == \"q\":\n",
    "            print(\"Goodbye!\")\n",
    "            break\n",
    "        else:\n",
    "            print(f\"{option_menu} is an invalid option, try again!\")\n",
    "\n",
    "menu()"
   ]
  },
  {
   "cell_type": "markdown",
   "metadata": {},
   "source": [
    "## Blog's solution"
   ]
  },
  {
   "cell_type": "code",
   "execution_count": null,
   "metadata": {},
   "outputs": [],
   "source": [
    "def add_book():\n",
    "    title = input(\"Title: \").strip().title()\n",
    "    author = input(\"Author: \").strip().title()\n",
    "    year = input(\"Year of publication: \").strip()\n",
    "    \n",
    "    with open(\"books.csv\", \"a\") as reading_list:\n",
    "        reading_list.write(f\"{title},{author},{year},Not Read\\n\")"
   ]
  },
  {
   "cell_type": "code",
   "execution_count": null,
   "metadata": {},
   "outputs": [],
   "source": [
    "def delete_book(books, book_to_delete):\n",
    "    books.remove(book_to_delete)"
   ]
  },
  {
   "cell_type": "code",
   "execution_count": null,
   "metadata": {},
   "outputs": [],
   "source": [
    "def find_books():\n",
    "    reading_list = get_all_books()\n",
    "    matching_books = []\n",
    "    \n",
    "    search_term = input(\"Please enter a book title: \").strip().lower()\n",
    "    \n",
    "    for book in reading_list:\n",
    "        if search_term in book['title'].lower():\n",
    "            matching_books.append(book)\n",
    "    \n",
    "    return matching_books"
   ]
  },
  {
   "cell_type": "code",
   "execution_count": null,
   "metadata": {},
   "outputs": [],
   "source": [
    "def get_all_books():\n",
    "    books = []\n",
    "    \n",
    "    with open(\"books.csv\", \"r\") as reading_list:\n",
    "        for book in reading_list:\n",
    "            title, author, year, read_status = book.strip().split(\",\")\n",
    "            \n",
    "            books.append({\n",
    "                \"title\": title,\n",
    "                \"author\": author,\n",
    "                \"year\": year,\n",
    "                \"read\": read_status\n",
    "            })\n",
    "            \n",
    "    return books"
   ]
  },
  {
   "cell_type": "code",
   "execution_count": null,
   "metadata": {},
   "outputs": [],
   "source": [
    "def mark_book_as_read(books, book_to_update):\n",
    "    index = books.index(book_to_update)\n",
    "    books[index]['read'] = \"Read\""
   ]
  },
  {
   "cell_type": "code",
   "execution_count": null,
   "metadata": {},
   "outputs": [],
   "source": [
    "def update_reading_list(operation):\n",
    "    books = get_all_books()\n",
    "    matching_books = find_books()\n",
    "    \n",
    "    if matching_books:\n",
    "        operation(books, matching_books[0])\n",
    "        \n",
    "        with open(\"books.csv\", \"w\") as reading_list:\n",
    "            for book in books:\n",
    "                reading_list.write(f\"{book['title']},{book['author']},{book['year']},{book['read']}\\n\")\n",
    "    else:\n",
    "        print(\"Sorry, we didn;t find any books matching that title.\")"
   ]
  },
  {
   "cell_type": "code",
   "execution_count": null,
   "metadata": {},
   "outputs": [],
   "source": [
    "def show_books(books):\n",
    "    print()\n",
    "    \n",
    "    for book in books:\n",
    "        print(f\"{book['title']}, by {book['author']} ({book['year']}) - {book['read']}\")\n",
    "        \n",
    "    print()"
   ]
  },
  {
   "cell_type": "code",
   "execution_count": null,
   "metadata": {},
   "outputs": [],
   "source": [
    "menu_prompt = \"\"\"Please enter one of the following options:\n",
    "\n",
    "- 'a' to add a book\n",
    "- 'd' to delete a book\n",
    "- 'l' to list the books\n",
    "- 'r' to mark a book as read\n",
    "- 's' to search for a book\n",
    "- 'q' to quit\n",
    "\n",
    "What would you like to do? \"\"\"\n",
    "\n",
    "# Get a selection from the user\n",
    "selected_option = input(menu_prompt).strip().lower()\n",
    "\n",
    "# Run the loop until the user selected 'q'\n",
    "while selected_option != \"q\":\n",
    "    if selected_option == \"a\":\n",
    "        add_book()\n",
    "    elif selected_option == \"d\":\n",
    "        update_reading_list(delete_book)\n",
    "    elif selected_option == \"l\":\n",
    "        reading_list = get_all_books()\n",
    "        if reading_list:\n",
    "            show_books(reading_list)\n",
    "        else:\n",
    "            print(\"Your reading list is empty.\")\n",
    "    elif selected_option == \"r\":\n",
    "        update_reading_list(mark_book_as_read)\n",
    "    elif selected_option == \"s\":\n",
    "        matching_books = find_books()\n",
    "        if matching_books:\n",
    "            show_books(matching_books)\n",
    "        else:\n",
    "            print(\"Sorry, we didn't find any books for that search term\")\n",
    "    else:\n",
    "        print(f\"Sorry, '{selected_option}' isn't a valid option.\")\n",
    "\n",
    "    # Allow the user to change their selection at the end of each iteration\n",
    "    selected_option = input(menu_prompt).strip().lower()"
   ]
  },
  {
   "cell_type": "code",
   "execution_count": null,
   "metadata": {},
   "outputs": [],
   "source": []
  }
 ],
 "metadata": {
  "kernelspec": {
   "display_name": "Python 3.8.5 64-bit",
   "language": "python",
   "name": "python38564bit087f84167b174d959d40dbfe79d0aa56"
  },
  "language_info": {
   "codemirror_mode": {
    "name": "ipython",
    "version": 3
   },
   "file_extension": ".py",
   "mimetype": "text/x-python",
   "name": "python",
   "nbconvert_exporter": "python",
   "pygments_lexer": "ipython3",
   "version": "3.8.7"
  }
 },
 "nbformat": 4,
 "nbformat_minor": 4
}
