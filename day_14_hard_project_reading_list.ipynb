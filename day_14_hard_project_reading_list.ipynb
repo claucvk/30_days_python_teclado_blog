{
 "cells": [
  {
   "cell_type": "code",
   "execution_count": null,
   "metadata": {},
   "outputs": [],
   "source": [
    "# Users: add a book to their reading list (title, auhtor's name, year of publication)\n",
    "# Program: stores all books info in a file called books.csv\n",
    "# Users: retrieve the books in their reading list\n",
    "# Users: search a specific book (book title), printed out user-friendly format\n",
    "# Users: mark a book as read (book title). If multiple books, mark the first one\n",
    "# Users: delete books from their reading list (book title). If multiple books, delete the first one\n",
    "# Users: select those options from a text menu, executing multiple operations without restarting the program"
   ]
  },
  {
   "cell_type": "code",
   "execution_count": null,
   "metadata": {},
   "outputs": [],
   "source": [
    "def add_book_to_csv_file():\n",
    "    title = input(\"Book's title: \").lower()\n",
    "    author = input(\"Author's book: \").lower()\n",
    "    year = input(\"Year of publication: \")\n",
    "    \n",
    "    book = {\"title\": title, \"author\": author, \"year\": year}\n",
    "    book = \", \".join(book.values())\n",
    "    \n",
    "    with open(\"books.csv\", \"a\") as f:\n",
    "        f.write(\"\\n\" + book.strip())"
   ]
  },
  {
   "cell_type": "code",
   "execution_count": null,
   "metadata": {},
   "outputs": [],
   "source": [
    "def list_added_books(printing=True):\n",
    "    with open(\"books.csv\", \"r\") as f:\n",
    "        titles = []\n",
    "        for book in f:\n",
    "            book = book.strip(\"\\n\").split(\",\")\n",
    "            if printing:\n",
    "                print(f\"{book[0].title().strip()} by {book[1].title().strip()}, ({book[2].strip()}).\")\n",
    "            titles.append(book[0].lower().strip())\n",
    "    return titles"
   ]
  },
  {
   "cell_type": "code",
   "execution_count": null,
   "metadata": {},
   "outputs": [],
   "source": [
    "def search_book():\n",
    "    with open(\"books.csv\", \"r\") as f:\n",
    "        title_book = input(\"Book's title to search: \").strip().lower()\n",
    "        book_titles = []\n",
    "        for book in f:\n",
    "            book = book.split(\",\")\n",
    "            if title_book in book[0].lower():\n",
    "                book_titles.append(book[0].lower())\n",
    "                print(f\"{book[0].title().strip()} by {book[1].title().strip()}, ({book[2].strip()}).\")\n",
    "        return book_titles\n",
    "\n",
    "# r = search_book()\n",
    "# print(r)"
   ]
  },
  {
   "cell_type": "code",
   "execution_count": null,
   "metadata": {},
   "outputs": [],
   "source": [
    "def menu():\n",
    "    while True:\n",
    "        option_menu = input(\"\"\"Enter one option:\n",
    "                            - 'a': add a book\n",
    "                            - 'l': list all added books\n",
    "                            - 's': search for one specific book\n",
    "                            - 'm': mark a book as readed\n",
    "                            - 'd': delete an added book\n",
    "                            - 'q': quit the menu \"\"\").strip().lower()\n",
    "        \n",
    "        titles = list_added_books(printing=False)\n",
    "        \n",
    "        if option_menu == \"a\":\n",
    "            add_book_to_csv_file()\n",
    "        elif option_menu == \"l\" :\n",
    "            titles = list_added_books(printing=True)\n",
    "            list_added_books()\n",
    "        elif option_menu == \"s\":\n",
    "            book_title = search_book()\n",
    "            is_title = any(check in book_title for check in titles)\n",
    "            if is_title == False:\n",
    "                print(\"Book not found!\")\n",
    "        elif option_menu == \"m\":\n",
    "            print(\"marking a book as read\")\n",
    "        elif option_menu == \"d\":\n",
    "            print(\"deleting a book\")\n",
    "        elif option_menu == \"q\":\n",
    "            print(\"Goodbye!\")\n",
    "            break\n",
    "        else:\n",
    "            print(f\"{option_menu} is an invalid option, try again!\")\n",
    "\n",
    "menu()"
   ]
  },
  {
   "cell_type": "code",
   "execution_count": null,
   "metadata": {},
   "outputs": [],
   "source": []
  }
 ],
 "metadata": {
  "kernelspec": {
   "display_name": "Python 3.8.5 64-bit",
   "language": "python",
   "name": "python38564bit087f84167b174d959d40dbfe79d0aa56"
  },
  "language_info": {
   "codemirror_mode": {
    "name": "ipython",
    "version": 3
   },
   "file_extension": ".py",
   "mimetype": "text/x-python",
   "name": "python",
   "nbconvert_exporter": "python",
   "pygments_lexer": "ipython3",
   "version": "3.8.7"
  }
 },
 "nbformat": 4,
 "nbformat_minor": 4
}
