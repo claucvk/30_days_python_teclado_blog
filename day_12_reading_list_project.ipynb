{
 "cells": [
  {
   "cell_type": "code",
   "execution_count": null,
   "metadata": {},
   "outputs": [],
   "source": [
    "# Obj -> Create a program that can store and display books from a user's reading list\n",
    "\n",
    "# Users -> add a book to their reading list by providing: book title, author's name, year of publication\n",
    "# Program -> stores information about all of these books in a Python list\n",
    "# Users -> display all the books in their reading list, and these books printed out in a user-friendly format\n",
    "# Users -> select these options from a text menu\n",
    "     #  -> perfom multiple operations without restarting the program"
   ]
  },
  {
   "cell_type": "code",
   "execution_count": null,
   "metadata": {},
   "outputs": [],
   "source": [
    "reading_list = []"
   ]
  },
  {
   "cell_type": "code",
   "execution_count": null,
   "metadata": {},
   "outputs": [],
   "source": [
    "def adding_new_book():\n",
    "    new_book = input(\"Enter the book title, auhtor's name, year of publication, divided by a comma: \")\n",
    "    book_info = new_book.split(\",\")\n",
    "    reading_list.append({\n",
    "        \"title\": book_info[0], \n",
    "        \"author\": book_info[1], \n",
    "        \"year\": book_info[2]\n",
    "    })\n",
    "    print(\"Great you added a new book!\")"
   ]
  },
  {
   "cell_type": "code",
   "execution_count": null,
   "metadata": {},
   "outputs": [],
   "source": [
    "def displaying_reading_list():\n",
    "    print(\"Your reading list:\")\n",
    "    for index, _ in enumerate(reading_list):\n",
    "        print(f\"{reading_list[index]['title']}, {reading_list[index]['author']}, {reading_list[index]['year']}\")"
   ]
  },
  {
   "cell_type": "code",
   "execution_count": null,
   "metadata": {},
   "outputs": [],
   "source": [
    "def choosing_menu_options():\n",
    "    \n",
    "    while True:\n",
    "        menu_option = input(\"Enter 'a' to add a new book, 's' to show your reading list, 'q' to quit the program: \").lower().strip()\n",
    "        if menu_option == \"a\":\n",
    "            adding_new_book()\n",
    "        elif menu_option == \"d\":\n",
    "            displaying_reading_list()\n",
    "        elif menu_option == \"q\":\n",
    "            print(\"Quitting the menu!\")\n",
    "            break\n",
    "        else:\n",
    "            print(\"Invalid option, try again! \")\n",
    "        \n",
    "choosing_menu_options()"
   ]
  },
  {
   "cell_type": "code",
   "execution_count": null,
   "metadata": {},
   "outputs": [],
   "source": [
    "# Blog's solution"
   ]
  },
  {
   "cell_type": "code",
   "execution_count": 5,
   "metadata": {},
   "outputs": [],
   "source": [
    "reading_list = []"
   ]
  },
  {
   "cell_type": "code",
   "execution_count": 6,
   "metadata": {},
   "outputs": [],
   "source": [
    "def add_book():\n",
    "    title = input(\"Title: \").strip().title()\n",
    "    author = input(\"Author: \").strip().title()\n",
    "    year = input(\"Year of publication: \").strip()\n",
    "    \n",
    "    reading_list.append ({\n",
    "        \"title\": title,\n",
    "        \"author\": author,\n",
    "        \"year\": year\n",
    "    })"
   ]
  },
  {
   "cell_type": "code",
   "execution_count": 7,
   "metadata": {},
   "outputs": [],
   "source": [
    "def show_books():\n",
    "    for book in reading_list:\n",
    "        title, author, year = book.values()\n",
    "        print(f\"{title} by {author} ({year})\")\n",
    "    \n",
    "#     for book in reading_list:\n",
    "#         print(f\"{book['title']}, by {book['author']} ({book['year']})\")"
   ]
  },
  {
   "cell_type": "code",
   "execution_count": 8,
   "metadata": {},
   "outputs": [
    {
     "name": "stdin",
     "output_type": "stream",
     "text": [
      "Please enter one of the following options:\n",
      "\n",
      "- 'a' to add a book\n",
      "- 'l' to list the books\n",
      "- 'q' to quit\n",
      "\n",
      "What would you like to do?  l\n"
     ]
    },
    {
     "name": "stdout",
     "output_type": "stream",
     "text": [
      "Your reading list is empty.\n"
     ]
    },
    {
     "name": "stdin",
     "output_type": "stream",
     "text": [
      "Please enter one of the following options:\n",
      "\n",
      "- 'a' to add a book\n",
      "- 'l' to list the books\n",
      "- 'q' to quit\n",
      "\n",
      "What would you like to do?  a\n",
      "Title:  Monologues\n",
      "Author:  Claire de la Rue\n",
      "Year of publication:  1923\n",
      "Please enter one of the following options:\n",
      "\n",
      "- 'a' to add a book\n",
      "- 'l' to list the books\n",
      "- 'q' to quit\n",
      "\n",
      "What would you like to do?  l\n"
     ]
    },
    {
     "name": "stdout",
     "output_type": "stream",
     "text": [
      "Monologues by Claire De La Rue (1923)\n"
     ]
    },
    {
     "name": "stdin",
     "output_type": "stream",
     "text": [
      "Please enter one of the following options:\n",
      "\n",
      "- 'a' to add a book\n",
      "- 'l' to list the books\n",
      "- 'q' to quit\n",
      "\n",
      "What would you like to do?  q\n"
     ]
    }
   ],
   "source": [
    "menu_prompt = \"\"\"Please enter one of the following options:\n",
    "\n",
    "- 'a' to add a book\n",
    "- 'l' to list the books\n",
    "- 'q' to quit\n",
    "\n",
    "What would you like to do? \"\"\"\n",
    "\n",
    "selected_option = input(menu_prompt).strip().lower()\n",
    "\n",
    "while selected_option != \"q\":\n",
    "    if selected_option == \"a\":\n",
    "        add_book()\n",
    "    elif selected_option == \"l\":\n",
    "        if reading_list:\n",
    "            show_books()\n",
    "        else:\n",
    "            print(\"Your reading list is empty.\")\n",
    "    else:\n",
    "        print(f\"Sorry, '{selected_option}' isn't valid option.\")\n",
    "        \n",
    "    # Allow the user to change their selection at the end of each iteration\n",
    "    selected_option = input(menu_prompt).strip().lower()"
   ]
  },
  {
   "cell_type": "code",
   "execution_count": null,
   "metadata": {},
   "outputs": [],
   "source": []
  },
  {
   "cell_type": "code",
   "execution_count": null,
   "metadata": {},
   "outputs": [],
   "source": []
  },
  {
   "cell_type": "code",
   "execution_count": null,
   "metadata": {},
   "outputs": [],
   "source": []
  },
  {
   "cell_type": "code",
   "execution_count": null,
   "metadata": {},
   "outputs": [],
   "source": []
  }
 ],
 "metadata": {
  "kernelspec": {
   "display_name": "Python 3",
   "language": "python",
   "name": "python3"
  },
  "language_info": {
   "codemirror_mode": {
    "name": "ipython",
    "version": 3
   },
   "file_extension": ".py",
   "mimetype": "text/x-python",
   "name": "python",
   "nbconvert_exporter": "python",
   "pygments_lexer": "ipython3",
   "version": "3.8.7"
  }
 },
 "nbformat": 4,
 "nbformat_minor": 4
}
