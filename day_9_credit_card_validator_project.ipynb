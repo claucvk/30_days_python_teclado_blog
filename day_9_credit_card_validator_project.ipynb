{
 "cells": [
  {
   "cell_type": "code",
   "execution_count": null,
   "metadata": {},
   "outputs": [],
   "source": [
    "# Determine whether a given card number is valid or not, implementing the Luhn algorithm"
   ]
  },
  {
   "cell_type": "code",
   "execution_count": null,
   "metadata": {},
   "outputs": [],
   "source": [
    "credit_card_num = list(input(\"Please enter your credit card number: \").strip())"
   ]
  },
  {
   "cell_type": "code",
   "execution_count": null,
   "metadata": {},
   "outputs": [],
   "source": [
    "rigth_most_digit = 0\n",
    "credit_card_num_list = []\n",
    "sum = 0\n",
    "\n",
    "# Convert the credit car number string to a list of numbers\n",
    "for num in credit_card_num:\n",
    "    credit_card_num_list.append(int(num))\n",
    "    rigth_most_digit = int(num[-1])\n",
    "# Delete the last digit of the credit card number\n",
    "credit_card_num_list.pop()"
   ]
  },
  {
   "cell_type": "code",
   "execution_count": null,
   "metadata": {},
   "outputs": [],
   "source": [
    "credit_card_num_list"
   ]
  },
  {
   "cell_type": "code",
   "execution_count": null,
   "metadata": {},
   "outputs": [],
   "source": [
    "rigth_most_digit"
   ]
  },
  {
   "cell_type": "code",
   "execution_count": null,
   "metadata": {},
   "outputs": [],
   "source": [
    "# Reverse the order of the credit card number\n",
    "credit_card_num_list.reverse()"
   ]
  },
  {
   "cell_type": "code",
   "execution_count": null,
   "metadata": {},
   "outputs": [],
   "source": [
    "credit_card_num_list"
   ]
  },
  {
   "cell_type": "code",
   "execution_count": null,
   "metadata": {},
   "outputs": [],
   "source": [
    "for index, num in enumerate(credit_card_num_list):\n",
    "    # Take the digits at each of the even indices (0, 2, 4, 6, etc.) and double them.\n",
    "    if index % 2 == 0:\n",
    "        credit_card_num_list[index] = num * 2\n",
    "        # If any of the results are greater than 9, subtract 9 from those numbers.\n",
    "        if credit_card_num_list[index] > 9:\n",
    "            credit_card_num_list[index] -= 9    \n",
    "# Sum each digit and the most right digit\n",
    "    sum += credit_card_num_list[index]\n",
    "\n",
    "sum += rigth_most_digit\n",
    "print(sum)\n",
    "\n",
    "# Verify if the sum is divisible by 10: if yes is valid, if not not valid. \n",
    "if sum % 10 == 0:\n",
    "    print(\"Valid credit card number.\")\n",
    "else: \n",
    "    print(\"NOT valid credit card number.\")"
   ]
  },
  {
   "cell_type": "code",
   "execution_count": 1,
   "metadata": {},
   "outputs": [
    {
     "name": "stdin",
     "output_type": "stream",
     "text": [
      "Please enter a card number:  5893804115457289\n"
     ]
    }
   ],
   "source": [
    "# Blog's solution\n",
    "card_number = list(input(\"Please enter a card number: \").strip())"
   ]
  },
  {
   "cell_type": "code",
   "execution_count": 2,
   "metadata": {},
   "outputs": [],
   "source": [
    "# Remove last digit from the card number\n",
    "check_digit = card_number.pop()\n",
    "\n",
    "# Reverse the order of the remaining numbers\n",
    "card_number.reverse()\n",
    "\n",
    "processed_digits = []"
   ]
  },
  {
   "cell_type": "code",
   "execution_count": 3,
   "metadata": {},
   "outputs": [],
   "source": [
    "for index, digit in enumerate(card_number):\n",
    "    if index % 2 == 0:\n",
    "        doubled_digit = int(digit) * 2\n",
    "        # Substract 9 from results that are greater than 9\n",
    "        if doubled_digit > 9:\n",
    "            doubled_digit = doubled_digit - 9\n",
    "            \n",
    "        processed_digits.append(doubled_digit)\n",
    "    else:\n",
    "        processed_digits.append(int(digit))"
   ]
  },
  {
   "cell_type": "code",
   "execution_count": 6,
   "metadata": {},
   "outputs": [
    {
     "name": "stdout",
     "output_type": "stream",
     "text": [
      "80\n"
     ]
    }
   ],
   "source": [
    "# Sum all digits in the list including the check_digit\n",
    "total = int(check_digit) + sum(processed_digits)\n",
    "\n",
    "# for digit in processed_digits:\n",
    "#     total = total + digit\n",
    "print(total)"
   ]
  },
  {
   "cell_type": "code",
   "execution_count": 7,
   "metadata": {},
   "outputs": [
    {
     "name": "stdout",
     "output_type": "stream",
     "text": [
      "Valid!\n"
     ]
    }
   ],
   "source": [
    "# Verify that the sum of the digits is divisible by 10\n",
    "if total % 10 == 0:\n",
    "    print(\"Valid!\")\n",
    "else:\n",
    "    print(\"Invalid!\")"
   ]
  },
  {
   "cell_type": "code",
   "execution_count": null,
   "metadata": {},
   "outputs": [],
   "source": []
  }
 ],
 "metadata": {
  "kernelspec": {
   "display_name": "Python 3",
   "language": "python",
   "name": "python3"
  },
  "language_info": {
   "codemirror_mode": {
    "name": "ipython",
    "version": 3
   },
   "file_extension": ".py",
   "mimetype": "text/x-python",
   "name": "python",
   "nbconvert_exporter": "python",
   "pygments_lexer": "ipython3",
   "version": "3.8.7"
  }
 },
 "nbformat": 4,
 "nbformat_minor": 4
}
