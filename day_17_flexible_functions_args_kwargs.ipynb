{
 "cells": [
  {
   "cell_type": "code",
   "execution_count": 1,
   "metadata": {},
   "outputs": [],
   "source": [
    "# *arg and **kwargs make a function flexible by accepting any number of arguments"
   ]
  },
  {
   "cell_type": "code",
   "execution_count": 2,
   "metadata": {},
   "outputs": [],
   "source": [
    "# How to accept as many arguments as the user provides?\n",
    "# Accepting an arbitrary number of positional arguments"
   ]
  },
  {
   "cell_type": "code",
   "execution_count": 3,
   "metadata": {},
   "outputs": [],
   "source": [
    "# *args -> put all args in a tuple. This tuple is what gets assigned to our * parameter"
   ]
  },
  {
   "cell_type": "code",
   "execution_count": 5,
   "metadata": {},
   "outputs": [
    {
     "name": "stdout",
     "output_type": "stream",
     "text": [
      "50\n"
     ]
    }
   ],
   "source": [
    "def mul(x, y):\n",
    "    print(x * y)\n",
    "    \n",
    "mul(5, 10)\n",
    "\n",
    "# We're passing two positional args (position of the argument is what matters when assigning values to parameters)\n",
    "# Since 5 is in first position, it gets assigned to the x parameter"
   ]
  },
  {
   "cell_type": "code",
   "execution_count": 6,
   "metadata": {},
   "outputs": [
    {
     "name": "stdout",
     "output_type": "stream",
     "text": [
      "50\n"
     ]
    }
   ],
   "source": [
    "def mul(*args):\n",
    "    print(args[0] * args[1])\n",
    "    \n",
    "mul(5, 10)\n",
    "\n",
    "# The parameter will collect any positional arguments that aren't assigned to anything else, and make them into a tuple of values\n",
    "# Using *args in this case isn't necessary, because the function accepts only two args, not any number of args"
   ]
  },
  {
   "cell_type": "code",
   "execution_count": 8,
   "metadata": {},
   "outputs": [
    {
     "name": "stdout",
     "output_type": "stream",
     "text": [
      "Hello pimpollo, Sofia!\n",
      "Hello pimpollo, Lola!\n",
      "Hello pimpollo, Agustin!\n",
      "Hello pimpollo, Sebastian!\n",
      "Hello pimpollo, Nicanor!\n",
      "Hello pimpollo, Lorena!\n"
     ]
    }
   ],
   "source": [
    "def multigreet(*names):\n",
    "    for name in names:\n",
    "        print(f\"Hello pimpollo, {name}!\")\n",
    "        \n",
    "multigreet(\"Sofia\", \"Lola\", \"Agustin\", \"Sebastian\")\n",
    "multigreet(\"Nicanor\", \"Lorena\")"
   ]
  },
  {
   "cell_type": "code",
   "execution_count": 9,
   "metadata": {},
   "outputs": [],
   "source": [
    "# Parameter order with *args\n",
    "# OJO be very aware of the order of the params -> any params defined after the *args cannot accept positional args"
   ]
  },
  {
   "cell_type": "code",
   "execution_count": 12,
   "metadata": {},
   "outputs": [
    {
     "ename": "TypeError",
     "evalue": "multigreet() missing 1 required keyword-only argument: 'other'",
     "output_type": "error",
     "traceback": [
      "\u001b[0;31m---------------------------------------------------------------------------\u001b[0m",
      "\u001b[0;31mTypeError\u001b[0m                                 Traceback (most recent call last)",
      "\u001b[0;32m<ipython-input-12-492a827cfd40>\u001b[0m in \u001b[0;36m<module>\u001b[0;34m\u001b[0m\n\u001b[1;32m      3\u001b[0m         \u001b[0mprint\u001b[0m\u001b[0;34m(\u001b[0m\u001b[0;34mf\"Hello, {name}!\"\u001b[0m\u001b[0;34m)\u001b[0m\u001b[0;34m\u001b[0m\u001b[0;34m\u001b[0m\u001b[0m\n\u001b[1;32m      4\u001b[0m \u001b[0;34m\u001b[0m\u001b[0m\n\u001b[0;32m----> 5\u001b[0;31m \u001b[0mmultigreet\u001b[0m\u001b[0;34m(\u001b[0m\u001b[0;34m\"Sol\"\u001b[0m\u001b[0;34m,\u001b[0m \u001b[0;34m\"Luna\"\u001b[0m\u001b[0;34m)\u001b[0m \u001b[0;31m# TypeError: multigreet() missing 1 required keyword-only argument: 'other'\u001b[0m\u001b[0;34m\u001b[0m\u001b[0;34m\u001b[0m\u001b[0m\n\u001b[0m\u001b[1;32m      6\u001b[0m \u001b[0;34m\u001b[0m\u001b[0m\n\u001b[1;32m      7\u001b[0m \u001b[0;31m# If other param is placed before *names, this exception goes away -> Python will assing to the positional args in order, and gather up what's left for *names param\u001b[0m\u001b[0;34m\u001b[0m\u001b[0;34m\u001b[0m\u001b[0;34m\u001b[0m\u001b[0m\n",
      "\u001b[0;31mTypeError\u001b[0m: multigreet() missing 1 required keyword-only argument: 'other'"
     ]
    }
   ],
   "source": [
    "def multigreet(*names, other):\n",
    "    for name in names:\n",
    "        print(f\"Hello, {name}!\")\n",
    "        \n",
    "multigreet(\"Sol\", \"Luna\") # TypeError: multigreet() missing 1 required keyword-only argument: 'other'\n",
    "\n",
    "# If other param is placed before *names, this exception goes away -> Python will assing to the positional args in order, and gather up what's left for *names param"
   ]
  },
  {
   "cell_type": "code",
   "execution_count": 13,
   "metadata": {},
   "outputs": [],
   "source": [
    "# Accepting an arbitrary number of keyword arguments"
   ]
  },
  {
   "cell_type": "code",
   "execution_count": 15,
   "metadata": {},
   "outputs": [
    {
     "data": {
      "text/plain": [
       "{'name': 'Phil', 'age': 29, 'city': 'Budapest', 'nationality': 'British'}"
      ]
     },
     "execution_count": 15,
     "metadata": {},
     "output_type": "execute_result"
    }
   ],
   "source": [
    "dict(name=\"Phil\", age=29, city=\"Budapest\", nationality=\"British\") # {'name': 'Phil', 'age': 29, 'city': 'Budapest', 'nationality': 'British'}\n",
    "\n",
    "# keywords become keys, and the values matched to each keyword become the values associated with those keys\n",
    "# dict doesn't know in advance how many keys an values we want to create our dictionary with, so it has to be flexible and accept any number of keyword args"
   ]
  },
  {
   "cell_type": "code",
   "execution_count": 16,
   "metadata": {},
   "outputs": [],
   "source": [
    "# **kwargs is a dictionary\n",
    "# **kwargs always have to be defined after *args or any other keyword args - **kwargs always has to be the final parameter defined, we'll get an error (invalid synta)"
   ]
  },
  {
   "cell_type": "code",
   "execution_count": 18,
   "metadata": {},
   "outputs": [
    {
     "name": "stdout",
     "output_type": "stream",
     "text": [
      "title: The Matrix\n",
      "director: Wachowski\n",
      "year: 1999\n"
     ]
    }
   ],
   "source": [
    "def pretty_print(**movies):\n",
    "    for key, value in movies.items():\n",
    "        print(f\"{key}: {value}\")\n",
    "        \n",
    "pretty_print(title=\"The Matrix\", director=\"Wachowski\", year=1999)"
   ]
  },
  {
   "cell_type": "code",
   "execution_count": 19,
   "metadata": {},
   "outputs": [],
   "source": [
    "# Other uses for * and **"
   ]
  },
  {
   "cell_type": "code",
   "execution_count": 20,
   "metadata": {},
   "outputs": [],
   "source": [
    "# They can be used to unpackin an iterable into individual values\n",
    "# How to destructure an iterable so that we can pass many values to *args? -> Put a * before the iterable we're passing in as an argument"
   ]
  },
  {
   "cell_type": "code",
   "execution_count": 24,
   "metadata": {},
   "outputs": [
    {
     "name": "stdout",
     "output_type": "stream",
     "text": [
      "1 | 2 | 3 | 4 | 5\n"
     ]
    }
   ],
   "source": [
    "numbers = [1, 2, 3, 4, 5]\n",
    "\n",
    "print(*numbers, sep=\" | \") # 1 | 2 | 3 | 4 | 5"
   ]
  },
  {
   "cell_type": "code",
   "execution_count": 25,
   "metadata": {},
   "outputs": [],
   "source": [
    "# Destructuring a dictionary using *\n",
    "# Python return keys when iterating over a dictionary. So, we need to use the values or items methis when using *"
   ]
  },
  {
   "cell_type": "code",
   "execution_count": 34,
   "metadata": {},
   "outputs": [
    {
     "name": "stdout",
     "output_type": "stream",
     "text": [
      "The Matrix\n",
      "Wachowski\n",
      "1999\n"
     ]
    }
   ],
   "source": [
    "def print_movie(*args):\n",
    "    for value in args:\n",
    "        print(value)\n",
    "\n",
    "movie = {\n",
    "    \"title\": \"The Matrix\",\n",
    "    \"director\": \"Wachowski\",\n",
    "    \"year\": 1999\n",
    "}\n",
    "\n",
    "print_movie(*movie.values())"
   ]
  },
  {
   "cell_type": "code",
   "execution_count": 27,
   "metadata": {},
   "outputs": [],
   "source": [
    "# Destructuring a dictionary with ** | Turn a dictionary into a series of keywords arguments"
   ]
  },
  {
   "cell_type": "code",
   "execution_count": 33,
   "metadata": {},
   "outputs": [
    {
     "name": "stdout",
     "output_type": "stream",
     "text": [
      "title: The Matrix\n",
      "director: Wachowski\n",
      "year: 1999\n"
     ]
    }
   ],
   "source": [
    "def print_movie(**kwargs):\n",
    "    for key, value in kwargs.items():\n",
    "        print(f\"{key}: {value}\")\n",
    "\n",
    "movie = {\n",
    "    \"title\": \"The Matrix\",\n",
    "    \"director\": \"Wachowski\",\n",
    "    \"year\": 1999\n",
    "}\n",
    "\n",
    "print_movie(**movie)\n",
    "\n",
    "# **movie -> turns the dictionary into keywords arguments, these are passed to print_movie\n",
    "# **kwargs parameter -> collects them back into a dictionary"
   ]
  },
  {
   "cell_type": "code",
   "execution_count": 36,
   "metadata": {},
   "outputs": [
    {
     "name": "stdout",
     "output_type": "stream",
     "text": [
      "title: The Matrix\n",
      "director: Wachowski\n",
      "year: 1999\n"
     ]
    }
   ],
   "source": [
    "def print_movie(movie_details):\n",
    "    for key, value in movie_details.items():\n",
    "        print(f\"{key}: {value}\")\n",
    "\n",
    "movie = {\n",
    "    \"title\": \"The Matrix\",\n",
    "    \"director\": \"Wachowski\",\n",
    "    \"year\": 1999\n",
    "}\n",
    "\n",
    "print_movie(movie)\n",
    "\n",
    "# This would be valid, but **kwargs can provide more flexibility when it comes to collecting unassigned keyword arguments, and not only those coming from a dictionary"
   ]
  },
  {
   "cell_type": "code",
   "execution_count": 38,
   "metadata": {},
   "outputs": [
    {
     "name": "stdout",
     "output_type": "stream",
     "text": [
      "studio: Warner Bros\n",
      "title: The Matrix\n",
      "director: Wachowski\n",
      "year: 1999\n"
     ]
    }
   ],
   "source": [
    "def print_movie(**kwargs):\n",
    "    for key, value in kwargs.items():\n",
    "        print(f\"{key}: {value}\")\n",
    "        \n",
    "movie = {\n",
    "    \"title\": \"The Matrix\",\n",
    "    \"director\": \"Wachowski\",\n",
    "    \"year\": 1999\n",
    "}\n",
    "\n",
    "print_movie(studio=\"Warner Bros\", **movie)\n",
    "\n",
    "# Because we use **kwargs we collect both the studio argument as well as all the movie. We couldn't do this with a single parameter"
   ]
  },
  {
   "cell_type": "code",
   "execution_count": 39,
   "metadata": {},
   "outputs": [],
   "source": [
    "# Merging dictionaries with ** and using format method"
   ]
  },
  {
   "cell_type": "code",
   "execution_count": 58,
   "metadata": {},
   "outputs": [
    {
     "name": "stdout",
     "output_type": "stream",
     "text": [
      "\n",
      "Interview with the Vampire, by Anne Rice (1976)\n",
      "Cien Años de Soledad, by Gabriel García Marquez (1967)\n",
      "\n"
     ]
    }
   ],
   "source": [
    "# Using an f-string\n",
    "\n",
    "books = [\n",
    "    { \"title\": \"Interview with the Vampire\", \"author\": \"Anne Rice\", \"year\": 1976},\n",
    "    {\"title\": \"Cien Años de Soledad\", \"author\": \"Gabriel García Marquez\", \"year\": 1967}\n",
    "]\n",
    "\n",
    "def show_books(books):\n",
    "    print()\n",
    "    \n",
    "    for book in books:\n",
    "        print(f\"{book['title']}, by {book['author']} ({book['year']})\")\n",
    "    \n",
    "    print()\n",
    "\n",
    "show_books(books)"
   ]
  },
  {
   "cell_type": "code",
   "execution_count": 60,
   "metadata": {},
   "outputs": [
    {
     "name": "stdout",
     "output_type": "stream",
     "text": [
      "\n",
      "Interview with the Vampire, by Anne Rice (1976)\n",
      "Cien Años de Soledad, by Gabriel García Marquez (1967)\n",
      "\n"
     ]
    }
   ],
   "source": [
    "# ** and format method with name placeholders - pass in **book to format\n",
    "# Define a template to be reusable in multiple places in the code\n",
    "\n",
    "book_template = \"{title}, by {author} ({year})\"\n",
    "\n",
    "books = [\n",
    "    { \"title\": \"Interview with the Vampire\", \"author\": \"Anne Rice\", \"year\": 1976},\n",
    "    {\"title\": \"Cien Años de Soledad\", \"author\": \"Gabriel García Marquez\", \"year\": 1967}\n",
    "]\n",
    "\n",
    "def show_books(books):\n",
    "    print()\n",
    "    \n",
    "    for book in books:\n",
    "        #print(\"{title}, by {author} ({year})\".format(**book))\n",
    "        print(book_template.format(**book))\n",
    "    \n",
    "    print()\n",
    "    \n",
    "show_books(books)"
   ]
  },
  {
   "cell_type": "markdown",
   "metadata": {},
   "source": [
    "## Exercises"
   ]
  },
  {
   "cell_type": "code",
   "execution_count": 61,
   "metadata": {},
   "outputs": [],
   "source": [
    "# Exercise 1: create a function that accepts any number of numbers as positional args and prints the sum of those numbers"
   ]
  },
  {
   "cell_type": "code",
   "execution_count": 63,
   "metadata": {},
   "outputs": [
    {
     "name": "stdout",
     "output_type": "stream",
     "text": [
      "8\n",
      "16\n"
     ]
    }
   ],
   "source": [
    "def sum_numbers(*numbers):\n",
    "    print(sum(numbers))\n",
    "\n",
    "sum_numbers(2, 3, 3)\n",
    "sum_numbers(4, 4, 4, 4)"
   ]
  },
  {
   "cell_type": "code",
   "execution_count": 64,
   "metadata": {},
   "outputs": [],
   "source": [
    "# Exercise 2:\n",
    "# Create a function that accepts any number of positional and keyword arguments, and that prints them back to the user\n",
    "# The ouput should indicate which values were provided as positional args, and which were provided as keyword args"
   ]
  },
  {
   "cell_type": "code",
   "execution_count": 71,
   "metadata": {},
   "outputs": [
    {
     "name": "stdout",
     "output_type": "stream",
     "text": [
      "Positional arguments: ('lettuce', 'tomato', 'avocato') \n",
      "Keywords arguments: {'fruit': 'watermelon', 'drink': 'coconut water'}\n"
     ]
    }
   ],
   "source": [
    "def shop_list(*vegetables, **others):\n",
    "    print(f\"Positional arguments: {vegetables} \\nKeywords arguments: {others}\")\n",
    "    \n",
    "shop_list(\"lettuce\", \"tomato\", \"avocato\", fruit=\"watermelon\", drink=\"coconut water\")"
   ]
  },
  {
   "cell_type": "code",
   "execution_count": 72,
   "metadata": {},
   "outputs": [],
   "source": [
    "# Exercise 3: Print a dictionary using the format method and ** unpacking"
   ]
  },
  {
   "cell_type": "code",
   "execution_count": 79,
   "metadata": {},
   "outputs": [
    {
     "name": "stdout",
     "output_type": "stream",
     "text": [
      "Country: Germany, Population: 83 million, Capital: Berlin, Currency: Euro\n"
     ]
    }
   ],
   "source": [
    "country = {\n",
    "     \"name\": \"Germany\",\n",
    "     \"population\": \"83 million\",\n",
    "     \"capital\": \"Berlin\",\n",
    "     \"currency\": \"Euro\"\n",
    " }\n",
    "\n",
    "\n",
    "def country_info(country):\n",
    "    print(\"Country: {name}, Population: {population}, Capital: {capital}, Currency: {currency}\".format(**country))\n",
    "\n",
    "country_info(country)"
   ]
  },
  {
   "cell_type": "code",
   "execution_count": null,
   "metadata": {},
   "outputs": [],
   "source": [
    "# Exercise 3, using a template and a for loop"
   ]
  },
  {
   "cell_type": "code",
   "execution_count": 97,
   "metadata": {},
   "outputs": [
    {
     "name": "stdout",
     "output_type": "stream",
     "text": [
      "Country: Germany, Population: 83 million, Capital: Berlin, Currency: Euro.\n",
      "Country: Venezuela, Population: 28 million, Capital: Caracas, Currency: Bolívares.\n",
      "Country: United State of America, Population: 331 million, Capital: Washington, D.C., Currency: United States dollar.\n",
      "Country: France, Population: 67 million, Capital: Paris, Currency: Euro.\n"
     ]
    }
   ],
   "source": [
    "countries = [\n",
    "    {\"name\": \"Germany\", \"population\": \"83 million\", \"capital\": \"Berlin\", \"currency\": \"Euro\"},\n",
    "    {\"name\": \"Venezuela\", \"population\": \"28 million\", \"capital\": \"Caracas\", \"currency\": \"Bolívares\"},\n",
    "    {\"name\": \"United State of America\", \"population\": \"331 million\", \"capital\": \"Washington, D.C.\", \"currency\": \"United States dollar\"},\n",
    "    {\"name\": \"France\", \"population\": \"67 million\", \"capital\": \"Paris\", \"currency\": \"Euro\"}\n",
    "]\n",
    "\n",
    "country_template = \"Country: {name}, Population: {population}, Capital: {capital}, Currency: {currency}.\"\n",
    "\n",
    "def country_info(countries):\n",
    "    for country in countries:\n",
    "        print(country_template.format(**country))\n",
    "\n",
    "country_info(countries)"
   ]
  },
  {
   "cell_type": "code",
   "execution_count": 80,
   "metadata": {},
   "outputs": [],
   "source": [
    "# Exercise 4: Using * unpacking and range, print the numbers 1 to 20, separated by commas. Provide sep parameter for print function "
   ]
  },
  {
   "cell_type": "code",
   "execution_count": 88,
   "metadata": {},
   "outputs": [
    {
     "name": "stdout",
     "output_type": "stream",
     "text": [
      "1, 2, 3, 4, 5, 6, 7, 8, 9, 10, 11, 12, 13, 14, 15, 16, 17, 18, 19, 20\n"
     ]
    }
   ],
   "source": [
    "print(*range(1, 21), sep=\", \")"
   ]
  },
  {
   "cell_type": "code",
   "execution_count": 85,
   "metadata": {},
   "outputs": [],
   "source": [
    "# Exercise 5: Modify your code from exercise 4 so that each number prints on a different line. Use only a single print call"
   ]
  },
  {
   "cell_type": "code",
   "execution_count": 89,
   "metadata": {},
   "outputs": [
    {
     "name": "stdout",
     "output_type": "stream",
     "text": [
      "1\n",
      "2\n",
      "3\n",
      "4\n",
      "5\n",
      "6\n",
      "7\n",
      "8\n",
      "9\n",
      "10\n",
      "11\n",
      "12\n",
      "13\n",
      "14\n",
      "15\n",
      "16\n",
      "17\n",
      "18\n",
      "19\n",
      "20\n"
     ]
    }
   ],
   "source": [
    "print(*range(1, 21), sep=\"\\n\")"
   ]
  },
  {
   "cell_type": "code",
   "execution_count": 98,
   "metadata": {},
   "outputs": [],
   "source": [
    "# Blog's solution"
   ]
  },
  {
   "cell_type": "code",
   "execution_count": 99,
   "metadata": {},
   "outputs": [],
   "source": [
    "# Exercise 2"
   ]
  },
  {
   "cell_type": "code",
   "execution_count": 110,
   "metadata": {},
   "outputs": [
    {
     "name": "stdout",
     "output_type": "stream",
     "text": [
      "Positional arguments are: 1, 'blue', [1, 23, 3]\n",
      "Keyword arguments are: height=184, key=<function <lambda> at 0x10e947d30>\n"
     ]
    }
   ],
   "source": [
    "def arg_printers(*args, **kwargs):\n",
    "    args = [repr(arg) for arg in args]\n",
    "    print(f\"Positional arguments are: {', '.join(args)}\")\n",
    "    \n",
    "    kwargs = [f\"{key}={repr(value)}\"for key, value in kwargs.items()]\n",
    "    print(f\"Keyword arguments are: {', '.join(kwargs)}\")\n",
    "    \n",
    "arg_printers(1, \"blue\", [1, 23, 3], height=184, key=lambda x: x ** 2)"
   ]
  },
  {
   "cell_type": "raw",
   "metadata": {},
   "source": []
  }
 ],
 "metadata": {
  "kernelspec": {
   "display_name": "Python 3.8.5 64-bit",
   "language": "python",
   "name": "python38564bit087f84167b174d959d40dbfe79d0aa56"
  },
  "language_info": {
   "codemirror_mode": {
    "name": "ipython",
    "version": 3
   },
   "file_extension": ".py",
   "mimetype": "text/x-python",
   "name": "python",
   "nbconvert_exporter": "python",
   "pygments_lexer": "ipython3",
   "version": "3.8.8"
  }
 },
 "nbformat": 4,
 "nbformat_minor": 4
}
