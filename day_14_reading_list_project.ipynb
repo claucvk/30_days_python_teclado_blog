{
 "cells": [
  {
   "cell_type": "code",
   "execution_count": null,
   "metadata": {},
   "outputs": [],
   "source": [
    "# Create a program that can store and retrieve information related to a user's reading list"
   ]
  },
  {
   "cell_type": "code",
   "execution_count": null,
   "metadata": {},
   "outputs": [],
   "source": [
    "# Usesr: add a book to their reading list by providing a book title, author's name, and year of publication\n",
    "# Program: store information about all these books in a file called books.csv - Store data in CSV format\n",
    "# Users: retrieve the books in their reading list, books pritend out in a user-friendly format\n",
    "# Users: search for a specific book by providing a book title\n",
    "# Users: select these options from a text menu, and perform multiple operations without restarting the program"
   ]
  },
  {
   "cell_type": "code",
   "execution_count": null,
   "metadata": {},
   "outputs": [],
   "source": [
    "reading_list = []\n",
    "book = \"\""
   ]
  },
  {
   "cell_type": "code",
   "execution_count": null,
   "metadata": {},
   "outputs": [],
   "source": [
    "def add_book():\n",
    "    title = input(\"Enter the title of the book: \").strip().lower()\n",
    "    author = input(\"Enter the name of the book's author: \").strip().lower()\n",
    "    year = input(\"Enter the book's year of publication: \").strip().lower()\n",
    "    \n",
    "    book = {\n",
    "        \"title\": title,\n",
    "        \"author\": author,\n",
    "        \"year\": year\n",
    "    }\n",
    "    \n",
    "    reading_list.append(book)\n",
    "    return book"
   ]
  },
  {
   "cell_type": "code",
   "execution_count": null,
   "metadata": {},
   "outputs": [],
   "source": [
    "def show_reading_list():\n",
    "    with open(\"reading_list.csv\", \"r\") as f:\n",
    "        for book in f:\n",
    "            books_in_file = book.split(\",\")\n",
    "            print(f\"{books_in_file[0].capitalize()} by {books_in_file[1].capitalize()}, published in {books_in_file[2]}\")"
   ]
  },
  {
   "cell_type": "code",
   "execution_count": null,
   "metadata": {},
   "outputs": [],
   "source": [
    "def find_one_book():\n",
    "    book_title = input(\"Enter the title of the book: \").strip().lower()\n",
    "    with open(\"reading_list.csv\", \"r\") as f:\n",
    "        for book in f:\n",
    "            books_in_file = book.split(\",\")\n",
    "            if book_title in books_in_file[0]:\n",
    "                print(f\"{books_in_file[0].capitalize()} by {books_in_file[1].capitalize()}, published in {books_in_file[2]}\")\n",
    "    return book_title"
   ]
  },
  {
   "cell_type": "code",
   "execution_count": null,
   "metadata": {},
   "outputs": [],
   "source": [
    "def menu():\n",
    "    while True:\n",
    "        menu_option = input(\"\"\"Enter an option:\n",
    "                                'a': add a book\n",
    "                                's': show your reading list\n",
    "                                'g': get a book from your reading list\n",
    "                                'q': quit the menu\n",
    "        \"\"\")\n",
    "        if menu_option == \"a\":\n",
    "            book = add_book()\n",
    "            with open(\"reading_list.csv\", \"r\") as f:\n",
    "                file = f.readlines()\n",
    "            if len(file) == 0:\n",
    "                with open(\"reading_list.csv\", \"w\") as data:\n",
    "                    #data.write(\", \".join(book.keys()) + \"\\n\")\n",
    "                    data.write(\", \".join(book.values()) + \"\\n\")\n",
    "            else:\n",
    "                with open(\"reading_list.csv\", \"a\") as data:\n",
    "                    data.write(\", \".join(book.values()) + \"\\n\")\n",
    "        elif menu_option == \"s\":\n",
    "            with open(\"reading_list.csv\", \"r\") as f:\n",
    "                file = f.readlines()\n",
    "            if len(file) == 0:\n",
    "                print(\"Your reading list is empty!\")\n",
    "            else:\n",
    "                show_reading_list()               \n",
    "        elif menu_option == \"g\":\n",
    "            book_title = find_one_book()\n",
    "            titles = [dictionary[\"title\"] for dictionary in reading_list]\n",
    "            if book_title not in titles:\n",
    "                print(\"Book not found!\")              \n",
    "        elif menu_option == \"q\":\n",
    "            print(\"Quiting the menu!\")\n",
    "            break\n",
    "        else:\n",
    "            print(\"Invalid option, try again!\")\n",
    "    \n",
    "menu()"
   ]
  },
  {
   "cell_type": "code",
   "execution_count": null,
   "metadata": {},
   "outputs": [],
   "source": [
    "# Blog's solution"
   ]
  },
  {
   "cell_type": "code",
   "execution_count": null,
   "metadata": {},
   "outputs": [],
   "source": [
    "def add_book():\n",
    "    title = input(\"Title: \").strip().title()\n",
    "    author = input(\"Author: \").strip().title()\n",
    "    year = input(\"Year of publication: \").strip()\n",
    "    \n",
    "    #book = f\"{title}, {author}, {year}\\n\"\n",
    "    with open(\"books.csv\", \"a\") as reading_list:\n",
    "        reading_list.write(f\"{title},{author},{year}\\n\")"
   ]
  },
  {
   "cell_type": "code",
   "execution_count": null,
   "metadata": {},
   "outputs": [],
   "source": [
    "def find_books():\n",
    "    reading_list = get_all_books()\n",
    "    matching_books = []\n",
    "    \n",
    "    search_term = input(\"Please enter a book title to search for: \").strip().lower()\n",
    "    \n",
    "    for book in reading_list:\n",
    "        if search_term in book[\"title\"].lower():\n",
    "            matching_books.append(book)\n",
    "    \n",
    "    return matching_books"
   ]
  },
  {
   "cell_type": "code",
   "execution_count": null,
   "metadata": {},
   "outputs": [],
   "source": [
    "# Helper function for retrieving data from the csv file\n",
    "\n",
    "def get_all_books():\n",
    "    books = []\n",
    "    \n",
    "    with open(\"books.csv\", \"r\") as reading_list:\n",
    "        for book in reading_list:\n",
    "            # Extracts the values from the CSV data\n",
    "            title, author, year = book.strip().split(\",\")\n",
    "            \n",
    "            # Creates a dictionary from the csv data and adds it to the book list\n",
    "            books.append({\n",
    "                \"title\": title,\n",
    "                \"author\": author,\n",
    "                \"year\": year\n",
    "            })\n",
    "            \n",
    "    return books"
   ]
  },
  {
   "cell_type": "code",
   "execution_count": null,
   "metadata": {},
   "outputs": [],
   "source": [
    "def show_books(books):\n",
    "    # Adds an empty line before the output\n",
    "    print()\n",
    "    \n",
    "    for book in books:\n",
    "        print(f\"{book['title']}, by {book['author']} ({book['year']})\")\n",
    "    \n",
    "    print()"
   ]
  },
  {
   "cell_type": "code",
   "execution_count": null,
   "metadata": {},
   "outputs": [],
   "source": [
    "menu_prompt = \"\"\" Please enter one of the following options:\n",
    "- 'a' to add a book\n",
    "- 'l' to list the books\n",
    "- 's' to search for a book\n",
    "- 'q' to quit\n",
    "What would you like to do? \"\"\"\n",
    "\n",
    "# Get a selection from the user\n",
    "selected_option = input(menu_prompt).strip().lower()\n",
    "\n",
    "# Run the loop until the user selected \"q\"\n",
    "while selected_option != \"q\":\n",
    "    if selected_option == \"a\":\n",
    "        add_book()\n",
    "    elif selected_option == \"l\":\n",
    "        reading_list = get_all_books()\n",
    "        if reading_list:\n",
    "            show_books(reading_list)\n",
    "        else:\n",
    "            print(\"Your reading list is empty.\")\n",
    "    elif selected_option == \"s\":\n",
    "        matching_books = find_books()\n",
    "        \n",
    "        if matching_books:\n",
    "            show_books(matching_books)\n",
    "        else:\n",
    "            print(\"Sorry, we didn't find any books for that search term.\")\n",
    "    else:\n",
    "        print(f\"Sorry, {selected_option} isn't valid option.\")\n",
    "        \n",
    "    # Allow the user to change their selection at the end of each iteration\n",
    "    selected_option = input(menu_prompt).strip().lower()"
   ]
  },
  {
   "cell_type": "code",
   "execution_count": null,
   "metadata": {},
   "outputs": [],
   "source": []
  },
  {
   "cell_type": "code",
   "execution_count": null,
   "metadata": {},
   "outputs": [],
   "source": []
  }
 ],
 "metadata": {
  "kernelspec": {
   "display_name": "Python 3.8.5 64-bit",
   "language": "python",
   "name": "python38564bit087f84167b174d959d40dbfe79d0aa56"
  },
  "language_info": {
   "codemirror_mode": {
    "name": "ipython",
    "version": 3
   },
   "file_extension": ".py",
   "mimetype": "text/x-python",
   "name": "python",
   "nbconvert_exporter": "python",
   "pygments_lexer": "ipython3",
   "version": "3.8.7"
  }
 },
 "nbformat": 4,
 "nbformat_minor": 4
}
