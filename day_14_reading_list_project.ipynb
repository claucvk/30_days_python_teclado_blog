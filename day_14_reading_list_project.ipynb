{
 "cells": [
  {
   "cell_type": "code",
   "execution_count": null,
   "metadata": {},
   "outputs": [],
   "source": [
    "# Create a program that can store and retrieve information related to a user's reading list"
   ]
  },
  {
   "cell_type": "code",
   "execution_count": null,
   "metadata": {},
   "outputs": [],
   "source": [
    "# Usesr: add a book to their reading list by providing a book title, author's name, and year of publication\n",
    "# Program: store information about all these books in a file called books.csv - Store data in CSV format\n",
    "# Users: retrieve the books in their reading list, books pritend out in a user-friendly format\n",
    "# Users: search for a specific book by providing a book title\n",
    "# Users: select these options from a text menu, and perform multiple operations without restarting the program"
   ]
  },
  {
   "cell_type": "code",
   "execution_count": 1,
   "metadata": {},
   "outputs": [],
   "source": [
    "reading_list = []\n",
    "book = \"\""
   ]
  },
  {
   "cell_type": "code",
   "execution_count": 2,
   "metadata": {},
   "outputs": [],
   "source": [
    "def add_book():\n",
    "    title = input(\"Enter the title of the book: \").strip().lower()\n",
    "    author = input(\"Enter the name of the book's author: \").strip().lower()\n",
    "    year = input(\"Enter the book's year of publication: \").strip().lower()\n",
    "    \n",
    "    book = {\n",
    "        \"title\": title,\n",
    "        \"author\": author,\n",
    "        \"year\": year\n",
    "    }\n",
    "    \n",
    "    reading_list.append(book)\n",
    "    return book"
   ]
  },
  {
   "cell_type": "code",
   "execution_count": 3,
   "metadata": {},
   "outputs": [],
   "source": [
    "def show_reading_list():\n",
    "    for book in reading_list:\n",
    "        print(f\"{book['title'].capitalize()} by {book['author'].capitalize()}, published in {book['year']}.\")"
   ]
  },
  {
   "cell_type": "code",
   "execution_count": 4,
   "metadata": {},
   "outputs": [],
   "source": [
    "def find_one_book():\n",
    "    book_title = input(\"Enter the title of the book: \").strip().lower()\n",
    "    \n",
    "    for book in reading_list:\n",
    "        if book_title == book['title']:\n",
    "            print(f\"{book['title'].capitalize()} by {book['author'].capitalize()}, published in {book['year']}.\")\n",
    "    return book_title"
   ]
  },
  {
   "cell_type": "code",
   "execution_count": 26,
   "metadata": {},
   "outputs": [
    {
     "name": "stdin",
     "output_type": "stream",
     "text": [
      "Enter an option:\n",
      "                                'a': add a book\n",
      "                                's': show your reading list\n",
      "                                'g': get a book from your reading list\n",
      "                                'q': quit the menu\n",
      "         s\n"
     ]
    },
    {
     "name": "stdout",
     "output_type": "stream",
     "text": [
      "Promesa vacia by Lola caceras, published in 2010.\n",
      "Magalles by Caracas boy, published in 1967.\n"
     ]
    },
    {
     "name": "stdin",
     "output_type": "stream",
     "text": [
      "Enter an option:\n",
      "                                'a': add a book\n",
      "                                's': show your reading list\n",
      "                                'g': get a book from your reading list\n",
      "                                'q': quit the menu\n",
      "         a\n",
      "Enter the title of the book:  Dolores de bolas\n",
      "Enter the name of the book's author:  Almejo Quiñonez\n",
      "Enter the book's year of publication:  2010\n",
      "Enter an option:\n",
      "                                'a': add a book\n",
      "                                's': show your reading list\n",
      "                                'g': get a book from your reading list\n",
      "                                'q': quit the menu\n",
      "         s\n"
     ]
    },
    {
     "name": "stdout",
     "output_type": "stream",
     "text": [
      "Promesa vacia by Lola caceras, published in 2010.\n",
      "Magalles by Caracas boy, published in 1967.\n",
      "Dolores de bolas by Almejo quiñonez, published in 2010.\n"
     ]
    },
    {
     "name": "stdin",
     "output_type": "stream",
     "text": [
      "Enter an option:\n",
      "                                'a': add a book\n",
      "                                's': show your reading list\n",
      "                                'g': get a book from your reading list\n",
      "                                'q': quit the menu\n",
      "         g\n",
      "Enter the title of the book:  promesa vacia\n"
     ]
    },
    {
     "name": "stdout",
     "output_type": "stream",
     "text": [
      "Promesa vacia by Lola caceras, published in 2010.\n"
     ]
    },
    {
     "name": "stdin",
     "output_type": "stream",
     "text": [
      "Enter an option:\n",
      "                                'a': add a book\n",
      "                                's': show your reading list\n",
      "                                'g': get a book from your reading list\n",
      "                                'q': quit the menu\n",
      "         ddos\n"
     ]
    },
    {
     "name": "stdout",
     "output_type": "stream",
     "text": [
      "Invalid option, try again!\n"
     ]
    },
    {
     "name": "stdin",
     "output_type": "stream",
     "text": [
      "Enter an option:\n",
      "                                'a': add a book\n",
      "                                's': show your reading list\n",
      "                                'g': get a book from your reading list\n",
      "                                'q': quit the menu\n",
      "         g\n",
      "Enter the title of the book:  dedos\n"
     ]
    },
    {
     "name": "stdout",
     "output_type": "stream",
     "text": [
      "Book not found!\n"
     ]
    },
    {
     "name": "stdin",
     "output_type": "stream",
     "text": [
      "Enter an option:\n",
      "                                'a': add a book\n",
      "                                's': show your reading list\n",
      "                                'g': get a book from your reading list\n",
      "                                'q': quit the menu\n",
      "         q\n"
     ]
    },
    {
     "name": "stdout",
     "output_type": "stream",
     "text": [
      "Quiting the menu!\n"
     ]
    }
   ],
   "source": [
    "def menu():\n",
    "    while True:\n",
    "        menu_option = input(\"\"\"Enter an option:\n",
    "                                'a': add a book\n",
    "                                's': show your reading list\n",
    "                                'g': get a book from your reading list\n",
    "                                'q': quit the menu\n",
    "        \"\"\")\n",
    "        if menu_option == \"a\":\n",
    "            book = add_book()\n",
    "            with open(\"reading_list.csv\", \"r\") as f:\n",
    "                file = f.readlines()\n",
    "            if len(file) == 0:\n",
    "                with open(\"reading_list.csv\", \"w\") as data:\n",
    "                    data.write(\", \".join(book.keys()) + \"\\n\")\n",
    "                    data.write(\", \".join(book.values()) + \"\\n\")\n",
    "            else:\n",
    "                with open(\"reading_list.csv\", \"a\") as data:\n",
    "                    data.write(\", \".join(book.values()) + \"\\n\")\n",
    "        elif menu_option == \"s\":\n",
    "            if reading_list:\n",
    "                show_reading_list()\n",
    "            else:\n",
    "                print(\"Your reading list is empty!\")\n",
    "        elif menu_option == \"g\":\n",
    "            book_title = find_one_book()\n",
    "            titles = [dictionary[\"title\"] for dictionary in reading_list]\n",
    "            if book_title not in titles:\n",
    "                print(\"Book not found!\")              \n",
    "        elif menu_option == \"q\":\n",
    "            print(\"Quiting the menu!\")\n",
    "            break\n",
    "        else:\n",
    "            print(\"Invalid option, try again!\")\n",
    "    \n",
    "menu()"
   ]
  },
  {
   "cell_type": "code",
   "execution_count": null,
   "metadata": {},
   "outputs": [],
   "source": []
  }
 ],
 "metadata": {
  "kernelspec": {
   "display_name": "Python 3.8.5 64-bit",
   "language": "python",
   "name": "python38564bit087f84167b174d959d40dbfe79d0aa56"
  },
  "language_info": {
   "codemirror_mode": {
    "name": "ipython",
    "version": 3
   },
   "file_extension": ".py",
   "mimetype": "text/x-python",
   "name": "python",
   "nbconvert_exporter": "python",
   "pygments_lexer": "ipython3",
   "version": "3.8.7"
  }
 },
 "nbformat": 4,
 "nbformat_minor": 4
}
