{
 "cells": [
  {
   "cell_type": "code",
   "execution_count": null,
   "metadata": {},
   "outputs": [],
   "source": [
    "# Unpacking (destructuring): perfom several assignments at once, by extracting the individual values from some iterable."
   ]
  },
  {
   "cell_type": "code",
   "execution_count": null,
   "metadata": {},
   "outputs": [],
   "source": [
    "movie = (\"12 Angry Me\", \"Sidney Lumet\", 1957)"
   ]
  },
  {
   "cell_type": "code",
   "execution_count": null,
   "metadata": {},
   "outputs": [],
   "source": [
    "movie"
   ]
  },
  {
   "cell_type": "code",
   "execution_count": null,
   "metadata": {},
   "outputs": [],
   "source": [
    "# title = movie[0], director = movie[1], year = movie[2]"
   ]
  },
  {
   "cell_type": "code",
   "execution_count": null,
   "metadata": {},
   "outputs": [],
   "source": [
    "title, director, year = movie"
   ]
  },
  {
   "cell_type": "code",
   "execution_count": null,
   "metadata": {},
   "outputs": [],
   "source": [
    "title"
   ]
  },
  {
   "cell_type": "code",
   "execution_count": null,
   "metadata": {},
   "outputs": [],
   "source": [
    "director"
   ]
  },
  {
   "cell_type": "code",
   "execution_count": null,
   "metadata": {},
   "outputs": [],
   "source": [
    "year"
   ]
  },
  {
   "cell_type": "code",
   "execution_count": null,
   "metadata": {},
   "outputs": [],
   "source": [
    "# Unpacking in for loops "
   ]
  },
  {
   "cell_type": "code",
   "execution_count": 5,
   "metadata": {},
   "outputs": [],
   "source": [
    "movies = [\n",
    "    (\n",
    "        \"Eternal sunshine of the spotless mind\",\n",
    "        \"Michel Gondry\",\n",
    "        2004\n",
    "    ),\n",
    "    (\n",
    "        \"Memento\",\n",
    "        \"Christopher Nolan\",\n",
    "        2000\n",
    "    ),\n",
    "    (\n",
    "        \"Requiem for a Dream\",\n",
    "        \"Darren Aronofsky\",\n",
    "        2000\n",
    "    )\n",
    "]"
   ]
  },
  {
   "cell_type": "code",
   "execution_count": 6,
   "metadata": {},
   "outputs": [
    {
     "data": {
      "text/plain": [
       "[('Eternal sunshine of the spotless mind', 'Michel Gondry', 2004),\n",
       " ('Memento', 'Christopher Nolan', 2000),\n",
       " ('Requiem for a Dream', 'Darren Aronofsky', 2000)]"
      ]
     },
     "execution_count": 6,
     "metadata": {},
     "output_type": "execute_result"
    }
   ],
   "source": [
    "movies"
   ]
  },
  {
   "cell_type": "code",
   "execution_count": 7,
   "metadata": {},
   "outputs": [
    {
     "name": "stdout",
     "output_type": "stream",
     "text": [
      "Eternal sunshine of the spotless mind, 2004 by Michel Gondry\n",
      "Memento, 2000 by Christopher Nolan\n",
      "Requiem for a Dream, 2000 by Darren Aronofsky\n"
     ]
    }
   ],
   "source": [
    "for title, director, year in movies:\n",
    "    print(f\"{title}, {year} by {director}\")"
   ]
  },
  {
   "cell_type": "code",
   "execution_count": null,
   "metadata": {},
   "outputs": [],
   "source": [
    "# Enumeration"
   ]
  },
  {
   "cell_type": "code",
   "execution_count": null,
   "metadata": {},
   "outputs": [],
   "source": [
    "# Obj: add 1., 2., 3., at the beginning of each tuple printed."
   ]
  },
  {
   "cell_type": "code",
   "execution_count": null,
   "metadata": {},
   "outputs": [],
   "source": [
    "# Not good solution: hard to read and lost the variable names\n",
    "for index in range(len(movies)):\n",
    "    print(f\"{index + 1}. {movies[index][0]} {movies[index][2]}, by {movies[index][1]} \")"
   ]
  },
  {
   "cell_type": "code",
   "execution_count": null,
   "metadata": {},
   "outputs": [],
   "source": [
    "# Better solution, still no the best: creating the counter outside of the loop\n",
    "counter = 0\n",
    "for title, director, year in movies:\n",
    "    print(f\"{counter + 1}. {title} {year}, by {director}\")\n",
    "    counter += 1"
   ]
  },
  {
   "cell_type": "code",
   "execution_count": null,
   "metadata": {},
   "outputs": [],
   "source": [
    "# Even better solution -> Enumerate: generates a counter alongside the values in an iterable\n",
    "names = [\"Harry\", \"Rachel\", \"Brian\"]"
   ]
  },
  {
   "cell_type": "code",
   "execution_count": null,
   "metadata": {},
   "outputs": [],
   "source": [
    "for counter, name in enumerate(names, start=1):\n",
    "    print(f\"{counter}. {name}\")"
   ]
  },
  {
   "cell_type": "code",
   "execution_count": null,
   "metadata": {},
   "outputs": [],
   "source": [
    "for counter, movie in enumerate(movies, start=1):\n",
    "    print(f\"{counter}. {movie[0]} {movie[2]}, by {movie[1]}\")"
   ]
  },
  {
   "cell_type": "code",
   "execution_count": null,
   "metadata": {},
   "outputs": [],
   "source": [
    "# Unpack movie tuples into descriptive variable names: match the structure of the thing we want to unpack\n",
    "# Enumerate: creates a tuple with two elements, 1) the enumeration or counter and 2) each tuple with three values \n",
    "# (1, (\"Eternal Sunshine of the Spotless Mind\", \"Michel Gondry\", 2004)),\n",
    "# (2, (\"Memento\", \"Christopher Nolan\", 2000)),\n",
    "# (3, (\"Requiem for a Dream\", \"Darren Aronofsky\", 2000))\n",
    "# Enumeration structure == for loop variables structure, one tuple with two elements -> Example:\n",
    "# (2, (\"Memento\", \"Christopher Nolan\", 2000)) == counter, (title, director, year) = 2, (\"Memento\", \"Christopher Nolan\", 2000)"
   ]
  },
  {
   "cell_type": "code",
   "execution_count": null,
   "metadata": {},
   "outputs": [],
   "source": [
    "for counter, (title, director, year) in enumerate(movies, start=1):\n",
    "    print(f\"{counter}. {title} {year}, by {director}\")"
   ]
  },
  {
   "cell_type": "code",
   "execution_count": null,
   "metadata": {},
   "outputs": [],
   "source": [
    "# Zip function: coloca los primeros items en una tupla, los segundos en otra y así sucesivamente. Como range no imprime los iterables, hay que transformarlos a una lista por ejemplo.\n",
    "# Ex: (\"Paul\", \"Fluffy\"), (\"Andrea\", \"Bubbles\"), (\"Marta\", \"Captain Catsworth\")\n",
    "# No da error cdo el # de elems no son los mismos, solo no agrega el último en la lista"
   ]
  },
  {
   "cell_type": "code",
   "execution_count": null,
   "metadata": {},
   "outputs": [],
   "source": [
    "pets_owners = [\"Paul\", \"Andrea\", \"Martha\"]"
   ]
  },
  {
   "cell_type": "code",
   "execution_count": null,
   "metadata": {},
   "outputs": [],
   "source": [
    "pets = [\"Fluffy\", \"Bubles\", \"Captain American\"]"
   ]
  },
  {
   "cell_type": "code",
   "execution_count": null,
   "metadata": {},
   "outputs": [],
   "source": [
    "info_pets_together = list(zip(pets_owners, pets)) "
   ]
  },
  {
   "cell_type": "code",
   "execution_count": null,
   "metadata": {},
   "outputs": [],
   "source": [
    "info_pets_together"
   ]
  },
  {
   "cell_type": "code",
   "execution_count": null,
   "metadata": {},
   "outputs": [],
   "source": [
    "# zip in loops"
   ]
  },
  {
   "cell_type": "code",
   "execution_count": null,
   "metadata": {},
   "outputs": [],
   "source": [
    "for owner, pet in zip(pets_owners, pets):\n",
    "    print(f\"{owner} is the owner of {pet}.\")"
   ]
  },
  {
   "cell_type": "code",
   "execution_count": null,
   "metadata": {},
   "outputs": [],
   "source": [
    "# zip and enumerate get consumed when we request their values (we iterate over them). Es decir luego de usados en un for loop, no se pueden volver usar en una variable porque esta estará vacía\n",
    "# Esto se debe a que ellos producen algo llamado \"iterators\""
   ]
  },
  {
   "cell_type": "code",
   "execution_count": 14,
   "metadata": {},
   "outputs": [],
   "source": [
    "movie_titles = [\n",
    "    \"Forrest Gump\",\n",
    "    \"Howl's Moving Castle\",\n",
    "    \"No Country for Old Men\"\n",
    "]\n",
    "\n",
    "movie_directors = [\n",
    "    \"Robert Zemeckis\",\n",
    "    \"Hayao Miyazaki\",\n",
    "    \"Joel and Ethan Coen\"\n",
    "]\n",
    "\n",
    "movies = zip(movie_titles, movie_directors)"
   ]
  },
  {
   "cell_type": "code",
   "execution_count": 15,
   "metadata": {},
   "outputs": [
    {
     "name": "stdout",
     "output_type": "stream",
     "text": [
      "Forrest Gump by Robert Zemeckis.\n",
      "Howl's Moving Castle by Hayao Miyazaki.\n",
      "No Country for Old Men by Joel and Ethan Coen.\n"
     ]
    }
   ],
   "source": [
    "for title, directors in movies:\n",
    "    print(f\"{title} by {directors}.\")"
   ]
  },
  {
   "cell_type": "code",
   "execution_count": 16,
   "metadata": {},
   "outputs": [],
   "source": [
    "movies_list = list(movies)"
   ]
  },
  {
   "cell_type": "code",
   "execution_count": 21,
   "metadata": {},
   "outputs": [],
   "source": [
    "# Para evitar este problema podemos guardarlos en non-iterators collection, tales como: tuples or lists.\n",
    "movies_list = list(zip(movie_titles, movie_directors))"
   ]
  },
  {
   "cell_type": "code",
   "execution_count": 22,
   "metadata": {},
   "outputs": [
    {
     "name": "stdout",
     "output_type": "stream",
     "text": [
      "There are 3 movies in the collection\n"
     ]
    }
   ],
   "source": [
    "print(f\"There are {len(movies_list)} movies in the collection\")"
   ]
  },
  {
   "cell_type": "code",
   "execution_count": 23,
   "metadata": {},
   "outputs": [
    {
     "data": {
      "text/plain": [
       "[('Forrest Gump', 'Robert Zemeckis'),\n",
       " (\"Howl's Moving Castle\", 'Hayao Miyazaki'),\n",
       " ('No Country for Old Men', 'Joel and Ethan Coen')]"
      ]
     },
     "execution_count": 23,
     "metadata": {},
     "output_type": "execute_result"
    }
   ],
   "source": [
    "movies_list"
   ]
  },
  {
   "cell_type": "code",
   "execution_count": 24,
   "metadata": {},
   "outputs": [
    {
     "name": "stdout",
     "output_type": "stream",
     "text": [
      "These are our movies: [('Forrest Gump', 'Robert Zemeckis'), (\"Howl's Moving Castle\", 'Hayao Miyazaki'), ('No Country for Old Men', 'Joel and Ethan Coen')].\n"
     ]
    }
   ],
   "source": [
    "print(f\"These are our movies: {movies_list}.\")"
   ]
  },
  {
   "cell_type": "markdown",
   "metadata": {},
   "source": [
    "## Exercises"
   ]
  },
  {
   "cell_type": "code",
   "execution_count": 25,
   "metadata": {},
   "outputs": [],
   "source": [
    "# Excercise 1: Example ouput: \"BoJack Horseman is a horse voiced by Will Arnet.\""
   ]
  },
  {
   "cell_type": "code",
   "execution_count": 26,
   "metadata": {},
   "outputs": [],
   "source": [
    "main_characters = [\n",
    "    (\n",
    "        \"BoJack Horseman\", \n",
    "        \"Will Arnett\",\n",
    "        \"Horse\" \n",
    "    ),\n",
    "    (\n",
    "        \"Princess Carolyn\", \n",
    "        \"Amy Sedaris\", \n",
    "        \"Cat\"\n",
    "    ),\n",
    "    (\n",
    "        \"Diane Nguyen\", \n",
    "        \"Alison Brie\", \n",
    "        \"Human\"\n",
    "    ),\n",
    "    (\n",
    "        \"Mr. Peanutbutter\", \n",
    "        \"Paul F. Tompkins\", \n",
    "        \"Dog\"\n",
    "    ),\n",
    "    (\n",
    "        \"Todd Chavez\", \n",
    "        \"Aaron Paul\", \n",
    "        \"Human\"\n",
    "    )\n",
    "]"
   ]
  },
  {
   "cell_type": "code",
   "execution_count": 27,
   "metadata": {},
   "outputs": [
    {
     "data": {
      "text/plain": [
       "[('BoJack Horseman', 'Will Arnett', 'Horse'),\n",
       " ('Princess Carolyn', 'Amy Sedaris', 'Cat'),\n",
       " ('Diane Nguyen', 'Alison Brie', 'Human'),\n",
       " ('Mr. Peanutbutter', 'Paul F. Tompkins', 'Dog'),\n",
       " ('Todd Chavez', 'Aaron Paul', 'Human')]"
      ]
     },
     "execution_count": 27,
     "metadata": {},
     "output_type": "execute_result"
    }
   ],
   "source": [
    "main_characters"
   ]
  },
  {
   "cell_type": "code",
   "execution_count": 29,
   "metadata": {},
   "outputs": [
    {
     "name": "stdout",
     "output_type": "stream",
     "text": [
      "BoJack Horseman is a horse voiced by Will Arnett.\n",
      "Princess Carolyn is a cat voiced by Amy Sedaris.\n",
      "Diane Nguyen is a human voiced by Alison Brie.\n",
      "Mr. Peanutbutter is a dog voiced by Paul F. Tompkins.\n",
      "Todd Chavez is a human voiced by Aaron Paul.\n"
     ]
    }
   ],
   "source": [
    "for name, voice, specie in main_characters:\n",
    "    print(f\"{name} is a {specie.lower()} voiced by {voice}.\")"
   ]
  },
  {
   "cell_type": "code",
   "execution_count": 30,
   "metadata": {},
   "outputs": [],
   "source": [
    "# Exercise 2: Unpack this tuple in 4 variables (\"John Smith\", 11743, (\"Computer Science\", \"Mathematics\"))"
   ]
  },
  {
   "cell_type": "code",
   "execution_count": 32,
   "metadata": {},
   "outputs": [],
   "source": [
    "student = (\"John Smith\", 11743, (\"Computer Science\", \"Mathematics\"))"
   ]
  },
  {
   "cell_type": "code",
   "execution_count": null,
   "metadata": {},
   "outputs": [],
   "source": [
    "# name, id_number, (major, minor) = (\"John Smith\", 11743, (\"Computer Science\", \"Mathematics\"))"
   ]
  },
  {
   "cell_type": "code",
   "execution_count": 37,
   "metadata": {},
   "outputs": [],
   "source": [
    "name, id_num, (major_d, minor_d) = student"
   ]
  },
  {
   "cell_type": "code",
   "execution_count": 38,
   "metadata": {},
   "outputs": [
    {
     "data": {
      "text/plain": [
       "'John Smith'"
      ]
     },
     "execution_count": 38,
     "metadata": {},
     "output_type": "execute_result"
    }
   ],
   "source": [
    "name"
   ]
  },
  {
   "cell_type": "code",
   "execution_count": 39,
   "metadata": {},
   "outputs": [
    {
     "data": {
      "text/plain": [
       "11743"
      ]
     },
     "execution_count": 39,
     "metadata": {},
     "output_type": "execute_result"
    }
   ],
   "source": [
    "id_num"
   ]
  },
  {
   "cell_type": "markdown",
   "metadata": {},
   "source": [
    "major_d"
   ]
  },
  {
   "cell_type": "code",
   "execution_count": 40,
   "metadata": {},
   "outputs": [
    {
     "data": {
      "text/plain": [
       "('Computer Science', 'Mathematics')"
      ]
     },
     "execution_count": 40,
     "metadata": {},
     "output_type": "execute_result"
    }
   ],
   "source": [
    "(major_d, minor_d)"
   ]
  },
  {
   "cell_type": "code",
   "execution_count": 41,
   "metadata": {},
   "outputs": [],
   "source": [
    "# Exercise 3: what happens when you try to zip two iterables of different lengths? zip stopped once it reached the end of the shortest collection"
   ]
  },
  {
   "cell_type": "code",
   "execution_count": 42,
   "metadata": {},
   "outputs": [],
   "source": [
    "colors = [\"Green\", \"Blue\", \"white\"]"
   ]
  },
  {
   "cell_type": "code",
   "execution_count": 43,
   "metadata": {},
   "outputs": [],
   "source": [
    "numbers = [1, 2, 3, 4]"
   ]
  },
  {
   "cell_type": "code",
   "execution_count": 45,
   "metadata": {},
   "outputs": [],
   "source": [
    "outcome = list(zip(colors, numbers))"
   ]
  },
  {
   "cell_type": "code",
   "execution_count": 46,
   "metadata": {},
   "outputs": [
    {
     "data": {
      "text/plain": [
       "[('Green', 1), ('Blue', 2), ('white', 3)]"
      ]
     },
     "execution_count": 46,
     "metadata": {},
     "output_type": "execute_result"
    }
   ],
   "source": [
    "outcome\n",
    "# It doesn't print the additional element."
   ]
  },
  {
   "cell_type": "code",
   "execution_count": null,
   "metadata": {},
   "outputs": [],
   "source": []
  }
 ],
 "metadata": {
  "kernelspec": {
   "display_name": "Python 3",
   "language": "python",
   "name": "python3"
  },
  "language_info": {
   "codemirror_mode": {
    "name": "ipython",
    "version": 3
   },
   "file_extension": ".py",
   "mimetype": "text/x-python",
   "name": "python",
   "nbconvert_exporter": "python",
   "pygments_lexer": "ipython3",
   "version": "3.8.7"
  }
 },
 "nbformat": 4,
 "nbformat_minor": 4
}
