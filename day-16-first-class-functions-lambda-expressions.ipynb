{
 "cells": [
  {
   "cell_type": "code",
   "execution_count": 2,
   "metadata": {},
   "outputs": [],
   "source": [
    "# Class function: we can passs functions in as arguments to other functions, return them from functions, and assign them to variable"
   ]
  },
  {
   "cell_type": "code",
   "execution_count": 4,
   "metadata": {},
   "outputs": [
    {
     "name": "stdout",
     "output_type": "stream",
     "text": [
      "<function sum at 0x10fd325e0>\n"
     ]
    }
   ],
   "source": [
    "# Assigning functions to variables\n",
    "# def -> we provide a name for our function: 1) Function gets named according to our specification\n",
    "def sum(a, b):\n",
    "    return a + b\n",
    "\n",
    "sum(1, 1)\n",
    "\n",
    "print(sum) #<function sum at 0x10fd325e0>\n",
    "\n",
    "# the function name becomes part of this representation of the function <function sum at 0x10fd325e0>\n",
    "# Python creates a variable using this name <function sum at 0x10fd325e0>, and assign a function to that name"
   ]
  },
  {
   "cell_type": "code",
   "execution_count": 8,
   "metadata": {},
   "outputs": [
    {
     "name": "stdout",
     "output_type": "stream",
     "text": [
      "<function add at 0x10fdf8280>\n",
      "<function add at 0x10fdf8280>\n",
      "9\n",
      "<function add at 0x10fdf8280>\n"
     ]
    }
   ],
   "source": [
    "# Variable name and assign the function to that name are two different things\n",
    "\n",
    "def add(a, b):\n",
    "    print(a + b)\n",
    "    \n",
    "adder = add\n",
    "\n",
    "print(add) # <function add at 0x10fd32550>\n",
    "print(adder) # <function add at 0x10fd32550>\n",
    "\n",
    "# Both functions are the exact same object -> same memory address <function add at 0x10fd32550>\n",
    "\n",
    "# Both functions are still called add: function add, not function adder - This is because the variable's name and the function's name are different things\n",
    "\n",
    "del add\n",
    "\n",
    "add(5, 4) # NameError -> we deleted add, we can no longer call the function by add name\n",
    "\n",
    "# But, we can still call adder, and the name of the function is still add\n",
    "\n",
    "adder(5, 4) # 9\n",
    "print(adder) # <function add at 0x10fdf8280>"
   ]
  },
  {
   "cell_type": "code",
   "execution_count": 10,
   "metadata": {},
   "outputs": [],
   "source": [
    "# Functions as arguments"
   ]
  },
  {
   "cell_type": "code",
   "execution_count": 11,
   "metadata": {},
   "outputs": [
    {
     "name": "stdout",
     "output_type": "stream",
     "text": [
      "102\n"
     ]
    }
   ],
   "source": [
    "numbers = [56, 3, 45, 29, 102, 30, 73]\n",
    "highest_number = max(numbers)\n",
    "\n",
    "print(highest_number)"
   ]
  },
  {
   "cell_type": "code",
   "execution_count": 16,
   "metadata": {},
   "outputs": [
    {
     "name": "stdout",
     "output_type": "stream",
     "text": [
      "{'name': 'Hannah', 'grade_average': 83}\n",
      "{'name': 'Charlie', 'grade_average': 91}\n",
      "{'name': 'Peter', 'grade_average': 85}\n",
      "{'name': 'Rachel', 'grade_average': 79}\n",
      "{'name': 'Lauren', 'grade_average': 92}\n",
      "{'name': 'Lauren', 'grade_average': 92}\n"
     ]
    }
   ],
   "source": [
    "students = [\n",
    "    {\"name\": \"Hannah\", \"grade_average\": 83},\n",
    "    {\"name\": \"Charlie\", \"grade_average\": 91},\n",
    "    {\"name\": \"Peter\", \"grade_average\": 85},\n",
    "    {\"name\": \"Rachel\", \"grade_average\": 79},\n",
    "    {\"name\": \"Lauren\", \"grade_average\": 92}\n",
    "]\n",
    "\n",
    "def get_grade_average(student):\n",
    "    return student[\"grade_average\"]\n",
    "\n",
    "\n",
    "valedictorian = max(students, key=get_grade_average)\n",
    "\n",
    "print(valedictorian)"
   ]
  },
  {
   "cell_type": "code",
   "execution_count": 1,
   "metadata": {},
   "outputs": [],
   "source": [
    "# Returning functions for other functions"
   ]
  },
  {
   "cell_type": "code",
   "execution_count": 6,
   "metadata": {},
   "outputs": [
    {
     "name": "stdin",
     "output_type": "stream",
     "text": [
      "Please select one of the following options: \n",
      "    a: add\n",
      "    s: substract\n",
      "    m: multiply\n",
      "    d: divide\n",
      "    What would you like to do? m\n",
      "Please enter a value for a:  3\n",
      "Please enter a value for b:  3\n"
     ]
    },
    {
     "name": "stdout",
     "output_type": "stream",
     "text": [
      "9\n"
     ]
    }
   ],
   "source": [
    "def add(a, b):\n",
    "    print(a + b)\n",
    "    \n",
    "def substract(a, b):\n",
    "    print(a - b)\n",
    "    \n",
    "def multiply(a, b):\n",
    "    print(a * b)\n",
    "    \n",
    "def divide(a, b):\n",
    "    if b == 0:\n",
    "        print(\"You can't divide by 0!\")\n",
    "    else:\n",
    "        print(a / b)\n",
    "        \n",
    "operations = {\n",
    "    \"a\": add,\n",
    "    \"s\": substract,\n",
    "    \"m\": multiply,\n",
    "    \"d\": divide\n",
    "}\n",
    "\n",
    "selected_option = input(\"\"\"Please select one of the following options: \n",
    "    a: add\n",
    "    s: substract\n",
    "    m: multiply\n",
    "    d: divide\n",
    "    What would you like to do?\"\"\")\n",
    "\n",
    "operation = operations.get(selected_option)\n",
    "\n",
    "if operation:\n",
    "    a = int(input(\"Please enter a value for a: \"))\n",
    "    b = int(input(\"Please enter a value for b: \"))\n",
    "    \n",
    "    operation(a, b)\n",
    "else:\n",
    "    print(\"Invalid selection\")"
   ]
  },
  {
   "cell_type": "code",
   "execution_count": 8,
   "metadata": {},
   "outputs": [],
   "source": [
    "# Lambda expressions\n",
    "# Alternative syntax for defining simple functions\n",
    "# They are limited to single expressions and can not containt statements\n",
    "# EX: lambda a, b: a + b"
   ]
  },
  {
   "cell_type": "code",
   "execution_count": 10,
   "metadata": {},
   "outputs": [
    {
     "name": "stdout",
     "output_type": "stream",
     "text": [
      "{'name': 'Lauren', 'grade_average': 92}\n"
     ]
    }
   ],
   "source": [
    "students = [\n",
    "    {\"name\": \"Hannah\", \"grade_average\": 83},\n",
    "    {\"name\": \"Charlie\", \"grade_average\": 91},\n",
    "    {\"name\": \"Peter\", \"grade_average\": 85},\n",
    "    {\"name\": \"Rachel\", \"grade_average\": 79},\n",
    "    {\"name\": \"Lauren\", \"grade_average\": 92}\n",
    "]\n",
    "\n",
    "# def get_grade_average(student):\n",
    "#     return student[\"grade_average\"]\n",
    "\n",
    "valedictorian = max(students, key= lambda student: student[\"grade_average\"])\n",
    "\n",
    "print(valedictorian)"
   ]
  },
  {
   "cell_type": "code",
   "execution_count": 13,
   "metadata": {},
   "outputs": [
    {
     "name": "stdin",
     "output_type": "stream",
     "text": [
      "Please select one of the following options: \n",
      "    a: add\n",
      "    s: substract\n",
      "    m: multiply\n",
      "    d: divide\n",
      "    What would you like to do? d\n",
      "Please enter a value for a:  20\n",
      "Please enter a value for b:  5\n"
     ]
    },
    {
     "name": "stdout",
     "output_type": "stream",
     "text": [
      "4.0\n",
      "None\n"
     ]
    }
   ],
   "source": [
    "def divide(a, b):\n",
    "    if b == 0:\n",
    "        print(\"You can't divide by 0!\")\n",
    "    else:\n",
    "        print(a / b)\n",
    "        \n",
    "operations = {\n",
    "    \"a\": lambda a, b: a + b,\n",
    "    \"s\": lambda a, b: a - b,\n",
    "    \"m\": lambda a, b: a * b,\n",
    "    \"d\": divide\n",
    "}\n",
    "\n",
    "selected_option = input(\"\"\"Please select one of the following options: \n",
    "    a: add\n",
    "    s: substract\n",
    "    m: multiply\n",
    "    d: divide\n",
    "    What would you like to do?\"\"\")\n",
    "\n",
    "operation = operations.get(selected_option)\n",
    "\n",
    "if operation:\n",
    "    a = int(input(\"Please enter a value for a: \"))\n",
    "    b = int(input(\"Please enter a value for b: \"))\n",
    "    \n",
    "    print(operation(a, b))\n",
    "else:\n",
    "    print(\"Invalid selection\")"
   ]
  },
  {
   "cell_type": "code",
   "execution_count": 14,
   "metadata": {},
   "outputs": [],
   "source": [
    "# Lambda expressions can be saved on variables, but it isn't recommended, it isn't to read, better to defi def"
   ]
  },
  {
   "cell_type": "code",
   "execution_count": 16,
   "metadata": {},
   "outputs": [
    {
     "name": "stdout",
     "output_type": "stream",
     "text": [
      "8\n"
     ]
    }
   ],
   "source": [
    "add = lambda a, b: a + b\n",
    "print(add(5, 3)) # 8"
   ]
  },
  {
   "cell_type": "code",
   "execution_count": 17,
   "metadata": {},
   "outputs": [],
   "source": [
    "# Exercises"
   ]
  },
  {
   "cell_type": "code",
   "execution_count": 18,
   "metadata": {},
   "outputs": [],
   "source": [
    "# Exercise 1: use the sort method to put the following list in alphabetical order with regards to the students' names"
   ]
  },
  {
   "cell_type": "code",
   "execution_count": 29,
   "metadata": {},
   "outputs": [
    {
     "name": "stdout",
     "output_type": "stream",
     "text": [
      "[{'name': 'Charlie', 'grade_average': 91}, {'name': 'Hannah', 'grade_average': 83}, {'name': 'Lauren', 'grade_average': 92}, {'name': 'Peter', 'grade_average': 85}, {'name': 'Rachel', 'grade_average': 79}]\n"
     ]
    }
   ],
   "source": [
    "students = [\n",
    "    {\"name\": \"Hannah\", \"grade_average\": 83},\n",
    "    {\"name\": \"Charlie\", \"grade_average\": 91},\n",
    "    {\"name\": \"Peter\", \"grade_average\": 85},\n",
    "    {\"name\": \"Rachel\", \"grade_average\": 79},\n",
    "    {\"name\": \"Lauren\", \"grade_average\": 92}\n",
    "]\n",
    "\n",
    "# def sort_students_by_name(student):\n",
    "#     return student[\"name\"]\n",
    "\n",
    "students.sort(key= lambda student: student[\"name\"])\n",
    "\n",
    "print(students)"
   ]
  },
  {
   "cell_type": "code",
   "execution_count": 30,
   "metadata": {},
   "outputs": [],
   "source": [
    "# Exercise 2: Convert a def function to a lambda expression and assign it to a variable called exp"
   ]
  },
  {
   "cell_type": "code",
   "execution_count": 31,
   "metadata": {},
   "outputs": [],
   "source": [
    "def exponentiate(base, exponent):\n",
    "    return base ** exponent"
   ]
  },
  {
   "cell_type": "code",
   "execution_count": 33,
   "metadata": {},
   "outputs": [
    {
     "name": "stdout",
     "output_type": "stream",
     "text": [
      "16\n"
     ]
    }
   ],
   "source": [
    "exp = lambda base, exponent: base ** exponent\n",
    "    \n",
    "r = exp(2,4)\n",
    "\n",
    "print(r)"
   ]
  },
  {
   "cell_type": "code",
   "execution_count": 34,
   "metadata": {},
   "outputs": [],
   "source": [
    "# Exercise 3: Print the function you created using lambda expression in previous exercise. What is the name of the function that was created?"
   ]
  },
  {
   "cell_type": "code",
   "execution_count": 36,
   "metadata": {},
   "outputs": [
    {
     "data": {
      "text/plain": [
       "<function __main__.<lambda>(base, exponent)>"
      ]
     },
     "execution_count": 36,
     "metadata": {},
     "output_type": "execute_result"
    }
   ],
   "source": [
    "exp # <function __main__.<lambda>(base, exponent)>"
   ]
  },
  {
   "cell_type": "code",
   "execution_count": null,
   "metadata": {},
   "outputs": [],
   "source": [
    "# Because the functions created using lambda expressions don't have names, they're referred to as anonymous functions, and still the function can be assigned to variables"
   ]
  }
 ],
 "metadata": {
  "kernelspec": {
   "display_name": "Python 3.8.5 64-bit",
   "language": "python",
   "name": "python38564bit087f84167b174d959d40dbfe79d0aa56"
  },
  "language_info": {
   "codemirror_mode": {
    "name": "ipython",
    "version": 3
   },
   "file_extension": ".py",
   "mimetype": "text/x-python",
   "name": "python",
   "nbconvert_exporter": "python",
   "pygments_lexer": "ipython3",
   "version": "3.8.8"
  }
 },
 "nbformat": 4,
 "nbformat_minor": 4
}
