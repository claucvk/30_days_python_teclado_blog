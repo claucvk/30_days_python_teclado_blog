{
 "cells": [
  {
   "cell_type": "code",
   "execution_count": null,
   "metadata": {},
   "outputs": [],
   "source": [
    "# While loops\n",
    "# perfom an action as many times as needed until some conditions is met.\n",
    "# perfom some actions over and over again forever."
   ]
  },
  {
   "cell_type": "code",
   "execution_count": null,
   "metadata": {},
   "outputs": [],
   "source": [
    "user_number = input(\"Please enter a number:\")"
   ]
  },
  {
   "cell_type": "code",
   "execution_count": null,
   "metadata": {},
   "outputs": [],
   "source": [
    "index = 0"
   ]
  },
  {
   "cell_type": "code",
   "execution_count": null,
   "metadata": {},
   "outputs": [],
   "source": [
    "while int(user_number) < 10:\n",
    "    print(\"Your number was less than 10.\")\n",
    "    user_number = input(\"Please select another numbers: \")\n",
    "    index += 1\n",
    "    print(index)\n",
    "print(\"Your number was at least 10.\")\n",
    "\n",
    "# If the condition evaluates to a truthy value, the loop will run one interation, and then it will test the condition again.\n",
    "# If we named the variable user_number differently inside the loop, we will checking the original value over and over, nothing will change because the value would be the same, and it will iterate forever."
   ]
  },
  {
   "cell_type": "code",
   "execution_count": null,
   "metadata": {},
   "outputs": [],
   "source": [
    "# Infinite loops: we need an expression or conditional that always evaluates to true"
   ]
  },
  {
   "cell_type": "code",
   "execution_count": null,
   "metadata": {},
   "outputs": [],
   "source": [
    "selected_option = input(\"Please enter 'a', 'b', 'c', or enter 'q' to quit: \")"
   ]
  },
  {
   "cell_type": "code",
   "execution_count": null,
   "metadata": {},
   "outputs": [],
   "source": [
    "while True:\n",
    "    if selected_option == \"a\":\n",
    "        print(\"You selected option 'a'!\")\n",
    "    elif selected_option == \"b\":\n",
    "        print(\"You selected option 'b'!\")\n",
    "    elif selected_option == \"c\":\n",
    "        print(\"You selected option 'c'!\")\n",
    "    elif selected_option == \"q\":\n",
    "        print(\"You selected option 'q'. Quitting the menu!\")\n",
    "        break\n",
    "    else:\n",
    "        print(\"You selected an invalid option.\")\n",
    "\n",
    "# We don't need to define a condition (variable) outside the loop because it doesn't need a condition to rely on and work."
   ]
  },
  {
   "cell_type": "code",
   "execution_count": null,
   "metadata": {},
   "outputs": [],
   "source": [
    "# Some code will add 1 or a string as the while codition loop, because those are true. But, it is better not to use it to avoid confusion"
   ]
  },
  {
   "cell_type": "code",
   "execution_count": null,
   "metadata": {},
   "outputs": [],
   "source": [
    "while 1:\n",
    "    ...\n",
    "while \"llama\":\n",
    "    ..."
   ]
  },
  {
   "cell_type": "code",
   "execution_count": null,
   "metadata": {},
   "outputs": [],
   "source": [
    "# The continue keyword: allow to skip the remainder of the loop body in the current iteration."
   ]
  },
  {
   "cell_type": "code",
   "execution_count": null,
   "metadata": {},
   "outputs": [],
   "source": [
    "for number in range(10):\n",
    "    if number % 2 != 0:\n",
    "        continue\n",
    "    print(number)"
   ]
  },
  {
   "cell_type": "code",
   "execution_count": null,
   "metadata": {},
   "outputs": [],
   "source": [
    "# Using an else clause in loops"
   ]
  },
  {
   "cell_type": "code",
   "execution_count": null,
   "metadata": {},
   "outputs": [],
   "source": [
    "# else is like \"no break\" clause -> \"else\" will only run if a break wasn't executed in the loop"
   ]
  },
  {
   "cell_type": "code",
   "execution_count": null,
   "metadata": {},
   "outputs": [],
   "source": [
    "# For loop to determine whether or not a number is prime - Prime number is only divisible by itself and 1."
   ]
  },
  {
   "cell_type": "code",
   "execution_count": null,
   "metadata": {},
   "outputs": [],
   "source": [
    "dividend = int(input(\"Please enter a number: \"))"
   ]
  },
  {
   "cell_type": "code",
   "execution_count": null,
   "metadata": {},
   "outputs": [],
   "source": [
    "for divisor in range(2, dividend):\n",
    "    if dividend % divisor == 0:\n",
    "        print(f\"{dividend} is not a prime number!\") # Uno de los remainders da cero por eso no es primo.\n",
    "        break\n",
    "    else:\n",
    "        print(f\"{dividend} is a prime number!\") # El reminder no fue cero, el remainder fue un entero, por eso es primo."
   ]
  },
  {
   "cell_type": "code",
   "execution_count": null,
   "metadata": {},
   "outputs": [],
   "source": [
    "# while loop to determine whether or not a number is prime"
   ]
  },
  {
   "cell_type": "code",
   "execution_count": null,
   "metadata": {},
   "outputs": [],
   "source": [
    "divisor = 2"
   ]
  },
  {
   "cell_type": "code",
   "execution_count": null,
   "metadata": {},
   "outputs": [],
   "source": [
    "# Keep looping until the divisor equals the number we're testing\n",
    "while divisor < dividend:\n",
    "    # If user's number is divisible by the current divisor, break the loop\n",
    "    if dividend % divisor == 0:\n",
    "        print(f\"{dividend} is not a prime number!\")\n",
    "    divisor += 1\n",
    "else:\n",
    "    # This line only runs if no divisors produced integer results\n",
    "    print(f\"{dividend} is a prime number!\")"
   ]
  },
  {
   "cell_type": "markdown",
   "metadata": {},
   "source": [
    "## Exercises"
   ]
  },
  {
   "cell_type": "code",
   "execution_count": null,
   "metadata": {},
   "outputs": [],
   "source": [
    "# Exercise 1: guessing game program using a while loop. Prompt user; 1 - 100. Tell if guess too high or too low."
   ]
  },
  {
   "cell_type": "code",
   "execution_count": null,
   "metadata": {},
   "outputs": [],
   "source": [
    "import random"
   ]
  },
  {
   "cell_type": "code",
   "execution_count": null,
   "metadata": {},
   "outputs": [],
   "source": [
    "winner_num = random.randint(1, 100)"
   ]
  },
  {
   "cell_type": "code",
   "execution_count": null,
   "metadata": {},
   "outputs": [],
   "source": [
    "winner_num"
   ]
  },
  {
   "cell_type": "code",
   "execution_count": null,
   "metadata": {},
   "outputs": [],
   "source": [
    "user_num = int(input(\"Please provide a number between 1 and 100 to win the game: \"))"
   ]
  },
  {
   "cell_type": "code",
   "execution_count": null,
   "metadata": {},
   "outputs": [],
   "source": [
    "# My solution\n",
    "while user_num != winner_num:\n",
    "    if user_num > 100 or user_num <= 0:\n",
    "        user_num = int(input(\"Number provided has to be greater OR equal to 1 or smaller or equal than 100. Try again: \"))\n",
    "    elif user_num < winner_num:\n",
    "        user_num = int(input(\"Number too low! Try again : \"))\n",
    "    else:\n",
    "        user_num = int(input(\"Number too high! Try again :\"))\n",
    "\n",
    "print(f\"Great, you won! The winner number was {winner_num}.\")"
   ]
  },
  {
   "cell_type": "code",
   "execution_count": null,
   "metadata": {},
   "outputs": [],
   "source": [
    "# Blog's solution"
   ]
  },
  {
   "cell_type": "code",
   "execution_count": null,
   "metadata": {},
   "outputs": [],
   "source": [
    "target_number = 47"
   ]
  },
  {
   "cell_type": "code",
   "execution_count": null,
   "metadata": {},
   "outputs": [],
   "source": [
    "guess = int(input(\"Enter a number: \"))"
   ]
  },
  {
   "cell_type": "code",
   "execution_count": null,
   "metadata": {},
   "outputs": [],
   "source": [
    "while guess != target_number:\n",
    "    if guess > target_number:\n",
    "        print(\"Too high!\")\n",
    "    else:\n",
    "        print(\"Too low!\")\n",
    "    guess = int(input(\"Enter a number: \"))\n",
    "    \n",
    "print(\"You guessed correctly!\")"
   ]
  },
  {
   "cell_type": "code",
   "execution_count": null,
   "metadata": {},
   "outputs": [],
   "source": [
    "# Exercise 2: print out every character in the string \"Python\", except the \"o\", using continue."
   ]
  },
  {
   "cell_type": "code",
   "execution_count": null,
   "metadata": {},
   "outputs": [],
   "source": [
    "str = \"Python\""
   ]
  },
  {
   "cell_type": "code",
   "execution_count": null,
   "metadata": {},
   "outputs": [],
   "source": [
    "# My solution\n",
    "for letter in str:\n",
    "    if letter == \"o\":\n",
    "        print(\"\")\n",
    "    else:\n",
    "        print(letter)"
   ]
  },
  {
   "cell_type": "code",
   "execution_count": null,
   "metadata": {},
   "outputs": [],
   "source": [
    "# Blog's solution\n",
    "for character in str:\n",
    "    if character == \"o\":\n",
    "        continue\n",
    "    print(character)"
   ]
  },
  {
   "cell_type": "code",
   "execution_count": null,
   "metadata": {},
   "outputs": [],
   "source": [
    "# Exercise 3: create a program that prints out every prime number between 1 and 100."
   ]
  },
  {
   "cell_type": "code",
   "execution_count": null,
   "metadata": {},
   "outputs": [],
   "source": [
    "# primes = []\n",
    "for dividend in range(2, 101):\n",
    "    for divisor in range(2, dividend):\n",
    "        #print(dividend, divisor)\n",
    "        if dividend % divisor == 0:\n",
    "            break\n",
    "    else:\n",
    "        print(dividend)\n",
    "        # primes.append(str(dividend))\n",
    "        \n",
    "# print(\", \".join(primes))"
   ]
  },
  {
   "cell_type": "code",
   "execution_count": null,
   "metadata": {},
   "outputs": [],
   "source": [
    "for dividend in range(2, 101):\n",
    "    for divisor in range(2, 101):\n",
    "        if dividend >= divisor:\n",
    "            if dividend == divisor:\n",
    "                continue\n",
    "        if dividend % divisor == 0:\n",
    "            break\n",
    "    else:\n",
    "        print(dividend)"
   ]
  },
  {
   "cell_type": "code",
   "execution_count": null,
   "metadata": {},
   "outputs": [],
   "source": []
  }
 ],
 "metadata": {
  "kernelspec": {
   "display_name": "Python 3",
   "language": "python",
   "name": "python3"
  },
  "language_info": {
   "codemirror_mode": {
    "name": "ipython",
    "version": 3
   },
   "file_extension": ".py",
   "mimetype": "text/x-python",
   "name": "python",
   "nbconvert_exporter": "python",
   "pygments_lexer": "ipython3",
   "version": "3.8.7"
  }
 },
 "nbformat": 4,
 "nbformat_minor": 4
}
