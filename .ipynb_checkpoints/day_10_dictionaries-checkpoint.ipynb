{
 "cells": [
  {
   "cell_type": "code",
   "execution_count": null,
   "metadata": {},
   "outputs": [],
   "source": [
    "# Accesing values in a dicctionary"
   ]
  },
  {
   "cell_type": "code",
   "execution_count": null,
   "metadata": {},
   "outputs": [],
   "source": [
    "student = {\n",
    "            \"name\": \"John Smith\",\n",
    "            \"grades\": [88, 76, 92, 85, 69]\n",
    "}\n",
    "          "
   ]
  },
  {
   "cell_type": "code",
   "execution_count": null,
   "metadata": {},
   "outputs": [],
   "source": [
    "student[\"grades\"]"
   ]
  },
  {
   "cell_type": "code",
   "execution_count": null,
   "metadata": {},
   "outputs": [],
   "source": [
    "# What happens if we refer to a key that doesn't exist?\n",
    "student[\"grade\"] # KeyError: 'grade'"
   ]
  },
  {
   "cell_type": "code",
   "execution_count": null,
   "metadata": {},
   "outputs": [],
   "source": [
    "# If we're unsure if a key exists, and we don't want an exception being raised, we can instead use a method called get. \n",
    "#If the key exists, get works exactly the same way as using a subscription expression, \n",
    "#but if the key doesn't exist, it will return None instead of crashing the program.\n",
    "\n",
    "print(student.get(\"grade\")) # None\n",
    "\n",
    "# if we don't want to get \"None\", we can change that value for somehting else. Ex:\n",
    "print(student.get(\"grade\", [])) # []"
   ]
  },
  {
   "cell_type": "code",
   "execution_count": null,
   "metadata": {},
   "outputs": [],
   "source": [
    "# Modifying a dictionnary"
   ]
  },
  {
   "cell_type": "code",
   "execution_count": null,
   "metadata": {},
   "outputs": [],
   "source": [
    "# Adding new key value pairs\n",
    "student[\"age\"] = 17"
   ]
  },
  {
   "cell_type": "code",
   "execution_count": null,
   "metadata": {},
   "outputs": [],
   "source": [
    "student"
   ]
  },
  {
   "cell_type": "code",
   "execution_count": 1,
   "metadata": {},
   "outputs": [],
   "source": [
    "# Extend a dictionnary using an existing dictionnnary and the update method\n",
    "movie = {\n",
    "    \"title\": \"Avengers: Endgame\",\n",
    "    \"directos\": [\"Anthony Russo\", \"Joe Russo\"],\n",
    "    \"year\": 2019\n",
    "}\n",
    "\n",
    "# meta_info = {\n",
    "#     \"runtime\": 181,\n",
    "#     \"budget\": \"$356 million\",\n",
    "#     \"earnings\": \"$2.798 billion\",\n",
    "#     \"producer\": \"Kevin Feige\"\n",
    "# }\n",
    "\n",
    "# movie.update(meta_info)"
   ]
  },
  {
   "cell_type": "code",
   "execution_count": 2,
   "metadata": {},
   "outputs": [],
   "source": [
    "# We could also just pass in a dictionary to update directly, instead of defining meta_info beforehand\n",
    "movie.update({\n",
    "    \"runtime\": 181,\n",
    "    \"budget\": \"$356 million\",\n",
    "    \"earnings\": \"$2.798 billion\",\n",
    "    \"producer\": \"Kevin Feige\"\n",
    "})\n",
    "\n",
    "# This can be very useful if we're working with shorter dictionaries, or just if we're not using this other dictionary for any other purpose."
   ]
  },
  {
   "cell_type": "code",
   "execution_count": 3,
   "metadata": {},
   "outputs": [
    {
     "data": {
      "text/plain": [
       "{'title': 'Avengers: Endgame',\n",
       " 'directos': ['Anthony Russo', 'Joe Russo'],\n",
       " 'year': 2019,\n",
       " 'runtime': 181,\n",
       " 'budget': '$356 million',\n",
       " 'earnings': '$2.798 billion',\n",
       " 'producer': 'Kevin Feige'}"
      ]
     },
     "execution_count": 3,
     "metadata": {},
     "output_type": "execute_result"
    }
   ],
   "source": [
    "movie"
   ]
  },
  {
   "cell_type": "code",
   "execution_count": null,
   "metadata": {},
   "outputs": [],
   "source": [
    "# Modifying existing items in a dictionary\n",
    "\n",
    "student = {\n",
    "    \"name\": \"John Smith\",\n",
    "    \"grades\": [88, 76, 92, 85, 69],\n",
    "    \"age\": 15\n",
    "}\n",
    "\n",
    "student[\"age\"] = 18"
   ]
  },
  {
   "cell_type": "code",
   "execution_count": null,
   "metadata": {},
   "outputs": [],
   "source": [
    "student"
   ]
  },
  {
   "cell_type": "code",
   "execution_count": null,
   "metadata": {},
   "outputs": [],
   "source": [
    "# Deleting items from a dictionary"
   ]
  },
  {
   "cell_type": "code",
   "execution_count": null,
   "metadata": {},
   "outputs": [],
   "source": [
    "del movie[\"runtime\"]"
   ]
  },
  {
   "cell_type": "code",
   "execution_count": null,
   "metadata": {},
   "outputs": [],
   "source": [
    "movie"
   ]
  },
  {
   "cell_type": "code",
   "execution_count": null,
   "metadata": {},
   "outputs": [],
   "source": [
    "movie.pop(\"producer\")"
   ]
  },
  {
   "cell_type": "code",
   "execution_count": null,
   "metadata": {},
   "outputs": [],
   "source": [
    "movie"
   ]
  },
  {
   "cell_type": "code",
   "execution_count": null,
   "metadata": {},
   "outputs": [],
   "source": [
    "movie.clear()"
   ]
  },
  {
   "cell_type": "code",
   "execution_count": null,
   "metadata": {},
   "outputs": [],
   "source": [
    "movie"
   ]
  },
  {
   "cell_type": "code",
   "execution_count": null,
   "metadata": {},
   "outputs": [],
   "source": [
    "# Iterating over dictionaries"
   ]
  },
  {
   "cell_type": "code",
   "execution_count": 4,
   "metadata": {},
   "outputs": [
    {
     "name": "stdout",
     "output_type": "stream",
     "text": [
      "title\n",
      "directos\n",
      "year\n",
      "runtime\n",
      "budget\n",
      "earnings\n",
      "producer\n"
     ]
    }
   ],
   "source": [
    "for attribute in movie:\n",
    "    print(attribute) # Imprime solo los keys (title, directors..)"
   ]
  },
  {
   "cell_type": "code",
   "execution_count": 7,
   "metadata": {},
   "outputs": [
    {
     "name": "stdout",
     "output_type": "stream",
     "text": [
      "Avengers: Endgame\n",
      "['Anthony Russo', 'Joe Russo']\n",
      "2019\n",
      "181\n",
      "$356 million\n",
      "$2.798 billion\n",
      "Kevin Feige\n"
     ]
    }
   ],
   "source": [
    "# Algunas personas usan esta manera para imprimir los valores, pero no es necesario así.\n",
    "for key in movie:\n",
    "    print(movie[key])"
   ]
  },
  {
   "cell_type": "code",
   "execution_count": 9,
   "metadata": {},
   "outputs": [
    {
     "name": "stdout",
     "output_type": "stream",
     "text": [
      "Avengers: Endgame\n",
      "['Anthony Russo', 'Joe Russo']\n",
      "2019\n",
      "181\n",
      "$356 million\n",
      "$2.798 billion\n",
      "Kevin Feige\n"
     ]
    }
   ],
   "source": [
    "# Instead we call the value method\n",
    "for value in movie.values():\n",
    "    print(value)"
   ]
  },
  {
   "cell_type": "code",
   "execution_count": 11,
   "metadata": {},
   "outputs": [
    {
     "name": "stdout",
     "output_type": "stream",
     "text": [
      "title: Avengers: Endgame\n",
      "directos: ['Anthony Russo', 'Joe Russo']\n",
      "year: 2019\n",
      "runtime: 181\n",
      "budget: $356 million\n",
      "earnings: $2.798 billion\n",
      "producer: Kevin Feige\n"
     ]
    }
   ],
   "source": [
    "# Not good way to print values and keys\n",
    "for key in movie:\n",
    "    print(f\"{key}: {movie[key]}\")"
   ]
  },
  {
   "cell_type": "code",
   "execution_count": 12,
   "metadata": {},
   "outputs": [
    {
     "name": "stdout",
     "output_type": "stream",
     "text": [
      "title: Avengers: Endgame\n",
      "directos: ['Anthony Russo', 'Joe Russo']\n",
      "year: 2019\n",
      "runtime: 181\n",
      "budget: $356 million\n",
      "earnings: $2.798 billion\n",
      "producer: Kevin Feige\n"
     ]
    }
   ],
   "source": [
    "# Proper way to print keys and values -> items method (return tuples)\n",
    "for key, value in movie.items():\n",
    "    print(f\"{key}: {value}\")"
   ]
  },
  {
   "cell_type": "code",
   "execution_count": 13,
   "metadata": {},
   "outputs": [],
   "source": [
    "# The order of items in a dictionary\n",
    "# Since version 3.7: This order is based on the order we add items into the dictionary in question. \n",
    "# If we put the \"title\" key before the \"artist\" key, this will be reflected in the dictionary we create\n",
    "# OJO when using older versions when iterating and unpacking, this order does not apply"
   ]
  },
  {
   "cell_type": "markdown",
   "metadata": {},
   "source": [
    "## Exercise"
   ]
  },
  {
   "cell_type": "code",
   "execution_count": 14,
   "metadata": {},
   "outputs": [],
   "source": [
    "# Exercise 1: convert the outer tuple to a dictionary with four keys"
   ]
  },
  {
   "cell_type": "code",
   "execution_count": 49,
   "metadata": {},
   "outputs": [],
   "source": [
    "album_tuple = (\n",
    "    \"The dark side of the moon\",\n",
    "    \"Pink Floyd\",\n",
    "    1973,\n",
    "    (\n",
    "        \"Speak to Me\",\n",
    "        \"Breathe\",\n",
    "        \"On the Run\",\n",
    "        \"Time\",\n",
    "        \"The Great Gig in the Sky\",\n",
    "        \"Money\",\n",
    "        \"Us and Them\",\n",
    "        \"Any Colour You Like\",\n",
    "        \"Brain Damage\",\n",
    "        \"Eclipse\"\n",
    "    )\n",
    ")"
   ]
  },
  {
   "cell_type": "code",
   "execution_count": 50,
   "metadata": {},
   "outputs": [
    {
     "name": "stdout",
     "output_type": "stream",
     "text": [
      "{'name': 'The dark side of the moon', 'artist': 'Pink Floyd', 'release_year': 1973, 'track list': ('Speak to Me', 'Breathe', 'On the Run', 'Time', 'The Great Gig in the Sky', 'Money', 'Us and Them', 'Any Colour You Like', 'Brain Damage', 'Eclipse')}\n"
     ]
    }
   ],
   "source": [
    "album_dict = {}\n",
    "\n",
    "album_dict[\"name\"] = album_tuple[0]\n",
    "album_dict[\"artist\"] = album_tuple[1]\n",
    "album_dict[\"release_year\"] = album_tuple[2]\n",
    "album_dict[\"track list\"] = album_tuple[3]\n",
    "\n",
    "print(album_dict)"
   ]
  },
  {
   "cell_type": "code",
   "execution_count": null,
   "metadata": {},
   "outputs": [],
   "source": []
  }
 ],
 "metadata": {
  "kernelspec": {
   "display_name": "Python 3",
   "language": "python",
   "name": "python3"
  },
  "language_info": {
   "codemirror_mode": {
    "name": "ipython",
    "version": 3
   },
   "file_extension": ".py",
   "mimetype": "text/x-python",
   "name": "python",
   "nbconvert_exporter": "python",
   "pygments_lexer": "ipython3",
   "version": "3.8.7"
  }
 },
 "nbformat": 4,
 "nbformat_minor": 4
}
