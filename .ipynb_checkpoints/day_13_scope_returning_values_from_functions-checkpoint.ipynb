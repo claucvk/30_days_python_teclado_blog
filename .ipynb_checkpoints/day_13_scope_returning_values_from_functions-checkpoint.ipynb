{
 "cells": [
  {
   "cell_type": "code",
   "execution_count": null,
   "metadata": {},
   "outputs": [],
   "source": [
    "# Scope: description of where a given name can be referenced (located) in our application"
   ]
  },
  {
   "cell_type": "code",
   "execution_count": null,
   "metadata": {},
   "outputs": [],
   "source": [
    "def greet(name):\n",
    "    greeting = f\"Hello, {name}!\"\n",
    "    print(greeting)\n",
    "\n",
    "greet(\"Perroso\")"
   ]
  },
  {
   "cell_type": "code",
   "execution_count": null,
   "metadata": {},
   "outputs": [],
   "source": [
    "greeting # Error name 'greeting' is not defined\n",
    "# It means that greeting is out of scope"
   ]
  },
  {
   "cell_type": "code",
   "execution_count": null,
   "metadata": {},
   "outputs": [],
   "source": [
    "# Namespace: it is a record of the variables we've defined, and the values that are associated with those names.\n",
    "# It is like a dictionary"
   ]
  },
  {
   "cell_type": "code",
   "execution_count": null,
   "metadata": {},
   "outputs": [],
   "source": [
    "globals() # Global namespace"
   ]
  },
  {
   "cell_type": "code",
   "execution_count": null,
   "metadata": {},
   "outputs": [],
   "source": [
    "names = [\"Mike\", \"Fiona\", \"Patrick\"]\n",
    "x = 53657\n",
    "\n",
    "def add(a, b):\n",
    "    print(a, b)\n",
    "\n",
    "print(globals())\n",
    "\n",
    "# ...'names': ['Mike', 'Fiona', 'Patrick'], 'x': 53657, 'add': <function add at 0x10cf24dc0>}\n",
    "\n",
    "# When we use name in our application, Python just looks in the namespace to see if it's defined.\n",
    "# If it is, it can just reference the value associated with that name.\n",
    "# If it can't find the name we requested, Python says that the variable is undefined."
   ]
  },
  {
   "cell_type": "code",
   "execution_count": 1,
   "metadata": {},
   "outputs": [],
   "source": [
    "# Functions and namespaces\n",
    "# When we call a function, Python creates a new name (a dictionary with the names created in the function) while running the function.\n",
    "# Once the function finishes running, this namespace is destroyed, so that when we run the function next time, we're working with a blank slate\n",
    "\n",
    "# locals() = check the function namespace"
   ]
  },
  {
   "cell_type": "code",
   "execution_count": 2,
   "metadata": {},
   "outputs": [
    {
     "name": "stdout",
     "output_type": "stream",
     "text": [
      "{'a': 7, 'b': 25}\n",
      "7 25\n"
     ]
    }
   ],
   "source": [
    "def add(a, b):\n",
    "    print(locals())\n",
    "    print(a, b)\n",
    "    \n",
    "add(7, 25)"
   ]
  },
  {
   "cell_type": "code",
   "execution_count": 3,
   "metadata": {},
   "outputs": [
    {
     "name": "stdout",
     "output_type": "stream",
     "text": [
      "{'name': 'Phil'}\n",
      "{'name': 'Phil', 'greeting': 'Hello Phil!'}\n",
      "Hello Phil!\n"
     ]
    }
   ],
   "source": [
    "def greet(name):\n",
    "    print(locals())\n",
    "    greeting = f\"Hello {name}!\"\n",
    "    print(locals())\n",
    "    print(greeting)\n",
    "\n",
    "greet(\"Phil\")"
   ]
  },
  {
   "cell_type": "code",
   "execution_count": 4,
   "metadata": {},
   "outputs": [],
   "source": [
    "# Getting values out of a function -> return keyword\n",
    "# Return's functionality: terminate the function and get values out of a function"
   ]
  },
  {
   "cell_type": "code",
   "execution_count": 5,
   "metadata": {},
   "outputs": [],
   "source": [
    "def my_func():\n",
    "    return\n",
    "    print(\"bla\")\n",
    "# No imprime bla, porque return termina la función antes de llegar al print"
   ]
  },
  {
   "cell_type": "code",
   "execution_count": 7,
   "metadata": {},
   "outputs": [
    {
     "name": "stdout",
     "output_type": "stream",
     "text": [
      "17\n"
     ]
    }
   ],
   "source": [
    "def add(a, b):\n",
    "    return a + b # Expression directly after the return keyword\n",
    "\n",
    "result = add(5, 12) # assing the return to a variable to see the value returned\n",
    "print(result)"
   ]
  },
  {
   "cell_type": "code",
   "execution_count": 8,
   "metadata": {},
   "outputs": [
    {
     "name": "stdout",
     "output_type": "stream",
     "text": [
      "Hello, Phil!\n",
      "None\n"
     ]
    }
   ],
   "source": [
    "# There isn't a return -> return None\n",
    "\n",
    "def greet(name):\n",
    "    greeting = f\"Hello, {name}!\"\n",
    "    print(greeting)\n",
    "    \n",
    "print(greet('Phil'))"
   ]
  },
  {
   "cell_type": "code",
   "execution_count": 9,
   "metadata": {},
   "outputs": [
    {
     "name": "stdout",
     "output_type": "stream",
     "text": [
      "Hello Lola!\n",
      "None\n"
     ]
    }
   ],
   "source": [
    "def greet(name):\n",
    "    greeting = f\"Hello {name}!\"\n",
    "    print(greeting)\n",
    "    return\n",
    "\n",
    "print(greet(\"Lola\"))"
   ]
  },
  {
   "cell_type": "code",
   "execution_count": 13,
   "metadata": {},
   "outputs": [
    {
     "name": "stdout",
     "output_type": "stream",
     "text": [
      "Hello Phil!\n",
      "The value of greet('Phil') is None\n"
     ]
    }
   ],
   "source": [
    "# We can use the return value of the function anywhere we might use plain old value. EX: in a variable assignment as part of a string\n",
    "\n",
    "def greet(name):\n",
    "    greeting = f\"Hello {name}!\"\n",
    "    print(greeting)\n",
    "    \n",
    "print(f\"The value of greet('Phil') is {greet('Phil')}\")"
   ]
  },
  {
   "cell_type": "code",
   "execution_count": 14,
   "metadata": {},
   "outputs": [],
   "source": [
    "# Multiple returns statements"
   ]
  },
  {
   "cell_type": "code",
   "execution_count": null,
   "metadata": {},
   "outputs": [],
   "source": []
  }
 ],
 "metadata": {
  "kernelspec": {
   "display_name": "Python 3",
   "language": "python",
   "name": "python3"
  },
  "language_info": {
   "codemirror_mode": {
    "name": "ipython",
    "version": 3
   },
   "file_extension": ".py",
   "mimetype": "text/x-python",
   "name": "python",
   "nbconvert_exporter": "python",
   "pygments_lexer": "ipython3",
   "version": "3.8.7"
  }
 },
 "nbformat": 4,
 "nbformat_minor": 4
}
