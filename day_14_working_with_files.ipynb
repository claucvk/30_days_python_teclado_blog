{
 "cells": [
  {
   "cell_type": "code",
   "execution_count": null,
   "metadata": {},
   "outputs": [],
   "source": [
    "# Open files: it can read the content, but it can't modify or print the content"
   ]
  },
  {
   "cell_type": "code",
   "execution_count": 6,
   "metadata": {},
   "outputs": [
    {
     "name": "stdout",
     "output_type": "stream",
     "text": [
      "Hello, for the example.txt file!\n"
     ]
    }
   ],
   "source": [
    "example_file = open(\"example.txt\")\n",
    "print(example_file.read())\n",
    "example_file.close() # Always good practice close files to avoid some problems"
   ]
  },
  {
   "cell_type": "code",
   "execution_count": 7,
   "metadata": {},
   "outputs": [],
   "source": [
    "# Opening files in different modes"
   ]
  },
  {
   "cell_type": "code",
   "execution_count": 9,
   "metadata": {},
   "outputs": [
    {
     "name": "stdout",
     "output_type": "stream",
     "text": [
      "Hello, for the example.txt file!\n"
     ]
    }
   ],
   "source": [
    "# By default, \"open\" is going to open our files in read mode -> \"r\" mode\n",
    "\n",
    "example_file = open(\"example.txt\", \"r\")\n",
    "print(example_file.read())\n",
    "example_file.close()"
   ]
  },
  {
   "cell_type": "code",
   "execution_count": 10,
   "metadata": {},
   "outputs": [
    {
     "name": "stdout",
     "output_type": "stream",
     "text": [
      "Hello, for the example.txt file!\n"
     ]
    }
   ],
   "source": [
    "# We could use the keyword argument\n",
    "\n",
    "example_file = open(\"example.txt\", mode=\"r\")\n",
    "print(example_file.read())\n",
    "example_file.close()"
   ]
  },
  {
   "cell_type": "code",
   "execution_count": 12,
   "metadata": {},
   "outputs": [],
   "source": [
    "# Write Mode -> \"w\"\n",
    "# Python will create the file for us if it doesn't already exist\n",
    "# Write mode will truncates the file as soon as we open it. Meaning, it deletes all of the data in the file."
   ]
  },
  {
   "cell_type": "code",
   "execution_count": 13,
   "metadata": {},
   "outputs": [],
   "source": [
    "write_file = open(\"write_example.txt\", \"w\")\n",
    "write_file.close()"
   ]
  },
  {
   "cell_type": "code",
   "execution_count": 14,
   "metadata": {},
   "outputs": [],
   "source": [
    "# Write information to the write_file by calling the write method"
   ]
  },
  {
   "cell_type": "code",
   "execution_count": 26,
   "metadata": {},
   "outputs": [],
   "source": [
    "write_file = open(\"write_example.txt\", \"w\")\n",
    "write_file.write(\"Welcome to the world, write_example.txt!\")\n",
    "write_file.close()"
   ]
  },
  {
   "cell_type": "code",
   "execution_count": 27,
   "metadata": {},
   "outputs": [
    {
     "name": "stdout",
     "output_type": "stream",
     "text": [
      "Welcome to the world, write_example.txt!\n"
     ]
    }
   ],
   "source": [
    "write_file = open(\"write_example.txt\", \"r\")\n",
    "print(write_file.read())\n",
    "write_file.close()"
   ]
  },
  {
   "cell_type": "code",
   "execution_count": 28,
   "metadata": {},
   "outputs": [],
   "source": [
    "# Append mode: another type of write mode -> \"a\"\n",
    "# Append mode lets us write to the end of the file, it be can used when we want to extend the file's content"
   ]
  },
  {
   "cell_type": "code",
   "execution_count": 34,
   "metadata": {},
   "outputs": [],
   "source": [
    "write_file = open(\"write_example.txt\", \"a\")\n",
    "write_file.write(\"\\nNow you have two lines! You're growing up so fast!\")\n",
    "write_file.close()"
   ]
  },
  {
   "cell_type": "code",
   "execution_count": 35,
   "metadata": {},
   "outputs": [
    {
     "name": "stdout",
     "output_type": "stream",
     "text": [
      "Welcome to the world, write_example.txt!\n",
      "Now you have two lines! You're growing up so fast!Now you have two lines! You're growing up so fast!\n",
      "Now you have two lines! You're growing up so fast!\n"
     ]
    }
   ],
   "source": [
    "write_file = open(\"write_example.txt\", \"r\")\n",
    "print(write_file.read())\n",
    "write_file.close()"
   ]
  },
  {
   "cell_type": "code",
   "execution_count": 36,
   "metadata": {},
   "outputs": [],
   "source": [
    "# Context managers for working with files"
   ]
  },
  {
   "cell_type": "code",
   "execution_count": 37,
   "metadata": {},
   "outputs": [
    {
     "name": "stdout",
     "output_type": "stream",
     "text": [
      "Hello, for the example.txt file!\n"
     ]
    }
   ],
   "source": [
    "with open(\"example.txt\", \"r\") as example_file:\n",
    "    print(example_file.read())\n",
    "\n",
    "# it is the same:\n",
    "# example_file = open(\"example.txt\", \"r\")\n",
    "# print(example_file.read())\n",
    "# example_file.close()"
   ]
  },
  {
   "cell_type": "code",
   "execution_count": 38,
   "metadata": {},
   "outputs": [],
   "source": [
    "with open(\"write_example.txt\", \"w\") as write_file:\n",
    "    write_file.write(\"Welcome to the world, write_example.txt!\")"
   ]
  },
  {
   "cell_type": "code",
   "execution_count": 39,
   "metadata": {},
   "outputs": [],
   "source": [
    "with open(\"write_example.txt\", \"a\") as write_file:\n",
    "    write_file.write(\"\\nNow you have two lines! You're growing up so fast!\")"
   ]
  },
  {
   "cell_type": "code",
   "execution_count": 40,
   "metadata": {},
   "outputs": [
    {
     "name": "stdout",
     "output_type": "stream",
     "text": [
      "Welcome to the world, write_example.txt!\n",
      "Now you have two lines! You're growing up so fast!\n"
     ]
    }
   ],
   "source": [
    "with open(\"write_example.txt\", \"r\") as write_file:\n",
    "    print(write_file.read())"
   ]
  },
  {
   "cell_type": "code",
   "execution_count": 41,
   "metadata": {},
   "outputs": [],
   "source": [
    "# CSV data (Comma Separated Values)"
   ]
  },
  {
   "cell_type": "code",
   "execution_count": 42,
   "metadata": {},
   "outputs": [],
   "source": [
    "# Goal: take the set of csv data, and create a list of dictionaries from it"
   ]
  },
  {
   "cell_type": "code",
   "execution_count": 43,
   "metadata": {},
   "outputs": [],
   "source": [
    "# Step 1: Getting the data out of the file\n",
    "\n",
    "with open(\"iris.csv\", \"r\") as iris_files:\n",
    "    iris_data = iris_files.read()"
   ]
  },
  {
   "cell_type": "code",
   "execution_count": 47,
   "metadata": {},
   "outputs": [],
   "source": [
    "# Step 2: splitting the data into rows\n",
    "#  how do get the individual lines from the file so we can start working with individual items?\n"
   ]
  },
  {
   "cell_type": "code",
   "execution_count": 78,
   "metadata": {},
   "outputs": [
    {
     "name": "stdout",
     "output_type": "stream",
     "text": [
      "['sepal_length,sepal_width,petal_length,petal_width,species', '5.1,3.5,1.4,0.2,Iris-setosa', '4.9,3,1.4,0.2,Iris-setosa', '4.7,3.2,1.3,0.2,Iris-setosa', '4.6,3.1,1.5,0.2,Iris-setosa', '5,3.6,1.4,0.2,Iris-setosa', '7,3.2,4.7,1.4,Iris-versicolor', '6.4,3.2,4.5,1.5,Iris-versicolor', '6.9,3.1,4.9,1.5,Iris-versicolor', '5.5,2.3,4,1.3,Iris-versicolor', '6.5,2.8,4.6,1.5,Iris-versicolor', '6.3,3.3,6,2.5,Iris-virginica', '5.8,2.7,5.1,1.9,Iris-virginica', '7.1,3,5.9,2.1,Iris-virginica', '6.3,2.9,5.6,1.8,Iris-virginica', '6.5,3,5.8,2.2,Iris-virginica']\n"
     ]
    }
   ],
   "source": [
    "with open(\"iris.csv\", \"r\") as iris_file:\n",
    "    iris_data = iris_file.read().split(\"\\n\")\n",
    "\n",
    "print(iris_data)"
   ]
  },
  {
   "cell_type": "code",
   "execution_count": 79,
   "metadata": {},
   "outputs": [
    {
     "name": "stdout",
     "output_type": "stream",
     "text": [
      "['sepal_length,sepal_width,petal_length,petal_width,species\\n', '5.1,3.5,1.4,0.2,Iris-setosa\\n', '4.9,3,1.4,0.2,Iris-setosa\\n', '4.7,3.2,1.3,0.2,Iris-setosa\\n', '4.6,3.1,1.5,0.2,Iris-setosa\\n', '5,3.6,1.4,0.2,Iris-setosa\\n', '7,3.2,4.7,1.4,Iris-versicolor\\n', '6.4,3.2,4.5,1.5,Iris-versicolor\\n', '6.9,3.1,4.9,1.5,Iris-versicolor\\n', '5.5,2.3,4,1.3,Iris-versicolor\\n', '6.5,2.8,4.6,1.5,Iris-versicolor\\n', '6.3,3.3,6,2.5,Iris-virginica\\n', '5.8,2.7,5.1,1.9,Iris-virginica\\n', '7.1,3,5.9,2.1,Iris-virginica\\n', '6.3,2.9,5.6,1.8,Iris-virginica\\n', '6.5,3,5.8,2.2,Iris-virginica']\n"
     ]
    }
   ],
   "source": [
    "# It is a pretty common operation, Python give us the method readlines\n",
    "# readlines is going to preserve this \"\\n\" character, so we're going to need to trim it off\n",
    "\n",
    "with open(\"iris.csv\", \"r\") as iris_file:\n",
    "    iris_data = iris_file.readlines()\n",
    "\n",
    "print(iris_data)"
   ]
  },
  {
   "cell_type": "code",
   "execution_count": 80,
   "metadata": {},
   "outputs": [],
   "source": [
    "# Step 3: Creating our new list and trimming off the header row\n",
    "# Step 4: Splitting the rows into individual items"
   ]
  },
  {
   "cell_type": "code",
   "execution_count": 81,
   "metadata": {},
   "outputs": [],
   "source": [
    "with open(\"iris.csv\", \"r\") as iris_file:\n",
    "    iris_data = iris_file.readlines()\n",
    "    \n",
    "irises = []\n",
    "\n",
    "for row in iris_data[1:]: # using split method to take out the headers iris_data[0]\n",
    "    sepal_length, sepal_width, petal_lenght, petal_width, species = row.strip().split(\",\")"
   ]
  },
  {
   "cell_type": "code",
   "execution_count": 82,
   "metadata": {},
   "outputs": [],
   "source": [
    "# Step 5: creating a dictionary from each row"
   ]
  },
  {
   "cell_type": "code",
   "execution_count": 83,
   "metadata": {},
   "outputs": [
    {
     "name": "stdout",
     "output_type": "stream",
     "text": [
      "[{'sepal_length': '5.1', 'sepal_width': '3.5', 'petal_length': '1.4', 'petal_width': '0.2', 'species': 'Iris-setosa'}, {'sepal_length': '4.9', 'sepal_width': '3', 'petal_length': '1.4', 'petal_width': '0.2', 'species': 'Iris-setosa'}, {'sepal_length': '4.7', 'sepal_width': '3.2', 'petal_length': '1.3', 'petal_width': '0.2', 'species': 'Iris-setosa'}, {'sepal_length': '4.6', 'sepal_width': '3.1', 'petal_length': '1.5', 'petal_width': '0.2', 'species': 'Iris-setosa'}, {'sepal_length': '5', 'sepal_width': '3.6', 'petal_length': '1.4', 'petal_width': '0.2', 'species': 'Iris-setosa'}, {'sepal_length': '7', 'sepal_width': '3.2', 'petal_length': '4.7', 'petal_width': '1.4', 'species': 'Iris-versicolor'}, {'sepal_length': '6.4', 'sepal_width': '3.2', 'petal_length': '4.5', 'petal_width': '1.5', 'species': 'Iris-versicolor'}, {'sepal_length': '6.9', 'sepal_width': '3.1', 'petal_length': '4.9', 'petal_width': '1.5', 'species': 'Iris-versicolor'}, {'sepal_length': '5.5', 'sepal_width': '2.3', 'petal_length': '4', 'petal_width': '1.3', 'species': 'Iris-versicolor'}, {'sepal_length': '6.5', 'sepal_width': '2.8', 'petal_length': '4.6', 'petal_width': '1.5', 'species': 'Iris-versicolor'}, {'sepal_length': '6.3', 'sepal_width': '3.3', 'petal_length': '6', 'petal_width': '2.5', 'species': 'Iris-virginica'}, {'sepal_length': '5.8', 'sepal_width': '2.7', 'petal_length': '5.1', 'petal_width': '1.9', 'species': 'Iris-virginica'}, {'sepal_length': '7.1', 'sepal_width': '3', 'petal_length': '5.9', 'petal_width': '2.1', 'species': 'Iris-virginica'}, {'sepal_length': '6.3', 'sepal_width': '2.9', 'petal_length': '5.6', 'petal_width': '1.8', 'species': 'Iris-virginica'}, {'sepal_length': '6.5', 'sepal_width': '3', 'petal_length': '5.8', 'petal_width': '2.2', 'species': 'Iris-virginica'}]\n"
     ]
    }
   ],
   "source": [
    "with open(\"iris.csv\", \"r\") as iris_file:\n",
    "    iris_data = iris_file.readlines()\n",
    "    \n",
    "ireses = []\n",
    "\n",
    "for row in iris_data[1:]:\n",
    "    sepal_length, sepal_width, petal_lenght, petal_width, species = row.strip().split(\",\")\n",
    "    \n",
    "    iris_dict = {\n",
    "        \"sepal_length\": sepal_length,\n",
    "        \"sepal_width\": sepal_width,\n",
    "        \"petal_length\": petal_lenght,\n",
    "        \"petal_width\": petal_width,\n",
    "        \"species\": species\n",
    "    }\n",
    "\n",
    "    ireses.append(iris_dict)\n",
    "\n",
    "print(ireses)"
   ]
  },
  {
   "cell_type": "code",
   "execution_count": 84,
   "metadata": {},
   "outputs": [],
   "source": [
    "# Using the dict function: alternative method to create a dictionary\n",
    "# Create a dictionary by passing an iterable of iterables, where each of these inner iterables contains a key and a value"
   ]
  },
  {
   "cell_type": "code",
   "execution_count": 85,
   "metadata": {},
   "outputs": [
    {
     "name": "stdout",
     "output_type": "stream",
     "text": [
      "{'sepal_length': '5.1', 'sepal_width': '3.5', 'petal_length': '1.4', 'petal_width': '0.2', 'species': 'Iris-setosa'}\n"
     ]
    }
   ],
   "source": [
    "# Example:\n",
    "\n",
    "iris = [\n",
    "    (\"sepal_length\", \"5.1\"),\n",
    "    (\"sepal_width\", \"3.5\"),\n",
    "    (\"petal_length\", \"1.4\"),\n",
    "    (\"petal_width\", \"0.2\"),\n",
    "    (\"species\", \"Iris-setosa\")\n",
    "]\n",
    "\n",
    "print(dict(iris))"
   ]
  },
  {
   "cell_type": "code",
   "execution_count": 86,
   "metadata": {},
   "outputs": [],
   "source": [
    "# This version: we keep the header row adding it to a list, use zip (combine headers with irises) and dict function to create the dictionary"
   ]
  },
  {
   "cell_type": "code",
   "execution_count": 87,
   "metadata": {},
   "outputs": [
    {
     "name": "stdout",
     "output_type": "stream",
     "text": [
      "[{'sepal_length': '5.1', 'sepal_width': '3.5', 'petal_length': '1.4', 'petal_width': '0.2', 'species': 'Iris-setosa'}, {'sepal_length': '4.9', 'sepal_width': '3', 'petal_length': '1.4', 'petal_width': '0.2', 'species': 'Iris-setosa'}, {'sepal_length': '4.7', 'sepal_width': '3.2', 'petal_length': '1.3', 'petal_width': '0.2', 'species': 'Iris-setosa'}, {'sepal_length': '4.6', 'sepal_width': '3.1', 'petal_length': '1.5', 'petal_width': '0.2', 'species': 'Iris-setosa'}, {'sepal_length': '5', 'sepal_width': '3.6', 'petal_length': '1.4', 'petal_width': '0.2', 'species': 'Iris-setosa'}, {'sepal_length': '7', 'sepal_width': '3.2', 'petal_length': '4.7', 'petal_width': '1.4', 'species': 'Iris-versicolor'}, {'sepal_length': '6.4', 'sepal_width': '3.2', 'petal_length': '4.5', 'petal_width': '1.5', 'species': 'Iris-versicolor'}, {'sepal_length': '6.9', 'sepal_width': '3.1', 'petal_length': '4.9', 'petal_width': '1.5', 'species': 'Iris-versicolor'}, {'sepal_length': '5.5', 'sepal_width': '2.3', 'petal_length': '4', 'petal_width': '1.3', 'species': 'Iris-versicolor'}, {'sepal_length': '6.5', 'sepal_width': '2.8', 'petal_length': '4.6', 'petal_width': '1.5', 'species': 'Iris-versicolor'}, {'sepal_length': '6.3', 'sepal_width': '3.3', 'petal_length': '6', 'petal_width': '2.5', 'species': 'Iris-virginica'}, {'sepal_length': '5.8', 'sepal_width': '2.7', 'petal_length': '5.1', 'petal_width': '1.9', 'species': 'Iris-virginica'}, {'sepal_length': '7.1', 'sepal_width': '3', 'petal_length': '5.9', 'petal_width': '2.1', 'species': 'Iris-virginica'}, {'sepal_length': '6.3', 'sepal_width': '2.9', 'petal_length': '5.6', 'petal_width': '1.8', 'species': 'Iris-virginica'}, {'sepal_length': '6.5', 'sepal_width': '3', 'petal_length': '5.8', 'petal_width': '2.2', 'species': 'Iris-virginica'}]\n"
     ]
    }
   ],
   "source": [
    "with open(\"iris.csv\", \"r\") as iris_file:\n",
    "    iris_data = iris_file.readlines()\n",
    "\n",
    "headers = iris_data[0].strip().split(\",\")\n",
    "\n",
    "# Let's iterate over the rows again, but this time, let's match each header item to a value in a given row using zip\n",
    "for row in iris_data[1:]:\n",
    "    iris = row.strip().split(\",\")\n",
    "    iris_dict = dict(zip(headers, iris))\n",
    "    \n",
    "    irises.append(iris_dict)\n",
    "    \n",
    "print(ireses)"
   ]
  },
  {
   "cell_type": "markdown",
   "metadata": {},
   "source": [
    "## Exercises"
   ]
  },
  {
   "cell_type": "code",
   "execution_count": 88,
   "metadata": {},
   "outputs": [],
   "source": [
    "# Rewrite the following piece of code using a context manager"
   ]
  },
  {
   "cell_type": "code",
   "execution_count": 89,
   "metadata": {},
   "outputs": [],
   "source": [
    "f = open(\"hello_world.txt\", \"w\")\n",
    "f.write(\"Hello, World!\")\n",
    "f.close()"
   ]
  },
  {
   "cell_type": "code",
   "execution_count": 100,
   "metadata": {},
   "outputs": [],
   "source": [
    "with open(\"hello_world.txt\", \"w\") as f:\n",
    "    f.write(\"Hello, World!\")"
   ]
  },
  {
   "cell_type": "code",
   "execution_count": 101,
   "metadata": {},
   "outputs": [],
   "source": [
    "# Use append mode to write \"How are you?\" on the second line of the hello_word.txt file above"
   ]
  },
  {
   "cell_type": "code",
   "execution_count": 102,
   "metadata": {},
   "outputs": [],
   "source": [
    "with open(\"hello_world.txt\", \"a\") as f:\n",
    "    f.write(\"\\nHow are you?\")"
   ]
  },
  {
   "cell_type": "code",
   "execution_count": 103,
   "metadata": {},
   "outputs": [],
   "source": [
    "# Take the list of dictionaries we created from the Iris flower data set and write it to a new file in CSV format"
   ]
  },
  {
   "cell_type": "code",
   "execution_count": 180,
   "metadata": {},
   "outputs": [
    {
     "name": "stdout",
     "output_type": "stream",
     "text": [
      "5.1, 3.5, 1.4, 0.2, Iris-setosa\n",
      "4.9, 3, 1.4, 0.2, Iris-setosa\n",
      "4.7, 3.2, 1.3, 0.2, Iris-setosa\n",
      "4.6, 3.1, 1.5, 0.2, Iris-setosa\n",
      "5, 3.6, 1.4, 0.2, Iris-setosa\n",
      "7, 3.2, 4.7, 1.4, Iris-versicolor\n",
      "6.4, 3.2, 4.5, 1.5, Iris-versicolor\n",
      "6.9, 3.1, 4.9, 1.5, Iris-versicolor\n",
      "5.5, 2.3, 4, 1.3, Iris-versicolor\n",
      "6.5, 2.8, 4.6, 1.5, Iris-versicolor\n",
      "6.3, 3.3, 6, 2.5, Iris-virginica\n",
      "5.8, 2.7, 5.1, 1.9, Iris-virginica\n",
      "7.1, 3, 5.9, 2.1, Iris-virginica\n",
      "6.3, 2.9, 5.6, 1.8, Iris-virginica\n",
      "6.5, 3, 5.8, 2.2, Iris-virginica\n"
     ]
    }
   ],
   "source": [
    "with open(\"copy_iris_set.csv\", \"w\") as data:\n",
    "    headers = list(irises[0].keys())\n",
    "    headers = \", \".join(headers)\n",
    "    data.write(headers)\n",
    "    for item in irises:\n",
    "        values = list(item.values())\n",
    "        values = \", \".join(values)\n",
    "        data.write(\"\\n\" + values)"
   ]
  },
  {
   "cell_type": "code",
   "execution_count": 184,
   "metadata": {},
   "outputs": [
    {
     "data": {
      "text/plain": [
       "[{'sepal_length': '5.1',\n",
       "  'sepal_width': '3.5',\n",
       "  'petal_length': '1.4',\n",
       "  'petal_width': '0.2',\n",
       "  'species': 'Iris-setosa'},\n",
       " {'sepal_length': '4.9',\n",
       "  'sepal_width': '3',\n",
       "  'petal_length': '1.4',\n",
       "  'petal_width': '0.2',\n",
       "  'species': 'Iris-setosa'},\n",
       " {'sepal_length': '4.7',\n",
       "  'sepal_width': '3.2',\n",
       "  'petal_length': '1.3',\n",
       "  'petal_width': '0.2',\n",
       "  'species': 'Iris-setosa'},\n",
       " {'sepal_length': '4.6',\n",
       "  'sepal_width': '3.1',\n",
       "  'petal_length': '1.5',\n",
       "  'petal_width': '0.2',\n",
       "  'species': 'Iris-setosa'},\n",
       " {'sepal_length': '5',\n",
       "  'sepal_width': '3.6',\n",
       "  'petal_length': '1.4',\n",
       "  'petal_width': '0.2',\n",
       "  'species': 'Iris-setosa'},\n",
       " {'sepal_length': '7',\n",
       "  'sepal_width': '3.2',\n",
       "  'petal_length': '4.7',\n",
       "  'petal_width': '1.4',\n",
       "  'species': 'Iris-versicolor'},\n",
       " {'sepal_length': '6.4',\n",
       "  'sepal_width': '3.2',\n",
       "  'petal_length': '4.5',\n",
       "  'petal_width': '1.5',\n",
       "  'species': 'Iris-versicolor'},\n",
       " {'sepal_length': '6.9',\n",
       "  'sepal_width': '3.1',\n",
       "  'petal_length': '4.9',\n",
       "  'petal_width': '1.5',\n",
       "  'species': 'Iris-versicolor'},\n",
       " {'sepal_length': '5.5',\n",
       "  'sepal_width': '2.3',\n",
       "  'petal_length': '4',\n",
       "  'petal_width': '1.3',\n",
       "  'species': 'Iris-versicolor'},\n",
       " {'sepal_length': '6.5',\n",
       "  'sepal_width': '2.8',\n",
       "  'petal_length': '4.6',\n",
       "  'petal_width': '1.5',\n",
       "  'species': 'Iris-versicolor'},\n",
       " {'sepal_length': '6.3',\n",
       "  'sepal_width': '3.3',\n",
       "  'petal_length': '6',\n",
       "  'petal_width': '2.5',\n",
       "  'species': 'Iris-virginica'},\n",
       " {'sepal_length': '5.8',\n",
       "  'sepal_width': '2.7',\n",
       "  'petal_length': '5.1',\n",
       "  'petal_width': '1.9',\n",
       "  'species': 'Iris-virginica'},\n",
       " {'sepal_length': '7.1',\n",
       "  'sepal_width': '3',\n",
       "  'petal_length': '5.9',\n",
       "  'petal_width': '2.1',\n",
       "  'species': 'Iris-virginica'},\n",
       " {'sepal_length': '6.3',\n",
       "  'sepal_width': '2.9',\n",
       "  'petal_length': '5.6',\n",
       "  'petal_width': '1.8',\n",
       "  'species': 'Iris-virginica'},\n",
       " {'sepal_length': '6.5',\n",
       "  'sepal_width': '3',\n",
       "  'petal_length': '5.8',\n",
       "  'petal_width': '2.2',\n",
       "  'species': 'Iris-virginica'}]"
      ]
     },
     "execution_count": 184,
     "metadata": {},
     "output_type": "execute_result"
    }
   ],
   "source": [
    "# Blog's solution\n",
    "irises"
   ]
  },
  {
   "cell_type": "code",
   "execution_count": 209,
   "metadata": {},
   "outputs": [],
   "source": [
    "# Converting the dictionary to CSV format -> create an f-string where the values are comma separated\n",
    "\n",
    "with open(\"copy_iris_set.csv\", \"w\") as data:\n",
    "    headers = list(iris.keys())\n",
    "    headers = \", \".join(headers)\n",
    "    data.write(headers)\n",
    "    for iris in irises:\n",
    "        # data.write(f\"\\n{iris['sepal_length']}, {iris['sepal_width']}, {iris['petal_length']}, {iris['petal_width']}, {iris['species']}\")\n",
    "        sepal_length, sepal_width, petal_length, petal_width, species = iris.values()\n",
    "        data.write(f\"\\n{sepal_length}, {sepal_width}, {petal_length}, {petal_width}, {species}\")"
   ]
  },
  {
   "cell_type": "code",
   "execution_count": 210,
   "metadata": {},
   "outputs": [],
   "source": [
    "# Using join method\n",
    "\n",
    "with open(\"copy_iris_set.csv\", \"w\") as iris_file:\n",
    "    for iris in irises:\n",
    "        iris_file.write(\",\".join(iris.values()) + \"\\n\")"
   ]
  },
  {
   "cell_type": "code",
   "execution_count": null,
   "metadata": {},
   "outputs": [],
   "source": []
  }
 ],
 "metadata": {
  "kernelspec": {
   "display_name": "Python 3.8.5 64-bit",
   "language": "python",
   "name": "python38564bit087f84167b174d959d40dbfe79d0aa56"
  },
  "language_info": {
   "codemirror_mode": {
    "name": "ipython",
    "version": 3
   },
   "file_extension": ".py",
   "mimetype": "text/x-python",
   "name": "python",
   "nbconvert_exporter": "python",
   "pygments_lexer": "ipython3",
   "version": "3.8.7"
  }
 },
 "nbformat": 4,
 "nbformat_minor": 4
}
