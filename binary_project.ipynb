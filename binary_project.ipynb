{
 "cells": [
  {
   "cell_type": "code",
   "execution_count": 20,
   "metadata": {},
   "outputs": [],
   "source": [
    "%config Completer.use_jedi = False"
   ]
  },
  {
   "cell_type": "code",
   "execution_count": 21,
   "metadata": {},
   "outputs": [],
   "source": [
    "# How integers can be represented in binary numbers?"
   ]
  },
  {
   "cell_type": "code",
   "execution_count": 22,
   "metadata": {},
   "outputs": [],
   "source": [
    "binary_num = 10101101"
   ]
  },
  {
   "cell_type": "code",
   "execution_count": 23,
   "metadata": {},
   "outputs": [],
   "source": [
    "binary_list = list(str(binary_num))"
   ]
  },
  {
   "cell_type": "code",
   "execution_count": 4,
   "metadata": {},
   "outputs": [
    {
     "data": {
      "text/plain": [
       "['1', '0', '1', '0', '1', '1', '0', '1']"
      ]
     },
     "execution_count": 4,
     "metadata": {},
     "output_type": "execute_result"
    }
   ],
   "source": [
    "binary_list"
   ]
  },
  {
   "cell_type": "code",
   "execution_count": 14,
   "metadata": {},
   "outputs": [
    {
     "name": "stdout",
     "output_type": "stream",
     "text": [
      "1\n",
      "1\n",
      "5\n",
      "13\n",
      "13\n",
      "45\n",
      "45\n",
      "173\n"
     ]
    }
   ],
   "source": [
    "exp = 0\n",
    "bin_to_int = 0\n",
    "\n",
    "for digit in reversed(binary_list):\n",
    "    num = int(digit)\n",
    "    if exp == 0:\n",
    "        print\n",
    "        bin_to_int += 1\n",
    "    elif num == 1 and exp >= 1:\n",
    "        bin_to_int += 1 * 2 ** exp\n",
    "    else:\n",
    "        bin_to_int += 0 * 2 ** exp\n",
    "    \n",
    "    print(bin_to_int)\n",
    "    exp += 1"
   ]
  },
  {
   "cell_type": "code",
   "execution_count": 15,
   "metadata": {},
   "outputs": [
    {
     "name": "stdout",
     "output_type": "stream",
     "text": [
      "1\n",
      "1\n",
      "5\n",
      "13\n",
      "13\n",
      "45\n",
      "45\n",
      "173\n"
     ]
    }
   ],
   "source": [
    "exp = 0\n",
    "bin_to_int = []\n",
    "\n",
    "for digit in reversed(binary_list):\n",
    "    num = int(digit)\n",
    "    if exp == 0:\n",
    "        print\n",
    "        bin_to_int.append(1)\n",
    "    elif num == 1 and exp >= 1:\n",
    "        bin_to_int.append(1 * 2 ** exp)\n",
    "    else:\n",
    "        bin_to_int.append(0 * 2 ** exp)\n",
    "    \n",
    "    print(sum(bin_to_int))\n",
    "    exp += 1"
   ]
  },
  {
   "cell_type": "code",
   "execution_count": null,
   "metadata": {},
   "outputs": [],
   "source": []
  },
  {
   "cell_type": "code",
   "execution_count": null,
   "metadata": {},
   "outputs": [],
   "source": []
  }
 ],
 "metadata": {
  "kernelspec": {
   "display_name": "Python 3",
   "language": "python",
   "name": "python3"
  },
  "language_info": {
   "codemirror_mode": {
    "name": "ipython",
    "version": 3
   },
   "file_extension": ".py",
   "mimetype": "text/x-python",
   "name": "python",
   "nbconvert_exporter": "python",
   "pygments_lexer": "ipython3",
   "version": "3.8.6"
  }
 },
 "nbformat": 4,
 "nbformat_minor": 4
}
