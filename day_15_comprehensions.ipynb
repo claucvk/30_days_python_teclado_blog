{
 "cells": [
  {
   "cell_type": "code",
   "execution_count": 1,
   "metadata": {},
   "outputs": [],
   "source": [
    "# List comprehensions"
   ]
  },
  {
   "cell_type": "code",
   "execution_count": 8,
   "metadata": {},
   "outputs": [],
   "source": [
    "names = [\"mary\", \"Richard\", \"Noah\", \"KATE\"]"
   ]
  },
  {
   "cell_type": "code",
   "execution_count": 9,
   "metadata": {},
   "outputs": [
    {
     "name": "stdout",
     "output_type": "stream",
     "text": [
      "['Mary', 'Richard', 'Noah', 'Kate']\n"
     ]
    }
   ],
   "source": [
    "processed_names = []\n",
    "\n",
    "for name in names:\n",
    "    processed_names.append(name.title())\n",
    "    \n",
    "print(processed_names)"
   ]
  },
  {
   "cell_type": "code",
   "execution_count": 11,
   "metadata": {},
   "outputs": [],
   "source": [
    "names = [name.title() for name in names]"
   ]
  },
  {
   "cell_type": "code",
   "execution_count": 12,
   "metadata": {},
   "outputs": [
    {
     "data": {
      "text/plain": [
       "['Mary', 'Richard', 'Noah', 'Kate']"
      ]
     },
     "execution_count": 12,
     "metadata": {},
     "output_type": "execute_result"
    }
   ],
   "source": [
    "names"
   ]
  },
  {
   "cell_type": "code",
   "execution_count": 13,
   "metadata": {},
   "outputs": [],
   "source": [
    "# Lists and tuples"
   ]
  },
  {
   "cell_type": "code",
   "execution_count": 23,
   "metadata": {},
   "outputs": [],
   "source": [
    "names = (\"mary\", \"Richard\", \"Noah\", \"KATE\")\n",
    "ages = (36, 21, 40, 28)\n",
    "people = []"
   ]
  },
  {
   "cell_type": "code",
   "execution_count": 20,
   "metadata": {},
   "outputs": [
    {
     "name": "stdout",
     "output_type": "stream",
     "text": [
      "[('Mary', 36), ('Richard', 21), ('Noah', 40), ('Kate', 28)]\n"
     ]
    }
   ],
   "source": [
    "for name, age in zip(names, ages):\n",
    "    person_data = (name.title(), age)\n",
    "    people.append(person_data)\n",
    "\n",
    "print(people)"
   ]
  },
  {
   "cell_type": "code",
   "execution_count": 21,
   "metadata": {},
   "outputs": [
    {
     "name": "stdout",
     "output_type": "stream",
     "text": [
      "[('Mary', 28), ('Richard', 28), ('Noah', 28), ('Kate', 28)]\n"
     ]
    }
   ],
   "source": [
    "people = [(name.title(), age) for name, title in zip(names, ages)]\n",
    "print(people)"
   ]
  },
  {
   "cell_type": "code",
   "execution_count": 22,
   "metadata": {},
   "outputs": [],
   "source": [
    "# Style notes \n",
    "# For simple operations\n",
    "# Break in two lines the code to make it easier to read and understand"
   ]
  },
  {
   "cell_type": "code",
   "execution_count": 24,
   "metadata": {},
   "outputs": [
    {
     "name": "stdout",
     "output_type": "stream",
     "text": [
      "[('Mary', 36), ('Richard', 21), ('Noah', 40), ('Kate', 28)]\n"
     ]
    }
   ],
   "source": [
    "people = [\n",
    "    (name.title(), age)\n",
    "    for name, age in zip(names, ages)\n",
    "]\n",
    "\n",
    "print(people)"
   ]
  },
  {
   "cell_type": "code",
   "execution_count": 25,
   "metadata": {},
   "outputs": [],
   "source": [
    "# Set Comprehensions: produce a set\n",
    "# Same internal structure like the comprehension list, but\n",
    "# Around with {}"
   ]
  },
  {
   "cell_type": "code",
   "execution_count": 26,
   "metadata": {},
   "outputs": [],
   "source": [
    "names = [\"mary\", \"Richard\", \"Noah\", \"KATE\"]"
   ]
  },
  {
   "cell_type": "code",
   "execution_count": 27,
   "metadata": {},
   "outputs": [],
   "source": [
    "names = {name.title() for name in names}"
   ]
  },
  {
   "cell_type": "code",
   "execution_count": 28,
   "metadata": {},
   "outputs": [
    {
     "data": {
      "text/plain": [
       "{'Kate', 'Mary', 'Noah', 'Richard'}"
      ]
     },
     "execution_count": 28,
     "metadata": {},
     "output_type": "execute_result"
    }
   ],
   "source": [
    "names"
   ]
  },
  {
   "cell_type": "code",
   "execution_count": 29,
   "metadata": {},
   "outputs": [],
   "source": [
    "# Dictionary comprehensions\n",
    "# value = key:value\n",
    "# Surround it by {}"
   ]
  },
  {
   "cell_type": "code",
   "execution_count": 37,
   "metadata": {},
   "outputs": [],
   "source": [
    "student_ids = (112343, 134555, 113826, 124888)\n",
    "names = (\"mary\", \"Richard\", \"Noah\", \"KATE\")\n",
    "students = {}"
   ]
  },
  {
   "cell_type": "code",
   "execution_count": 36,
   "metadata": {},
   "outputs": [
    {
     "name": "stdout",
     "output_type": "stream",
     "text": [
      "{112343: 'Mary', 134555: 'Richard', 113826: 'Noah', 124888: 'Kate'}\n"
     ]
    }
   ],
   "source": [
    "for student_id, name in zip(student_ids, names):\n",
    "    student = {student_id: name.title()}\n",
    "    students.update(student)\n",
    "    \n",
    "print(students)"
   ]
  },
  {
   "cell_type": "code",
   "execution_count": 39,
   "metadata": {},
   "outputs": [
    {
     "name": "stdout",
     "output_type": "stream",
     "text": [
      "{112343: 'Mary', 134555: 'Richard', 113826: 'Noah', 124888: 'Kate'}\n"
     ]
    }
   ],
   "source": [
    "students = {\n",
    "    student_id: name.title()\n",
    "    for student_id, name in zip(student_ids, names)\n",
    "}\n",
    "\n",
    "print(students)"
   ]
  },
  {
   "cell_type": "markdown",
   "metadata": {},
   "source": [
    "### Exercises"
   ]
  },
  {
   "cell_type": "code",
   "execution_count": 43,
   "metadata": {},
   "outputs": [],
   "source": [
    "# Exercise 1: conver a for loop into a comprehension"
   ]
  },
  {
   "cell_type": "code",
   "execution_count": 45,
   "metadata": {},
   "outputs": [],
   "source": [
    "numbers = [1, 2, 3, 4, 5]\n",
    "squares = []"
   ]
  },
  {
   "cell_type": "code",
   "execution_count": 46,
   "metadata": {},
   "outputs": [
    {
     "name": "stdout",
     "output_type": "stream",
     "text": [
      "[1, 4, 9, 16, 25]\n"
     ]
    }
   ],
   "source": [
    "for number in numbers:\n",
    "    squares.append(number ** 2)\n",
    "\n",
    "print(squares)"
   ]
  },
  {
   "cell_type": "code",
   "execution_count": 42,
   "metadata": {},
   "outputs": [
    {
     "name": "stdout",
     "output_type": "stream",
     "text": [
      "[1, 4, 9, 16, 25]\n"
     ]
    }
   ],
   "source": [
    "numbers = [\n",
    "    number ** 2\n",
    "    for number in numbers\n",
    "]\n",
    "\n",
    "print(numbers)"
   ]
  },
  {
   "cell_type": "code",
   "execution_count": 47,
   "metadata": {},
   "outputs": [],
   "source": [
    "# Exercise 2: Use a dictionary comprehension to create a new dictionary - Each value is title case"
   ]
  },
  {
   "cell_type": "code",
   "execution_count": 64,
   "metadata": {},
   "outputs": [],
   "source": [
    "movie = {\n",
    "    \"title\": \"thor: ragnarok\",\n",
    "    \"director\": \"taika waititi\",\n",
    "    \"producer\": \"kevin feige\",\n",
    "    \"production_company\": \"marvel studios\"\n",
    "}\n",
    "\n",
    "updated_movie = {}"
   ]
  },
  {
   "cell_type": "code",
   "execution_count": 62,
   "metadata": {},
   "outputs": [
    {
     "name": "stdout",
     "output_type": "stream",
     "text": [
      "{'title': 'Thor: Ragnarok', 'director': 'Taika Waititi', 'producer': 'Kevin Feige', 'production_company': 'Marvel Studios'}\n"
     ]
    }
   ],
   "source": [
    "for key, value in movie.items():\n",
    "    updated_movie.update({key: value.title()})\n",
    "\n",
    "print(updated_movie)\n",
    "\n",
    "# Used items method because we need the keys and values, otherwise the for loop will return only the keys"
   ]
  },
  {
   "cell_type": "code",
   "execution_count": 65,
   "metadata": {},
   "outputs": [
    {
     "name": "stdout",
     "output_type": "stream",
     "text": [
      "{'thor: ragnarok': 'Title', 'taika waititi': 'Director', 'kevin feige': 'Producer', 'marvel studios': 'Production_Company'}\n"
     ]
    }
   ],
   "source": [
    "movie = {\n",
    "    key: value.title()\n",
    "    for value, key in movie.items()\n",
    "}\n",
    "\n",
    "print(movie)"
   ]
  },
  {
   "cell_type": "code",
   "execution_count": null,
   "metadata": {},
   "outputs": [],
   "source": []
  }
 ],
 "metadata": {
  "kernelspec": {
   "display_name": "Python 3.8.5 64-bit",
   "language": "python",
   "name": "python38564bit087f84167b174d959d40dbfe79d0aa56"
  },
  "language_info": {
   "codemirror_mode": {
    "name": "ipython",
    "version": 3
   },
   "file_extension": ".py",
   "mimetype": "text/x-python",
   "name": "python",
   "nbconvert_exporter": "python",
   "pygments_lexer": "ipython3",
   "version": "3.8.8"
  }
 },
 "nbformat": 4,
 "nbformat_minor": 4
}
